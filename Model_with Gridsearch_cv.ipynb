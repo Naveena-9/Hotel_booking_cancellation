{
 "cells": [
  {
   "cell_type": "code",
   "execution_count": 1,
   "id": "1f6baa7b",
   "metadata": {
    "id": "1f6baa7b"
   },
   "outputs": [],
   "source": [
    "import pandas as pd\n",
    "import seaborn as sns\n",
    "import statsmodels.api as sm\n",
    "import numpy as np\n",
    "import matplotlib.pyplot as plt"
   ]
  },
  {
   "cell_type": "code",
   "execution_count": 2,
   "id": "36PQeAbdHyr8",
   "metadata": {
    "id": "36PQeAbdHyr8"
   },
   "outputs": [],
   "source": [
    "df = pd.read_csv('hotel_booking.csv')"
   ]
  },
  {
   "cell_type": "code",
   "execution_count": 3,
   "id": "b3ed7ab4",
   "metadata": {
    "id": "b3ed7ab4"
   },
   "outputs": [
    {
     "data": {
      "text/html": [
       "<div>\n",
       "<style scoped>\n",
       "    .dataframe tbody tr th:only-of-type {\n",
       "        vertical-align: middle;\n",
       "    }\n",
       "\n",
       "    .dataframe tbody tr th {\n",
       "        vertical-align: top;\n",
       "    }\n",
       "\n",
       "    .dataframe thead th {\n",
       "        text-align: right;\n",
       "    }\n",
       "</style>\n",
       "<table border=\"1\" class=\"dataframe\">\n",
       "  <thead>\n",
       "    <tr style=\"text-align: right;\">\n",
       "      <th></th>\n",
       "      <th>hotel</th>\n",
       "      <th>is_canceled</th>\n",
       "      <th>lead_time</th>\n",
       "      <th>arrival_date_year</th>\n",
       "      <th>arrival_date_month</th>\n",
       "      <th>arrival_date_week_number</th>\n",
       "      <th>arrival_date_day_of_month</th>\n",
       "      <th>stays_in_weekend_nights</th>\n",
       "      <th>stays_in_week_nights</th>\n",
       "      <th>adults</th>\n",
       "      <th>...</th>\n",
       "      <th>customer_type</th>\n",
       "      <th>adr</th>\n",
       "      <th>required_car_parking_spaces</th>\n",
       "      <th>total_of_special_requests</th>\n",
       "      <th>reservation_status</th>\n",
       "      <th>reservation_status_date</th>\n",
       "      <th>name</th>\n",
       "      <th>email</th>\n",
       "      <th>phone-number</th>\n",
       "      <th>credit_card</th>\n",
       "    </tr>\n",
       "  </thead>\n",
       "  <tbody>\n",
       "    <tr>\n",
       "      <th>0</th>\n",
       "      <td>Resort Hotel</td>\n",
       "      <td>0</td>\n",
       "      <td>342</td>\n",
       "      <td>2015</td>\n",
       "      <td>July</td>\n",
       "      <td>27</td>\n",
       "      <td>1</td>\n",
       "      <td>0</td>\n",
       "      <td>0</td>\n",
       "      <td>2</td>\n",
       "      <td>...</td>\n",
       "      <td>Transient</td>\n",
       "      <td>0.0</td>\n",
       "      <td>0</td>\n",
       "      <td>0</td>\n",
       "      <td>Check-Out</td>\n",
       "      <td>2015-07-01</td>\n",
       "      <td>Ernest Barnes</td>\n",
       "      <td>Ernest.Barnes31@outlook.com</td>\n",
       "      <td>669-792-1661</td>\n",
       "      <td>************4322</td>\n",
       "    </tr>\n",
       "    <tr>\n",
       "      <th>1</th>\n",
       "      <td>Resort Hotel</td>\n",
       "      <td>0</td>\n",
       "      <td>737</td>\n",
       "      <td>2015</td>\n",
       "      <td>July</td>\n",
       "      <td>27</td>\n",
       "      <td>1</td>\n",
       "      <td>0</td>\n",
       "      <td>0</td>\n",
       "      <td>2</td>\n",
       "      <td>...</td>\n",
       "      <td>Transient</td>\n",
       "      <td>0.0</td>\n",
       "      <td>0</td>\n",
       "      <td>0</td>\n",
       "      <td>Check-Out</td>\n",
       "      <td>2015-07-01</td>\n",
       "      <td>Andrea Baker</td>\n",
       "      <td>Andrea_Baker94@aol.com</td>\n",
       "      <td>858-637-6955</td>\n",
       "      <td>************9157</td>\n",
       "    </tr>\n",
       "    <tr>\n",
       "      <th>2</th>\n",
       "      <td>Resort Hotel</td>\n",
       "      <td>0</td>\n",
       "      <td>7</td>\n",
       "      <td>2015</td>\n",
       "      <td>July</td>\n",
       "      <td>27</td>\n",
       "      <td>1</td>\n",
       "      <td>0</td>\n",
       "      <td>1</td>\n",
       "      <td>1</td>\n",
       "      <td>...</td>\n",
       "      <td>Transient</td>\n",
       "      <td>75.0</td>\n",
       "      <td>0</td>\n",
       "      <td>0</td>\n",
       "      <td>Check-Out</td>\n",
       "      <td>2015-07-02</td>\n",
       "      <td>Rebecca Parker</td>\n",
       "      <td>Rebecca_Parker@comcast.net</td>\n",
       "      <td>652-885-2745</td>\n",
       "      <td>************3734</td>\n",
       "    </tr>\n",
       "  </tbody>\n",
       "</table>\n",
       "<p>3 rows × 36 columns</p>\n",
       "</div>"
      ],
      "text/plain": [
       "          hotel  is_canceled  lead_time  arrival_date_year arrival_date_month  \\\n",
       "0  Resort Hotel            0        342               2015               July   \n",
       "1  Resort Hotel            0        737               2015               July   \n",
       "2  Resort Hotel            0          7               2015               July   \n",
       "\n",
       "   arrival_date_week_number  arrival_date_day_of_month  \\\n",
       "0                        27                          1   \n",
       "1                        27                          1   \n",
       "2                        27                          1   \n",
       "\n",
       "   stays_in_weekend_nights  stays_in_week_nights  adults  ...  customer_type  \\\n",
       "0                        0                     0       2  ...      Transient   \n",
       "1                        0                     0       2  ...      Transient   \n",
       "2                        0                     1       1  ...      Transient   \n",
       "\n",
       "    adr required_car_parking_spaces total_of_special_requests  \\\n",
       "0   0.0                           0                         0   \n",
       "1   0.0                           0                         0   \n",
       "2  75.0                           0                         0   \n",
       "\n",
       "  reservation_status reservation_status_date            name  \\\n",
       "0          Check-Out              2015-07-01   Ernest Barnes   \n",
       "1          Check-Out              2015-07-01    Andrea Baker   \n",
       "2          Check-Out              2015-07-02  Rebecca Parker   \n",
       "\n",
       "                         email  phone-number       credit_card  \n",
       "0  Ernest.Barnes31@outlook.com  669-792-1661  ************4322  \n",
       "1       Andrea_Baker94@aol.com  858-637-6955  ************9157  \n",
       "2   Rebecca_Parker@comcast.net  652-885-2745  ************3734  \n",
       "\n",
       "[3 rows x 36 columns]"
      ]
     },
     "execution_count": 3,
     "metadata": {},
     "output_type": "execute_result"
    }
   ],
   "source": [
    "df.head(3)"
   ]
  },
  {
   "cell_type": "code",
   "execution_count": 4,
   "id": "6db591f4",
   "metadata": {
    "id": "6db591f4"
   },
   "outputs": [],
   "source": [
    "df.drop(['name','email','phone-number','credit_card'],axis = 1, inplace= True)"
   ]
  },
  {
   "cell_type": "code",
   "execution_count": 5,
   "id": "be97dc09",
   "metadata": {
    "id": "be97dc09"
   },
   "outputs": [
    {
     "data": {
      "text/plain": [
       "hotel                                  0\n",
       "total_of_special_requests              0\n",
       "required_car_parking_spaces            0\n",
       "adr                                    0\n",
       "customer_type                          0\n",
       "days_in_waiting_list                   0\n",
       "deposit_type                           0\n",
       "booking_changes                        0\n",
       "assigned_room_type                     0\n",
       "reserved_room_type                     0\n",
       "previous_bookings_not_canceled         0\n",
       "previous_cancellations                 0\n",
       "is_repeated_guest                      0\n",
       "reservation_status                     0\n",
       "distribution_channel                   0\n",
       "reservation_status_date                0\n",
       "meal                                   0\n",
       "babies                                 0\n",
       "adults                                 0\n",
       "stays_in_week_nights                   0\n",
       "stays_in_weekend_nights                0\n",
       "arrival_date_day_of_month              0\n",
       "market_segment                         0\n",
       "is_canceled                            0\n",
       "arrival_date_week_number               0\n",
       "arrival_date_month                     0\n",
       "arrival_date_year                      0\n",
       "lead_time                              0\n",
       "children                               4\n",
       "country                              488\n",
       "agent                              16340\n",
       "company                           112593\n",
       "dtype: int64"
      ]
     },
     "execution_count": 5,
     "metadata": {},
     "output_type": "execute_result"
    }
   ],
   "source": [
    "df.isnull().sum().sort_values(ascending = True)"
   ]
  },
  {
   "cell_type": "code",
   "execution_count": 6,
   "id": "c5d960ea",
   "metadata": {
    "id": "c5d960ea"
   },
   "outputs": [],
   "source": [
    "df['agent'].fillna('0', inplace=True)"
   ]
  },
  {
   "cell_type": "code",
   "execution_count": 7,
   "id": "5e922eb8",
   "metadata": {
    "id": "5e922eb8"
   },
   "outputs": [],
   "source": [
    "df['company'].fillna('0', inplace=True)"
   ]
  },
  {
   "cell_type": "code",
   "execution_count": 8,
   "id": "136697d5",
   "metadata": {
    "id": "136697d5"
   },
   "outputs": [],
   "source": [
    "df['children'].fillna('0', inplace=True)"
   ]
  },
  {
   "cell_type": "code",
   "execution_count": 9,
   "id": "OdAufT0U72c1",
   "metadata": {
    "id": "OdAufT0U72c1"
   },
   "outputs": [],
   "source": [
    "df.dropna(axis=0, inplace = True, subset=['country'])"
   ]
  },
  {
   "cell_type": "code",
   "execution_count": 10,
   "id": "01b3ab7b",
   "metadata": {
    "id": "01b3ab7b"
   },
   "outputs": [
    {
     "data": {
      "text/plain": [
       "hotel                             0\n",
       "is_canceled                       0\n",
       "lead_time                         0\n",
       "arrival_date_year                 0\n",
       "arrival_date_month                0\n",
       "arrival_date_week_number          0\n",
       "arrival_date_day_of_month         0\n",
       "stays_in_weekend_nights           0\n",
       "stays_in_week_nights              0\n",
       "adults                            0\n",
       "children                          0\n",
       "babies                            0\n",
       "meal                              0\n",
       "country                           0\n",
       "market_segment                    0\n",
       "distribution_channel              0\n",
       "is_repeated_guest                 0\n",
       "previous_cancellations            0\n",
       "previous_bookings_not_canceled    0\n",
       "reserved_room_type                0\n",
       "assigned_room_type                0\n",
       "booking_changes                   0\n",
       "deposit_type                      0\n",
       "agent                             0\n",
       "company                           0\n",
       "days_in_waiting_list              0\n",
       "customer_type                     0\n",
       "adr                               0\n",
       "required_car_parking_spaces       0\n",
       "total_of_special_requests         0\n",
       "reservation_status                0\n",
       "reservation_status_date           0\n",
       "dtype: int64"
      ]
     },
     "execution_count": 10,
     "metadata": {},
     "output_type": "execute_result"
    }
   ],
   "source": [
    "df.isnull().sum()"
   ]
  },
  {
   "cell_type": "code",
   "execution_count": 11,
   "id": "a49b6847",
   "metadata": {
    "id": "a49b6847"
   },
   "outputs": [
    {
     "data": {
      "text/plain": [
       "hotel                              object\n",
       "is_canceled                         int64\n",
       "lead_time                           int64\n",
       "arrival_date_year                   int64\n",
       "arrival_date_month                 object\n",
       "arrival_date_week_number            int64\n",
       "arrival_date_day_of_month           int64\n",
       "stays_in_weekend_nights             int64\n",
       "stays_in_week_nights                int64\n",
       "adults                              int64\n",
       "children                           object\n",
       "babies                              int64\n",
       "meal                               object\n",
       "country                            object\n",
       "market_segment                     object\n",
       "distribution_channel               object\n",
       "is_repeated_guest                   int64\n",
       "previous_cancellations              int64\n",
       "previous_bookings_not_canceled      int64\n",
       "reserved_room_type                 object\n",
       "assigned_room_type                 object\n",
       "booking_changes                     int64\n",
       "deposit_type                       object\n",
       "agent                              object\n",
       "company                            object\n",
       "days_in_waiting_list                int64\n",
       "customer_type                      object\n",
       "adr                               float64\n",
       "required_car_parking_spaces         int64\n",
       "total_of_special_requests           int64\n",
       "reservation_status                 object\n",
       "reservation_status_date            object\n",
       "dtype: object"
      ]
     },
     "execution_count": 11,
     "metadata": {},
     "output_type": "execute_result"
    }
   ],
   "source": [
    "df.dtypes"
   ]
  },
  {
   "cell_type": "code",
   "execution_count": 12,
   "id": "1efc9b53",
   "metadata": {
    "id": "1efc9b53"
   },
   "outputs": [],
   "source": [
    "df['children'] = df['children'].astype(int)\n",
    "\n",
    "df['reservation_status_date'] = pd.to_datetime(df['reservation_status_date'])"
   ]
  },
  {
   "cell_type": "code",
   "execution_count": 13,
   "id": "c4377710",
   "metadata": {},
   "outputs": [],
   "source": [
    "df['reservation date'] = pd.DatetimeIndex(df['reservation_status_date']).day\n",
    "df['reservation month'] = pd.DatetimeIndex(df['reservation_status_date']).month\n",
    "df['reservation year'] = pd.DatetimeIndex(df['reservation_status_date']).year"
   ]
  },
  {
   "cell_type": "code",
   "execution_count": 14,
   "id": "174a8511",
   "metadata": {
    "id": "174a8511"
   },
   "outputs": [],
   "source": [
    "month_number={'January':1,\n",
    "             'February':2,\n",
    "             'March':3,\n",
    "             'April':4,\n",
    "             'May':5,\n",
    "             'June':6,\n",
    "             'July':7,\n",
    "             'August':8,\n",
    "             'September':9,\n",
    "             'October':10,\n",
    "             'November':11,\n",
    "             'December':12}\n",
    "\n",
    "df['arrival_date_month_number']=df['arrival_date_month'].apply(lambda x:month_number[x])\n",
    "df['arrival_date_month_number']=df['arrival_date_month_number'].astype('category')\n",
    "\n"
   ]
  },
  {
   "cell_type": "code",
   "execution_count": 15,
   "id": "7871fab8",
   "metadata": {
    "id": "7871fab8"
   },
   "outputs": [],
   "source": [
    "df['date_of_arrival']=pd.to_datetime(df['arrival_date_year'].astype(str) \\\n",
    "                                     +df['arrival_date_month_number'].astype(str) \\\n",
    "                                     +df['arrival_date_day_of_month'].astype(str),format=\"%Y%m%d\")"
   ]
  },
  {
   "cell_type": "code",
   "execution_count": null,
   "id": "e0daba7a",
   "metadata": {
    "id": "e0daba7a"
   },
   "outputs": [],
   "source": []
  },
  {
   "cell_type": "code",
   "execution_count": 16,
   "id": "782c3c70",
   "metadata": {
    "id": "782c3c70"
   },
   "outputs": [
    {
     "data": {
      "text/plain": [
       "701"
      ]
     },
     "execution_count": 16,
     "metadata": {},
     "output_type": "execute_result"
    }
   ],
   "source": [
    "# Number of one day stays\n",
    "df[(df['stays_in_week_nights']==0) & (df['stays_in_weekend_nights']==0)]['hotel'].count()"
   ]
  },
  {
   "cell_type": "code",
   "execution_count": 17,
   "id": "fae2101a",
   "metadata": {
    "id": "fae2101a"
   },
   "outputs": [
    {
     "data": {
      "text/plain": [
       "array([ 0,  1,  2,  3,  4,  5,  6,  7, 15, 10, 11, 14,  8,  9, 21, 13, 12,\n",
       "       18, 46, 28, 17, 19, 22, 23, 16, 29, 42, 20, 26, 33, 30, 56, 25, 27,\n",
       "       35, 45, 38, 24, 48, 49, 57, 34, 43])"
      ]
     },
     "execution_count": 17,
     "metadata": {},
     "output_type": "execute_result"
    }
   ],
   "source": [
    "\n",
    "df['total_night_stays']=df['stays_in_week_nights'].astype(int)+df['stays_in_weekend_nights'].astype(int)\n",
    "df['total_night_stays'].unique()"
   ]
  },
  {
   "cell_type": "code",
   "execution_count": 18,
   "id": "82763d50",
   "metadata": {
    "id": "82763d50"
   },
   "outputs": [],
   "source": [
    "df['One_day_stay']=(df['reservation_status']=='Check-Out')&(df['total_night_stays']==0)"
   ]
  },
  {
   "cell_type": "code",
   "execution_count": 19,
   "id": "b39b4cae",
   "metadata": {
    "id": "b39b4cae"
   },
   "outputs": [
    {
     "data": {
      "text/plain": [
       "array([ True, False])"
      ]
     },
     "execution_count": 19,
     "metadata": {},
     "output_type": "execute_result"
    }
   ],
   "source": [
    "df['One_day_stay'].unique()"
   ]
  },
  {
   "cell_type": "code",
   "execution_count": 20,
   "id": "c592be41",
   "metadata": {
    "id": "c592be41"
   },
   "outputs": [
    {
     "data": {
      "text/plain": [
       "is_canceled                       1.000000\n",
       "lead_time                         0.291940\n",
       "arrival_date_year                 0.016339\n",
       "arrival_date_week_number          0.007481\n",
       "arrival_date_day_of_month        -0.006173\n",
       "stays_in_weekend_nights          -0.002639\n",
       "stays_in_week_nights              0.024103\n",
       "adults                            0.058408\n",
       "children                          0.004740\n",
       "babies                           -0.032523\n",
       "is_repeated_guest                -0.085185\n",
       "previous_cancellations            0.109914\n",
       "previous_bookings_not_canceled   -0.055495\n",
       "booking_changes                  -0.144669\n",
       "days_in_waiting_list              0.054008\n",
       "adr                               0.046133\n",
       "required_car_parking_spaces      -0.194801\n",
       "total_of_special_requests        -0.235595\n",
       "reservation date                 -0.034116\n",
       "reservation month                -0.069340\n",
       "reservation year                 -0.117585\n",
       "total_night_stays                 0.016963\n",
       "One_day_stay                     -0.058077\n",
       "Name: is_canceled, dtype: float64"
      ]
     },
     "execution_count": 20,
     "metadata": {},
     "output_type": "execute_result"
    }
   ],
   "source": [
    "df.corr()['is_canceled']"
   ]
  },
  {
   "cell_type": "code",
   "execution_count": 21,
   "id": "cbfbd872",
   "metadata": {
    "id": "cbfbd872"
   },
   "outputs": [
    {
     "name": "stdout",
     "output_type": "stream",
     "text": [
      "<class 'pandas.core.frame.DataFrame'>\n",
      "Int64Index: 118902 entries, 0 to 119389\n",
      "Data columns (total 39 columns):\n",
      " #   Column                          Non-Null Count   Dtype         \n",
      "---  ------                          --------------   -----         \n",
      " 0   hotel                           118902 non-null  object        \n",
      " 1   is_canceled                     118902 non-null  int64         \n",
      " 2   lead_time                       118902 non-null  int64         \n",
      " 3   arrival_date_year               118902 non-null  int64         \n",
      " 4   arrival_date_month              118902 non-null  object        \n",
      " 5   arrival_date_week_number        118902 non-null  int64         \n",
      " 6   arrival_date_day_of_month       118902 non-null  int64         \n",
      " 7   stays_in_weekend_nights         118902 non-null  int64         \n",
      " 8   stays_in_week_nights            118902 non-null  int64         \n",
      " 9   adults                          118902 non-null  int64         \n",
      " 10  children                        118902 non-null  int64         \n",
      " 11  babies                          118902 non-null  int64         \n",
      " 12  meal                            118902 non-null  object        \n",
      " 13  country                         118902 non-null  object        \n",
      " 14  market_segment                  118902 non-null  object        \n",
      " 15  distribution_channel            118902 non-null  object        \n",
      " 16  is_repeated_guest               118902 non-null  int64         \n",
      " 17  previous_cancellations          118902 non-null  int64         \n",
      " 18  previous_bookings_not_canceled  118902 non-null  int64         \n",
      " 19  reserved_room_type              118902 non-null  object        \n",
      " 20  assigned_room_type              118902 non-null  object        \n",
      " 21  booking_changes                 118902 non-null  int64         \n",
      " 22  deposit_type                    118902 non-null  object        \n",
      " 23  agent                           118902 non-null  object        \n",
      " 24  company                         118902 non-null  object        \n",
      " 25  days_in_waiting_list            118902 non-null  int64         \n",
      " 26  customer_type                   118902 non-null  object        \n",
      " 27  adr                             118902 non-null  float64       \n",
      " 28  required_car_parking_spaces     118902 non-null  int64         \n",
      " 29  total_of_special_requests       118902 non-null  int64         \n",
      " 30  reservation_status              118902 non-null  object        \n",
      " 31  reservation_status_date         118902 non-null  datetime64[ns]\n",
      " 32  reservation date                118902 non-null  int64         \n",
      " 33  reservation month               118902 non-null  int64         \n",
      " 34  reservation year                118902 non-null  int64         \n",
      " 35  arrival_date_month_number       118902 non-null  category      \n",
      " 36  date_of_arrival                 118902 non-null  datetime64[ns]\n",
      " 37  total_night_stays               118902 non-null  int64         \n",
      " 38  One_day_stay                    118902 non-null  bool          \n",
      "dtypes: bool(1), category(1), datetime64[ns](2), float64(1), int64(21), object(13)\n",
      "memory usage: 34.7+ MB\n"
     ]
    }
   ],
   "source": [
    "df.info()"
   ]
  },
  {
   "cell_type": "code",
   "execution_count": 22,
   "id": "b818cc87",
   "metadata": {
    "id": "b818cc87"
   },
   "outputs": [],
   "source": [
    "df[\"One_day_stay\"] = df[\"One_day_stay\"].apply(lambda x: 0 if x =='True' else 1)"
   ]
  },
  {
   "cell_type": "code",
   "execution_count": 23,
   "id": "a6be600f",
   "metadata": {
    "id": "a6be600f"
   },
   "outputs": [],
   "source": [
    "df['date_of_arrival']=df['date_of_arrival'].astype(int)"
   ]
  },
  {
   "cell_type": "code",
   "execution_count": 24,
   "id": "b1346d5e",
   "metadata": {
    "id": "b1346d5e"
   },
   "outputs": [
    {
     "data": {
      "text/html": [
       "<div>\n",
       "<style scoped>\n",
       "    .dataframe tbody tr th:only-of-type {\n",
       "        vertical-align: middle;\n",
       "    }\n",
       "\n",
       "    .dataframe tbody tr th {\n",
       "        vertical-align: top;\n",
       "    }\n",
       "\n",
       "    .dataframe thead th {\n",
       "        text-align: right;\n",
       "    }\n",
       "</style>\n",
       "<table border=\"1\" class=\"dataframe\">\n",
       "  <thead>\n",
       "    <tr style=\"text-align: right;\">\n",
       "      <th></th>\n",
       "      <th>hotel</th>\n",
       "      <th>is_canceled</th>\n",
       "      <th>lead_time</th>\n",
       "      <th>arrival_date_year</th>\n",
       "      <th>arrival_date_month</th>\n",
       "      <th>arrival_date_week_number</th>\n",
       "      <th>arrival_date_day_of_month</th>\n",
       "      <th>stays_in_weekend_nights</th>\n",
       "      <th>stays_in_week_nights</th>\n",
       "      <th>adults</th>\n",
       "      <th>...</th>\n",
       "      <th>total_of_special_requests</th>\n",
       "      <th>reservation_status</th>\n",
       "      <th>reservation_status_date</th>\n",
       "      <th>reservation date</th>\n",
       "      <th>reservation month</th>\n",
       "      <th>reservation year</th>\n",
       "      <th>arrival_date_month_number</th>\n",
       "      <th>date_of_arrival</th>\n",
       "      <th>total_night_stays</th>\n",
       "      <th>One_day_stay</th>\n",
       "    </tr>\n",
       "  </thead>\n",
       "  <tbody>\n",
       "    <tr>\n",
       "      <th>14969</th>\n",
       "      <td>Resort Hotel</td>\n",
       "      <td>0</td>\n",
       "      <td>195</td>\n",
       "      <td>2017</td>\n",
       "      <td>March</td>\n",
       "      <td>10</td>\n",
       "      <td>5</td>\n",
       "      <td>4</td>\n",
       "      <td>6</td>\n",
       "      <td>2</td>\n",
       "      <td>...</td>\n",
       "      <td>0</td>\n",
       "      <td>Check-Out</td>\n",
       "      <td>2017-03-15</td>\n",
       "      <td>15</td>\n",
       "      <td>3</td>\n",
       "      <td>2017</td>\n",
       "      <td>3</td>\n",
       "      <td>1488672000000000000</td>\n",
       "      <td>10</td>\n",
       "      <td>1</td>\n",
       "    </tr>\n",
       "  </tbody>\n",
       "</table>\n",
       "<p>1 rows × 39 columns</p>\n",
       "</div>"
      ],
      "text/plain": [
       "              hotel  is_canceled  lead_time  arrival_date_year  \\\n",
       "14969  Resort Hotel            0        195               2017   \n",
       "\n",
       "      arrival_date_month  arrival_date_week_number  arrival_date_day_of_month  \\\n",
       "14969              March                        10                          5   \n",
       "\n",
       "       stays_in_weekend_nights  stays_in_week_nights  adults  ...  \\\n",
       "14969                        4                     6       2  ...   \n",
       "\n",
       "       total_of_special_requests  reservation_status reservation_status_date  \\\n",
       "14969                          0           Check-Out              2017-03-15   \n",
       "\n",
       "      reservation date reservation month reservation year  \\\n",
       "14969               15                 3             2017   \n",
       "\n",
       "       arrival_date_month_number      date_of_arrival  total_night_stays  \\\n",
       "14969                          3  1488672000000000000                 10   \n",
       "\n",
       "      One_day_stay  \n",
       "14969            1  \n",
       "\n",
       "[1 rows x 39 columns]"
      ]
     },
     "execution_count": 24,
     "metadata": {},
     "output_type": "execute_result"
    }
   ],
   "source": [
    "df[df.adr < 0]"
   ]
  },
  {
   "cell_type": "code",
   "execution_count": 25,
   "id": "9400dc6f",
   "metadata": {
    "id": "9400dc6f"
   },
   "outputs": [],
   "source": [
    "# there are a value of a adr columns that below 0 since it is impossible for hotel to owe money to the guest \n",
    "df = df.drop(df[df.adr < 0].index)"
   ]
  },
  {
   "cell_type": "code",
   "execution_count": 26,
   "id": "cd5aa9bf",
   "metadata": {
    "id": "cd5aa9bf"
   },
   "outputs": [
    {
     "data": {
      "text/html": [
       "<div>\n",
       "<style scoped>\n",
       "    .dataframe tbody tr th:only-of-type {\n",
       "        vertical-align: middle;\n",
       "    }\n",
       "\n",
       "    .dataframe tbody tr th {\n",
       "        vertical-align: top;\n",
       "    }\n",
       "\n",
       "    .dataframe thead th {\n",
       "        text-align: right;\n",
       "    }\n",
       "</style>\n",
       "<table border=\"1\" class=\"dataframe\">\n",
       "  <thead>\n",
       "    <tr style=\"text-align: right;\">\n",
       "      <th></th>\n",
       "      <th>hotel</th>\n",
       "      <th>is_canceled</th>\n",
       "      <th>lead_time</th>\n",
       "      <th>arrival_date_year</th>\n",
       "      <th>arrival_date_month</th>\n",
       "      <th>arrival_date_week_number</th>\n",
       "      <th>arrival_date_day_of_month</th>\n",
       "      <th>stays_in_weekend_nights</th>\n",
       "      <th>stays_in_week_nights</th>\n",
       "      <th>adults</th>\n",
       "      <th>...</th>\n",
       "      <th>total_of_special_requests</th>\n",
       "      <th>reservation_status</th>\n",
       "      <th>reservation_status_date</th>\n",
       "      <th>reservation date</th>\n",
       "      <th>reservation month</th>\n",
       "      <th>reservation year</th>\n",
       "      <th>arrival_date_month_number</th>\n",
       "      <th>date_of_arrival</th>\n",
       "      <th>total_night_stays</th>\n",
       "      <th>One_day_stay</th>\n",
       "    </tr>\n",
       "  </thead>\n",
       "  <tbody>\n",
       "    <tr>\n",
       "      <th>48515</th>\n",
       "      <td>City Hotel</td>\n",
       "      <td>1</td>\n",
       "      <td>35</td>\n",
       "      <td>2016</td>\n",
       "      <td>March</td>\n",
       "      <td>13</td>\n",
       "      <td>25</td>\n",
       "      <td>0</td>\n",
       "      <td>1</td>\n",
       "      <td>2</td>\n",
       "      <td>...</td>\n",
       "      <td>0</td>\n",
       "      <td>Canceled</td>\n",
       "      <td>2016-02-19</td>\n",
       "      <td>19</td>\n",
       "      <td>2</td>\n",
       "      <td>2016</td>\n",
       "      <td>3</td>\n",
       "      <td>1458864000000000000</td>\n",
       "      <td>1</td>\n",
       "      <td>1</td>\n",
       "    </tr>\n",
       "  </tbody>\n",
       "</table>\n",
       "<p>1 rows × 39 columns</p>\n",
       "</div>"
      ],
      "text/plain": [
       "            hotel  is_canceled  lead_time  arrival_date_year  \\\n",
       "48515  City Hotel            1         35               2016   \n",
       "\n",
       "      arrival_date_month  arrival_date_week_number  arrival_date_day_of_month  \\\n",
       "48515              March                        13                         25   \n",
       "\n",
       "       stays_in_weekend_nights  stays_in_week_nights  adults  ...  \\\n",
       "48515                        0                     1       2  ...   \n",
       "\n",
       "       total_of_special_requests  reservation_status reservation_status_date  \\\n",
       "48515                          0            Canceled              2016-02-19   \n",
       "\n",
       "      reservation date reservation month reservation year  \\\n",
       "48515               19                 2             2016   \n",
       "\n",
       "       arrival_date_month_number      date_of_arrival  total_night_stays  \\\n",
       "48515                          3  1458864000000000000                  1   \n",
       "\n",
       "      One_day_stay  \n",
       "48515            1  \n",
       "\n",
       "[1 rows x 39 columns]"
      ]
     },
     "execution_count": 26,
     "metadata": {},
     "output_type": "execute_result"
    }
   ],
   "source": [
    "df[df['adr']> 5000]"
   ]
  },
  {
   "cell_type": "code",
   "execution_count": 27,
   "id": "05e08589",
   "metadata": {
    "id": "05e08589"
   },
   "outputs": [],
   "source": [
    "df = df.drop(df[df.adr > 5000].index)"
   ]
  },
  {
   "cell_type": "code",
   "execution_count": 28,
   "id": "e431c61e",
   "metadata": {
    "id": "e431c61e"
   },
   "outputs": [
    {
     "name": "stdout",
     "output_type": "stream",
     "text": [
      "<class 'pandas.core.frame.DataFrame'>\n",
      "Int64Index: 118900 entries, 0 to 119389\n",
      "Data columns (total 39 columns):\n",
      " #   Column                          Non-Null Count   Dtype         \n",
      "---  ------                          --------------   -----         \n",
      " 0   hotel                           118900 non-null  object        \n",
      " 1   is_canceled                     118900 non-null  int64         \n",
      " 2   lead_time                       118900 non-null  int64         \n",
      " 3   arrival_date_year               118900 non-null  int64         \n",
      " 4   arrival_date_month              118900 non-null  object        \n",
      " 5   arrival_date_week_number        118900 non-null  int64         \n",
      " 6   arrival_date_day_of_month       118900 non-null  int64         \n",
      " 7   stays_in_weekend_nights         118900 non-null  int64         \n",
      " 8   stays_in_week_nights            118900 non-null  int64         \n",
      " 9   adults                          118900 non-null  int64         \n",
      " 10  children                        118900 non-null  int64         \n",
      " 11  babies                          118900 non-null  int64         \n",
      " 12  meal                            118900 non-null  object        \n",
      " 13  country                         118900 non-null  object        \n",
      " 14  market_segment                  118900 non-null  object        \n",
      " 15  distribution_channel            118900 non-null  object        \n",
      " 16  is_repeated_guest               118900 non-null  int64         \n",
      " 17  previous_cancellations          118900 non-null  int64         \n",
      " 18  previous_bookings_not_canceled  118900 non-null  int64         \n",
      " 19  reserved_room_type              118900 non-null  object        \n",
      " 20  assigned_room_type              118900 non-null  object        \n",
      " 21  booking_changes                 118900 non-null  int64         \n",
      " 22  deposit_type                    118900 non-null  object        \n",
      " 23  agent                           118900 non-null  object        \n",
      " 24  company                         118900 non-null  object        \n",
      " 25  days_in_waiting_list            118900 non-null  int64         \n",
      " 26  customer_type                   118900 non-null  object        \n",
      " 27  adr                             118900 non-null  float64       \n",
      " 28  required_car_parking_spaces     118900 non-null  int64         \n",
      " 29  total_of_special_requests       118900 non-null  int64         \n",
      " 30  reservation_status              118900 non-null  object        \n",
      " 31  reservation_status_date         118900 non-null  datetime64[ns]\n",
      " 32  reservation date                118900 non-null  int64         \n",
      " 33  reservation month               118900 non-null  int64         \n",
      " 34  reservation year                118900 non-null  int64         \n",
      " 35  arrival_date_month_number       118900 non-null  category      \n",
      " 36  date_of_arrival                 118900 non-null  int64         \n",
      " 37  total_night_stays               118900 non-null  int64         \n",
      " 38  One_day_stay                    118900 non-null  int64         \n",
      "dtypes: category(1), datetime64[ns](1), float64(1), int64(23), object(13)\n",
      "memory usage: 35.5+ MB\n"
     ]
    }
   ],
   "source": [
    "df.info()"
   ]
  },
  {
   "cell_type": "code",
   "execution_count": 29,
   "id": "9cb0a99b",
   "metadata": {
    "id": "9cb0a99b"
   },
   "outputs": [
    {
     "data": {
      "text/html": [
       "<div>\n",
       "<style scoped>\n",
       "    .dataframe tbody tr th:only-of-type {\n",
       "        vertical-align: middle;\n",
       "    }\n",
       "\n",
       "    .dataframe tbody tr th {\n",
       "        vertical-align: top;\n",
       "    }\n",
       "\n",
       "    .dataframe thead th {\n",
       "        text-align: right;\n",
       "    }\n",
       "</style>\n",
       "<table border=\"1\" class=\"dataframe\">\n",
       "  <thead>\n",
       "    <tr style=\"text-align: right;\">\n",
       "      <th></th>\n",
       "      <th>hotel</th>\n",
       "      <th>is_canceled</th>\n",
       "      <th>lead_time</th>\n",
       "      <th>arrival_date_year</th>\n",
       "      <th>arrival_date_month</th>\n",
       "      <th>arrival_date_week_number</th>\n",
       "      <th>arrival_date_day_of_month</th>\n",
       "      <th>stays_in_weekend_nights</th>\n",
       "      <th>stays_in_week_nights</th>\n",
       "      <th>adults</th>\n",
       "      <th>...</th>\n",
       "      <th>reservation_status</th>\n",
       "      <th>reservation_status_date</th>\n",
       "      <th>reservation date</th>\n",
       "      <th>reservation month</th>\n",
       "      <th>reservation year</th>\n",
       "      <th>arrival_date_month_number</th>\n",
       "      <th>date_of_arrival</th>\n",
       "      <th>total_night_stays</th>\n",
       "      <th>One_day_stay</th>\n",
       "      <th>kids</th>\n",
       "    </tr>\n",
       "  </thead>\n",
       "  <tbody>\n",
       "    <tr>\n",
       "      <th>0</th>\n",
       "      <td>Resort Hotel</td>\n",
       "      <td>0</td>\n",
       "      <td>342</td>\n",
       "      <td>2015</td>\n",
       "      <td>July</td>\n",
       "      <td>27</td>\n",
       "      <td>1</td>\n",
       "      <td>0</td>\n",
       "      <td>0</td>\n",
       "      <td>2</td>\n",
       "      <td>...</td>\n",
       "      <td>Check-Out</td>\n",
       "      <td>2015-07-01</td>\n",
       "      <td>1</td>\n",
       "      <td>7</td>\n",
       "      <td>2015</td>\n",
       "      <td>7</td>\n",
       "      <td>1435708800000000000</td>\n",
       "      <td>0</td>\n",
       "      <td>1</td>\n",
       "      <td>0</td>\n",
       "    </tr>\n",
       "    <tr>\n",
       "      <th>1</th>\n",
       "      <td>Resort Hotel</td>\n",
       "      <td>0</td>\n",
       "      <td>737</td>\n",
       "      <td>2015</td>\n",
       "      <td>July</td>\n",
       "      <td>27</td>\n",
       "      <td>1</td>\n",
       "      <td>0</td>\n",
       "      <td>0</td>\n",
       "      <td>2</td>\n",
       "      <td>...</td>\n",
       "      <td>Check-Out</td>\n",
       "      <td>2015-07-01</td>\n",
       "      <td>1</td>\n",
       "      <td>7</td>\n",
       "      <td>2015</td>\n",
       "      <td>7</td>\n",
       "      <td>1435708800000000000</td>\n",
       "      <td>0</td>\n",
       "      <td>1</td>\n",
       "      <td>0</td>\n",
       "    </tr>\n",
       "    <tr>\n",
       "      <th>2</th>\n",
       "      <td>Resort Hotel</td>\n",
       "      <td>0</td>\n",
       "      <td>7</td>\n",
       "      <td>2015</td>\n",
       "      <td>July</td>\n",
       "      <td>27</td>\n",
       "      <td>1</td>\n",
       "      <td>0</td>\n",
       "      <td>1</td>\n",
       "      <td>1</td>\n",
       "      <td>...</td>\n",
       "      <td>Check-Out</td>\n",
       "      <td>2015-07-02</td>\n",
       "      <td>2</td>\n",
       "      <td>7</td>\n",
       "      <td>2015</td>\n",
       "      <td>7</td>\n",
       "      <td>1435708800000000000</td>\n",
       "      <td>1</td>\n",
       "      <td>1</td>\n",
       "      <td>0</td>\n",
       "    </tr>\n",
       "    <tr>\n",
       "      <th>3</th>\n",
       "      <td>Resort Hotel</td>\n",
       "      <td>0</td>\n",
       "      <td>13</td>\n",
       "      <td>2015</td>\n",
       "      <td>July</td>\n",
       "      <td>27</td>\n",
       "      <td>1</td>\n",
       "      <td>0</td>\n",
       "      <td>1</td>\n",
       "      <td>1</td>\n",
       "      <td>...</td>\n",
       "      <td>Check-Out</td>\n",
       "      <td>2015-07-02</td>\n",
       "      <td>2</td>\n",
       "      <td>7</td>\n",
       "      <td>2015</td>\n",
       "      <td>7</td>\n",
       "      <td>1435708800000000000</td>\n",
       "      <td>1</td>\n",
       "      <td>1</td>\n",
       "      <td>0</td>\n",
       "    </tr>\n",
       "    <tr>\n",
       "      <th>4</th>\n",
       "      <td>Resort Hotel</td>\n",
       "      <td>0</td>\n",
       "      <td>14</td>\n",
       "      <td>2015</td>\n",
       "      <td>July</td>\n",
       "      <td>27</td>\n",
       "      <td>1</td>\n",
       "      <td>0</td>\n",
       "      <td>2</td>\n",
       "      <td>2</td>\n",
       "      <td>...</td>\n",
       "      <td>Check-Out</td>\n",
       "      <td>2015-07-03</td>\n",
       "      <td>3</td>\n",
       "      <td>7</td>\n",
       "      <td>2015</td>\n",
       "      <td>7</td>\n",
       "      <td>1435708800000000000</td>\n",
       "      <td>2</td>\n",
       "      <td>1</td>\n",
       "      <td>0</td>\n",
       "    </tr>\n",
       "  </tbody>\n",
       "</table>\n",
       "<p>5 rows × 40 columns</p>\n",
       "</div>"
      ],
      "text/plain": [
       "          hotel  is_canceled  lead_time  arrival_date_year arrival_date_month  \\\n",
       "0  Resort Hotel            0        342               2015               July   \n",
       "1  Resort Hotel            0        737               2015               July   \n",
       "2  Resort Hotel            0          7               2015               July   \n",
       "3  Resort Hotel            0         13               2015               July   \n",
       "4  Resort Hotel            0         14               2015               July   \n",
       "\n",
       "   arrival_date_week_number  arrival_date_day_of_month  \\\n",
       "0                        27                          1   \n",
       "1                        27                          1   \n",
       "2                        27                          1   \n",
       "3                        27                          1   \n",
       "4                        27                          1   \n",
       "\n",
       "   stays_in_weekend_nights  stays_in_week_nights  adults  ...  \\\n",
       "0                        0                     0       2  ...   \n",
       "1                        0                     0       2  ...   \n",
       "2                        0                     1       1  ...   \n",
       "3                        0                     1       1  ...   \n",
       "4                        0                     2       2  ...   \n",
       "\n",
       "   reservation_status  reservation_status_date reservation date  \\\n",
       "0           Check-Out               2015-07-01                1   \n",
       "1           Check-Out               2015-07-01                1   \n",
       "2           Check-Out               2015-07-02                2   \n",
       "3           Check-Out               2015-07-02                2   \n",
       "4           Check-Out               2015-07-03                3   \n",
       "\n",
       "  reservation month reservation year arrival_date_month_number  \\\n",
       "0                 7             2015                         7   \n",
       "1                 7             2015                         7   \n",
       "2                 7             2015                         7   \n",
       "3                 7             2015                         7   \n",
       "4                 7             2015                         7   \n",
       "\n",
       "       date_of_arrival  total_night_stays  One_day_stay kids  \n",
       "0  1435708800000000000                  0             1    0  \n",
       "1  1435708800000000000                  0             1    0  \n",
       "2  1435708800000000000                  1             1    0  \n",
       "3  1435708800000000000                  1             1    0  \n",
       "4  1435708800000000000                  2             1    0  \n",
       "\n",
       "[5 rows x 40 columns]"
      ]
     },
     "execution_count": 29,
     "metadata": {},
     "output_type": "execute_result"
    }
   ],
   "source": [
    "df['kids'] = df['children'] + df['babies']\n",
    "df.head()"
   ]
  },
  {
   "cell_type": "code",
   "execution_count": 30,
   "id": "2a744a20",
   "metadata": {
    "id": "2a744a20"
   },
   "outputs": [],
   "source": [
    "df.drop(['children','babies'],axis = 1, inplace = True)"
   ]
  },
  {
   "cell_type": "code",
   "execution_count": 31,
   "id": "fc30571a",
   "metadata": {
    "id": "fc30571a"
   },
   "outputs": [
    {
     "data": {
      "text/html": [
       "<div>\n",
       "<style scoped>\n",
       "    .dataframe tbody tr th:only-of-type {\n",
       "        vertical-align: middle;\n",
       "    }\n",
       "\n",
       "    .dataframe tbody tr th {\n",
       "        vertical-align: top;\n",
       "    }\n",
       "\n",
       "    .dataframe thead th {\n",
       "        text-align: right;\n",
       "    }\n",
       "</style>\n",
       "<table border=\"1\" class=\"dataframe\">\n",
       "  <thead>\n",
       "    <tr style=\"text-align: right;\">\n",
       "      <th></th>\n",
       "      <th>hotel</th>\n",
       "      <th>is_canceled</th>\n",
       "      <th>lead_time</th>\n",
       "      <th>arrival_date_year</th>\n",
       "      <th>arrival_date_month</th>\n",
       "      <th>arrival_date_week_number</th>\n",
       "      <th>arrival_date_day_of_month</th>\n",
       "      <th>stays_in_weekend_nights</th>\n",
       "      <th>stays_in_week_nights</th>\n",
       "      <th>adults</th>\n",
       "      <th>...</th>\n",
       "      <th>reservation_status_date</th>\n",
       "      <th>reservation date</th>\n",
       "      <th>reservation month</th>\n",
       "      <th>reservation year</th>\n",
       "      <th>arrival_date_month_number</th>\n",
       "      <th>date_of_arrival</th>\n",
       "      <th>total_night_stays</th>\n",
       "      <th>One_day_stay</th>\n",
       "      <th>kids</th>\n",
       "      <th>guests</th>\n",
       "    </tr>\n",
       "  </thead>\n",
       "  <tbody>\n",
       "    <tr>\n",
       "      <th>0</th>\n",
       "      <td>Resort Hotel</td>\n",
       "      <td>0</td>\n",
       "      <td>342</td>\n",
       "      <td>2015</td>\n",
       "      <td>July</td>\n",
       "      <td>27</td>\n",
       "      <td>1</td>\n",
       "      <td>0</td>\n",
       "      <td>0</td>\n",
       "      <td>2</td>\n",
       "      <td>...</td>\n",
       "      <td>2015-07-01</td>\n",
       "      <td>1</td>\n",
       "      <td>7</td>\n",
       "      <td>2015</td>\n",
       "      <td>7</td>\n",
       "      <td>1435708800000000000</td>\n",
       "      <td>0</td>\n",
       "      <td>1</td>\n",
       "      <td>0</td>\n",
       "      <td>2</td>\n",
       "    </tr>\n",
       "    <tr>\n",
       "      <th>1</th>\n",
       "      <td>Resort Hotel</td>\n",
       "      <td>0</td>\n",
       "      <td>737</td>\n",
       "      <td>2015</td>\n",
       "      <td>July</td>\n",
       "      <td>27</td>\n",
       "      <td>1</td>\n",
       "      <td>0</td>\n",
       "      <td>0</td>\n",
       "      <td>2</td>\n",
       "      <td>...</td>\n",
       "      <td>2015-07-01</td>\n",
       "      <td>1</td>\n",
       "      <td>7</td>\n",
       "      <td>2015</td>\n",
       "      <td>7</td>\n",
       "      <td>1435708800000000000</td>\n",
       "      <td>0</td>\n",
       "      <td>1</td>\n",
       "      <td>0</td>\n",
       "      <td>2</td>\n",
       "    </tr>\n",
       "    <tr>\n",
       "      <th>2</th>\n",
       "      <td>Resort Hotel</td>\n",
       "      <td>0</td>\n",
       "      <td>7</td>\n",
       "      <td>2015</td>\n",
       "      <td>July</td>\n",
       "      <td>27</td>\n",
       "      <td>1</td>\n",
       "      <td>0</td>\n",
       "      <td>1</td>\n",
       "      <td>1</td>\n",
       "      <td>...</td>\n",
       "      <td>2015-07-02</td>\n",
       "      <td>2</td>\n",
       "      <td>7</td>\n",
       "      <td>2015</td>\n",
       "      <td>7</td>\n",
       "      <td>1435708800000000000</td>\n",
       "      <td>1</td>\n",
       "      <td>1</td>\n",
       "      <td>0</td>\n",
       "      <td>1</td>\n",
       "    </tr>\n",
       "    <tr>\n",
       "      <th>3</th>\n",
       "      <td>Resort Hotel</td>\n",
       "      <td>0</td>\n",
       "      <td>13</td>\n",
       "      <td>2015</td>\n",
       "      <td>July</td>\n",
       "      <td>27</td>\n",
       "      <td>1</td>\n",
       "      <td>0</td>\n",
       "      <td>1</td>\n",
       "      <td>1</td>\n",
       "      <td>...</td>\n",
       "      <td>2015-07-02</td>\n",
       "      <td>2</td>\n",
       "      <td>7</td>\n",
       "      <td>2015</td>\n",
       "      <td>7</td>\n",
       "      <td>1435708800000000000</td>\n",
       "      <td>1</td>\n",
       "      <td>1</td>\n",
       "      <td>0</td>\n",
       "      <td>1</td>\n",
       "    </tr>\n",
       "    <tr>\n",
       "      <th>4</th>\n",
       "      <td>Resort Hotel</td>\n",
       "      <td>0</td>\n",
       "      <td>14</td>\n",
       "      <td>2015</td>\n",
       "      <td>July</td>\n",
       "      <td>27</td>\n",
       "      <td>1</td>\n",
       "      <td>0</td>\n",
       "      <td>2</td>\n",
       "      <td>2</td>\n",
       "      <td>...</td>\n",
       "      <td>2015-07-03</td>\n",
       "      <td>3</td>\n",
       "      <td>7</td>\n",
       "      <td>2015</td>\n",
       "      <td>7</td>\n",
       "      <td>1435708800000000000</td>\n",
       "      <td>2</td>\n",
       "      <td>1</td>\n",
       "      <td>0</td>\n",
       "      <td>2</td>\n",
       "    </tr>\n",
       "  </tbody>\n",
       "</table>\n",
       "<p>5 rows × 39 columns</p>\n",
       "</div>"
      ],
      "text/plain": [
       "          hotel  is_canceled  lead_time  arrival_date_year arrival_date_month  \\\n",
       "0  Resort Hotel            0        342               2015               July   \n",
       "1  Resort Hotel            0        737               2015               July   \n",
       "2  Resort Hotel            0          7               2015               July   \n",
       "3  Resort Hotel            0         13               2015               July   \n",
       "4  Resort Hotel            0         14               2015               July   \n",
       "\n",
       "   arrival_date_week_number  arrival_date_day_of_month  \\\n",
       "0                        27                          1   \n",
       "1                        27                          1   \n",
       "2                        27                          1   \n",
       "3                        27                          1   \n",
       "4                        27                          1   \n",
       "\n",
       "   stays_in_weekend_nights  stays_in_week_nights  adults  ...  \\\n",
       "0                        0                     0       2  ...   \n",
       "1                        0                     0       2  ...   \n",
       "2                        0                     1       1  ...   \n",
       "3                        0                     1       1  ...   \n",
       "4                        0                     2       2  ...   \n",
       "\n",
       "  reservation_status_date reservation date reservation month reservation year  \\\n",
       "0              2015-07-01                1                 7             2015   \n",
       "1              2015-07-01                1                 7             2015   \n",
       "2              2015-07-02                2                 7             2015   \n",
       "3              2015-07-02                2                 7             2015   \n",
       "4              2015-07-03                3                 7             2015   \n",
       "\n",
       "   arrival_date_month_number      date_of_arrival  total_night_stays  \\\n",
       "0                          7  1435708800000000000                  0   \n",
       "1                          7  1435708800000000000                  0   \n",
       "2                          7  1435708800000000000                  1   \n",
       "3                          7  1435708800000000000                  1   \n",
       "4                          7  1435708800000000000                  2   \n",
       "\n",
       "  One_day_stay kids  guests  \n",
       "0            1    0       2  \n",
       "1            1    0       2  \n",
       "2            1    0       1  \n",
       "3            1    0       1  \n",
       "4            1    0       2  \n",
       "\n",
       "[5 rows x 39 columns]"
      ]
     },
     "execution_count": 31,
     "metadata": {},
     "output_type": "execute_result"
    }
   ],
   "source": [
    "df['guests'] = df['adults'] + df['kids']\n",
    "df.head()\n",
    "\n",
    "# total guest of the hotel booking by adding the babies children and babies\n"
   ]
  },
  {
   "cell_type": "code",
   "execution_count": 32,
   "id": "6c58e37d",
   "metadata": {
    "id": "6c58e37d"
   },
   "outputs": [
    {
     "name": "stdout",
     "output_type": "stream",
     "text": [
      "<class 'pandas.core.frame.DataFrame'>\n",
      "Int64Index: 118900 entries, 0 to 119389\n",
      "Data columns (total 39 columns):\n",
      " #   Column                          Non-Null Count   Dtype         \n",
      "---  ------                          --------------   -----         \n",
      " 0   hotel                           118900 non-null  object        \n",
      " 1   is_canceled                     118900 non-null  int64         \n",
      " 2   lead_time                       118900 non-null  int64         \n",
      " 3   arrival_date_year               118900 non-null  int64         \n",
      " 4   arrival_date_month              118900 non-null  object        \n",
      " 5   arrival_date_week_number        118900 non-null  int64         \n",
      " 6   arrival_date_day_of_month       118900 non-null  int64         \n",
      " 7   stays_in_weekend_nights         118900 non-null  int64         \n",
      " 8   stays_in_week_nights            118900 non-null  int64         \n",
      " 9   adults                          118900 non-null  int64         \n",
      " 10  meal                            118900 non-null  object        \n",
      " 11  country                         118900 non-null  object        \n",
      " 12  market_segment                  118900 non-null  object        \n",
      " 13  distribution_channel            118900 non-null  object        \n",
      " 14  is_repeated_guest               118900 non-null  int64         \n",
      " 15  previous_cancellations          118900 non-null  int64         \n",
      " 16  previous_bookings_not_canceled  118900 non-null  int64         \n",
      " 17  reserved_room_type              118900 non-null  object        \n",
      " 18  assigned_room_type              118900 non-null  object        \n",
      " 19  booking_changes                 118900 non-null  int64         \n",
      " 20  deposit_type                    118900 non-null  object        \n",
      " 21  agent                           118900 non-null  object        \n",
      " 22  company                         118900 non-null  object        \n",
      " 23  days_in_waiting_list            118900 non-null  int64         \n",
      " 24  customer_type                   118900 non-null  object        \n",
      " 25  adr                             118900 non-null  float64       \n",
      " 26  required_car_parking_spaces     118900 non-null  int64         \n",
      " 27  total_of_special_requests       118900 non-null  int64         \n",
      " 28  reservation_status              118900 non-null  object        \n",
      " 29  reservation_status_date         118900 non-null  datetime64[ns]\n",
      " 30  reservation date                118900 non-null  int64         \n",
      " 31  reservation month               118900 non-null  int64         \n",
      " 32  reservation year                118900 non-null  int64         \n",
      " 33  arrival_date_month_number       118900 non-null  category      \n",
      " 34  date_of_arrival                 118900 non-null  int64         \n",
      " 35  total_night_stays               118900 non-null  int64         \n",
      " 36  One_day_stay                    118900 non-null  int64         \n",
      " 37  kids                            118900 non-null  int64         \n",
      " 38  guests                          118900 non-null  int64         \n",
      "dtypes: category(1), datetime64[ns](1), float64(1), int64(23), object(13)\n",
      "memory usage: 35.5+ MB\n"
     ]
    }
   ],
   "source": [
    "df.info()"
   ]
  },
  {
   "cell_type": "code",
   "execution_count": 33,
   "id": "4f29f1ba",
   "metadata": {
    "id": "4f29f1ba"
   },
   "outputs": [
    {
     "data": {
      "text/html": [
       "<div>\n",
       "<style scoped>\n",
       "    .dataframe tbody tr th:only-of-type {\n",
       "        vertical-align: middle;\n",
       "    }\n",
       "\n",
       "    .dataframe tbody tr th {\n",
       "        vertical-align: top;\n",
       "    }\n",
       "\n",
       "    .dataframe thead th {\n",
       "        text-align: right;\n",
       "    }\n",
       "</style>\n",
       "<table border=\"1\" class=\"dataframe\">\n",
       "  <thead>\n",
       "    <tr style=\"text-align: right;\">\n",
       "      <th></th>\n",
       "      <th>count</th>\n",
       "      <th>mean</th>\n",
       "      <th>std</th>\n",
       "      <th>min</th>\n",
       "      <th>25%</th>\n",
       "      <th>50%</th>\n",
       "      <th>75%</th>\n",
       "      <th>max</th>\n",
       "    </tr>\n",
       "  </thead>\n",
       "  <tbody>\n",
       "    <tr>\n",
       "      <th>is_canceled</th>\n",
       "      <td>118900.0</td>\n",
       "      <td>3.713709e-01</td>\n",
       "      <td>4.831734e-01</td>\n",
       "      <td>0.000000e+00</td>\n",
       "      <td>0.000000e+00</td>\n",
       "      <td>0.000000e+00</td>\n",
       "      <td>1.000000e+00</td>\n",
       "      <td>1.000000e+00</td>\n",
       "    </tr>\n",
       "    <tr>\n",
       "      <th>lead_time</th>\n",
       "      <td>118900.0</td>\n",
       "      <td>1.043078e+02</td>\n",
       "      <td>1.069035e+02</td>\n",
       "      <td>0.000000e+00</td>\n",
       "      <td>1.800000e+01</td>\n",
       "      <td>6.900000e+01</td>\n",
       "      <td>1.610000e+02</td>\n",
       "      <td>7.370000e+02</td>\n",
       "    </tr>\n",
       "    <tr>\n",
       "      <th>arrival_date_year</th>\n",
       "      <td>118900.0</td>\n",
       "      <td>2.016158e+03</td>\n",
       "      <td>7.074805e-01</td>\n",
       "      <td>2.015000e+03</td>\n",
       "      <td>2.016000e+03</td>\n",
       "      <td>2.016000e+03</td>\n",
       "      <td>2.017000e+03</td>\n",
       "      <td>2.017000e+03</td>\n",
       "    </tr>\n",
       "    <tr>\n",
       "      <th>arrival_date_week_number</th>\n",
       "      <td>118900.0</td>\n",
       "      <td>2.716699e+01</td>\n",
       "      <td>1.358974e+01</td>\n",
       "      <td>1.000000e+00</td>\n",
       "      <td>1.600000e+01</td>\n",
       "      <td>2.800000e+01</td>\n",
       "      <td>3.800000e+01</td>\n",
       "      <td>5.300000e+01</td>\n",
       "    </tr>\n",
       "    <tr>\n",
       "      <th>arrival_date_day_of_month</th>\n",
       "      <td>118900.0</td>\n",
       "      <td>1.580058e+01</td>\n",
       "      <td>8.780348e+00</td>\n",
       "      <td>1.000000e+00</td>\n",
       "      <td>8.000000e+00</td>\n",
       "      <td>1.600000e+01</td>\n",
       "      <td>2.300000e+01</td>\n",
       "      <td>3.100000e+01</td>\n",
       "    </tr>\n",
       "    <tr>\n",
       "      <th>stays_in_weekend_nights</th>\n",
       "      <td>118900.0</td>\n",
       "      <td>9.288730e-01</td>\n",
       "      <td>9.961763e-01</td>\n",
       "      <td>0.000000e+00</td>\n",
       "      <td>0.000000e+00</td>\n",
       "      <td>1.000000e+00</td>\n",
       "      <td>2.000000e+00</td>\n",
       "      <td>1.600000e+01</td>\n",
       "    </tr>\n",
       "    <tr>\n",
       "      <th>stays_in_week_nights</th>\n",
       "      <td>118900.0</td>\n",
       "      <td>2.502119e+00</td>\n",
       "      <td>1.900148e+00</td>\n",
       "      <td>0.000000e+00</td>\n",
       "      <td>1.000000e+00</td>\n",
       "      <td>2.000000e+00</td>\n",
       "      <td>3.000000e+00</td>\n",
       "      <td>4.100000e+01</td>\n",
       "    </tr>\n",
       "    <tr>\n",
       "      <th>adults</th>\n",
       "      <td>118900.0</td>\n",
       "      <td>1.858402e+00</td>\n",
       "      <td>5.785803e-01</td>\n",
       "      <td>0.000000e+00</td>\n",
       "      <td>2.000000e+00</td>\n",
       "      <td>2.000000e+00</td>\n",
       "      <td>2.000000e+00</td>\n",
       "      <td>5.500000e+01</td>\n",
       "    </tr>\n",
       "    <tr>\n",
       "      <th>is_repeated_guest</th>\n",
       "      <td>118900.0</td>\n",
       "      <td>3.200168e-02</td>\n",
       "      <td>1.760052e-01</td>\n",
       "      <td>0.000000e+00</td>\n",
       "      <td>0.000000e+00</td>\n",
       "      <td>0.000000e+00</td>\n",
       "      <td>0.000000e+00</td>\n",
       "      <td>1.000000e+00</td>\n",
       "    </tr>\n",
       "    <tr>\n",
       "      <th>previous_cancellations</th>\n",
       "      <td>118900.0</td>\n",
       "      <td>8.714045e-02</td>\n",
       "      <td>8.458619e-01</td>\n",
       "      <td>0.000000e+00</td>\n",
       "      <td>0.000000e+00</td>\n",
       "      <td>0.000000e+00</td>\n",
       "      <td>0.000000e+00</td>\n",
       "      <td>2.600000e+01</td>\n",
       "    </tr>\n",
       "    <tr>\n",
       "      <th>previous_bookings_not_canceled</th>\n",
       "      <td>118900.0</td>\n",
       "      <td>1.316148e-01</td>\n",
       "      <td>1.484650e+00</td>\n",
       "      <td>0.000000e+00</td>\n",
       "      <td>0.000000e+00</td>\n",
       "      <td>0.000000e+00</td>\n",
       "      <td>0.000000e+00</td>\n",
       "      <td>7.200000e+01</td>\n",
       "    </tr>\n",
       "    <tr>\n",
       "      <th>booking_changes</th>\n",
       "      <td>118900.0</td>\n",
       "      <td>2.211522e-01</td>\n",
       "      <td>6.527565e-01</td>\n",
       "      <td>0.000000e+00</td>\n",
       "      <td>0.000000e+00</td>\n",
       "      <td>0.000000e+00</td>\n",
       "      <td>0.000000e+00</td>\n",
       "      <td>2.100000e+01</td>\n",
       "    </tr>\n",
       "    <tr>\n",
       "      <th>days_in_waiting_list</th>\n",
       "      <td>118900.0</td>\n",
       "      <td>2.330715e+00</td>\n",
       "      <td>1.763031e+01</td>\n",
       "      <td>0.000000e+00</td>\n",
       "      <td>0.000000e+00</td>\n",
       "      <td>0.000000e+00</td>\n",
       "      <td>0.000000e+00</td>\n",
       "      <td>3.910000e+02</td>\n",
       "    </tr>\n",
       "    <tr>\n",
       "      <th>adr</th>\n",
       "      <td>118900.0</td>\n",
       "      <td>1.019572e+02</td>\n",
       "      <td>4.809165e+01</td>\n",
       "      <td>0.000000e+00</td>\n",
       "      <td>7.000000e+01</td>\n",
       "      <td>9.500000e+01</td>\n",
       "      <td>1.260000e+02</td>\n",
       "      <td>5.100000e+02</td>\n",
       "    </tr>\n",
       "    <tr>\n",
       "      <th>required_car_parking_spaces</th>\n",
       "      <td>118900.0</td>\n",
       "      <td>6.188394e-02</td>\n",
       "      <td>2.441703e-01</td>\n",
       "      <td>0.000000e+00</td>\n",
       "      <td>0.000000e+00</td>\n",
       "      <td>0.000000e+00</td>\n",
       "      <td>0.000000e+00</td>\n",
       "      <td>8.000000e+00</td>\n",
       "    </tr>\n",
       "    <tr>\n",
       "      <th>total_of_special_requests</th>\n",
       "      <td>118900.0</td>\n",
       "      <td>5.717157e-01</td>\n",
       "      <td>7.926816e-01</td>\n",
       "      <td>0.000000e+00</td>\n",
       "      <td>0.000000e+00</td>\n",
       "      <td>0.000000e+00</td>\n",
       "      <td>1.000000e+00</td>\n",
       "      <td>5.000000e+00</td>\n",
       "    </tr>\n",
       "    <tr>\n",
       "      <th>reservation date</th>\n",
       "      <td>118900.0</td>\n",
       "      <td>1.566774e+01</td>\n",
       "      <td>8.779487e+00</td>\n",
       "      <td>1.000000e+00</td>\n",
       "      <td>8.000000e+00</td>\n",
       "      <td>1.600000e+01</td>\n",
       "      <td>2.300000e+01</td>\n",
       "      <td>3.100000e+01</td>\n",
       "    </tr>\n",
       "    <tr>\n",
       "      <th>reservation month</th>\n",
       "      <td>118900.0</td>\n",
       "      <td>6.334592e+00</td>\n",
       "      <td>3.344143e+00</td>\n",
       "      <td>1.000000e+00</td>\n",
       "      <td>3.000000e+00</td>\n",
       "      <td>6.000000e+00</td>\n",
       "      <td>9.000000e+00</td>\n",
       "      <td>1.200000e+01</td>\n",
       "    </tr>\n",
       "    <tr>\n",
       "      <th>reservation year</th>\n",
       "      <td>118900.0</td>\n",
       "      <td>2.016094e+03</td>\n",
       "      <td>7.154072e-01</td>\n",
       "      <td>2.014000e+03</td>\n",
       "      <td>2.016000e+03</td>\n",
       "      <td>2.016000e+03</td>\n",
       "      <td>2.017000e+03</td>\n",
       "      <td>2.017000e+03</td>\n",
       "    </tr>\n",
       "    <tr>\n",
       "      <th>date_of_arrival</th>\n",
       "      <td>118900.0</td>\n",
       "      <td>1.473253e+18</td>\n",
       "      <td>1.987470e+16</td>\n",
       "      <td>1.435709e+18</td>\n",
       "      <td>1.458605e+18</td>\n",
       "      <td>1.473898e+18</td>\n",
       "      <td>1.491178e+18</td>\n",
       "      <td>1.512778e+18</td>\n",
       "    </tr>\n",
       "    <tr>\n",
       "      <th>total_night_stays</th>\n",
       "      <td>118900.0</td>\n",
       "      <td>3.430992e+00</td>\n",
       "      <td>2.544873e+00</td>\n",
       "      <td>0.000000e+00</td>\n",
       "      <td>2.000000e+00</td>\n",
       "      <td>3.000000e+00</td>\n",
       "      <td>4.000000e+00</td>\n",
       "      <td>5.700000e+01</td>\n",
       "    </tr>\n",
       "    <tr>\n",
       "      <th>One_day_stay</th>\n",
       "      <td>118900.0</td>\n",
       "      <td>1.000000e+00</td>\n",
       "      <td>0.000000e+00</td>\n",
       "      <td>1.000000e+00</td>\n",
       "      <td>1.000000e+00</td>\n",
       "      <td>1.000000e+00</td>\n",
       "      <td>1.000000e+00</td>\n",
       "      <td>1.000000e+00</td>\n",
       "    </tr>\n",
       "    <tr>\n",
       "      <th>kids</th>\n",
       "      <td>118900.0</td>\n",
       "      <td>1.121531e-01</td>\n",
       "      <td>4.131522e-01</td>\n",
       "      <td>0.000000e+00</td>\n",
       "      <td>0.000000e+00</td>\n",
       "      <td>0.000000e+00</td>\n",
       "      <td>0.000000e+00</td>\n",
       "      <td>1.000000e+01</td>\n",
       "    </tr>\n",
       "    <tr>\n",
       "      <th>guests</th>\n",
       "      <td>118900.0</td>\n",
       "      <td>1.970555e+00</td>\n",
       "      <td>7.218938e-01</td>\n",
       "      <td>0.000000e+00</td>\n",
       "      <td>2.000000e+00</td>\n",
       "      <td>2.000000e+00</td>\n",
       "      <td>2.000000e+00</td>\n",
       "      <td>5.500000e+01</td>\n",
       "    </tr>\n",
       "  </tbody>\n",
       "</table>\n",
       "</div>"
      ],
      "text/plain": [
       "                                   count          mean           std  \\\n",
       "is_canceled                     118900.0  3.713709e-01  4.831734e-01   \n",
       "lead_time                       118900.0  1.043078e+02  1.069035e+02   \n",
       "arrival_date_year               118900.0  2.016158e+03  7.074805e-01   \n",
       "arrival_date_week_number        118900.0  2.716699e+01  1.358974e+01   \n",
       "arrival_date_day_of_month       118900.0  1.580058e+01  8.780348e+00   \n",
       "stays_in_weekend_nights         118900.0  9.288730e-01  9.961763e-01   \n",
       "stays_in_week_nights            118900.0  2.502119e+00  1.900148e+00   \n",
       "adults                          118900.0  1.858402e+00  5.785803e-01   \n",
       "is_repeated_guest               118900.0  3.200168e-02  1.760052e-01   \n",
       "previous_cancellations          118900.0  8.714045e-02  8.458619e-01   \n",
       "previous_bookings_not_canceled  118900.0  1.316148e-01  1.484650e+00   \n",
       "booking_changes                 118900.0  2.211522e-01  6.527565e-01   \n",
       "days_in_waiting_list            118900.0  2.330715e+00  1.763031e+01   \n",
       "adr                             118900.0  1.019572e+02  4.809165e+01   \n",
       "required_car_parking_spaces     118900.0  6.188394e-02  2.441703e-01   \n",
       "total_of_special_requests       118900.0  5.717157e-01  7.926816e-01   \n",
       "reservation date                118900.0  1.566774e+01  8.779487e+00   \n",
       "reservation month               118900.0  6.334592e+00  3.344143e+00   \n",
       "reservation year                118900.0  2.016094e+03  7.154072e-01   \n",
       "date_of_arrival                 118900.0  1.473253e+18  1.987470e+16   \n",
       "total_night_stays               118900.0  3.430992e+00  2.544873e+00   \n",
       "One_day_stay                    118900.0  1.000000e+00  0.000000e+00   \n",
       "kids                            118900.0  1.121531e-01  4.131522e-01   \n",
       "guests                          118900.0  1.970555e+00  7.218938e-01   \n",
       "\n",
       "                                         min           25%           50%  \\\n",
       "is_canceled                     0.000000e+00  0.000000e+00  0.000000e+00   \n",
       "lead_time                       0.000000e+00  1.800000e+01  6.900000e+01   \n",
       "arrival_date_year               2.015000e+03  2.016000e+03  2.016000e+03   \n",
       "arrival_date_week_number        1.000000e+00  1.600000e+01  2.800000e+01   \n",
       "arrival_date_day_of_month       1.000000e+00  8.000000e+00  1.600000e+01   \n",
       "stays_in_weekend_nights         0.000000e+00  0.000000e+00  1.000000e+00   \n",
       "stays_in_week_nights            0.000000e+00  1.000000e+00  2.000000e+00   \n",
       "adults                          0.000000e+00  2.000000e+00  2.000000e+00   \n",
       "is_repeated_guest               0.000000e+00  0.000000e+00  0.000000e+00   \n",
       "previous_cancellations          0.000000e+00  0.000000e+00  0.000000e+00   \n",
       "previous_bookings_not_canceled  0.000000e+00  0.000000e+00  0.000000e+00   \n",
       "booking_changes                 0.000000e+00  0.000000e+00  0.000000e+00   \n",
       "days_in_waiting_list            0.000000e+00  0.000000e+00  0.000000e+00   \n",
       "adr                             0.000000e+00  7.000000e+01  9.500000e+01   \n",
       "required_car_parking_spaces     0.000000e+00  0.000000e+00  0.000000e+00   \n",
       "total_of_special_requests       0.000000e+00  0.000000e+00  0.000000e+00   \n",
       "reservation date                1.000000e+00  8.000000e+00  1.600000e+01   \n",
       "reservation month               1.000000e+00  3.000000e+00  6.000000e+00   \n",
       "reservation year                2.014000e+03  2.016000e+03  2.016000e+03   \n",
       "date_of_arrival                 1.435709e+18  1.458605e+18  1.473898e+18   \n",
       "total_night_stays               0.000000e+00  2.000000e+00  3.000000e+00   \n",
       "One_day_stay                    1.000000e+00  1.000000e+00  1.000000e+00   \n",
       "kids                            0.000000e+00  0.000000e+00  0.000000e+00   \n",
       "guests                          0.000000e+00  2.000000e+00  2.000000e+00   \n",
       "\n",
       "                                         75%           max  \n",
       "is_canceled                     1.000000e+00  1.000000e+00  \n",
       "lead_time                       1.610000e+02  7.370000e+02  \n",
       "arrival_date_year               2.017000e+03  2.017000e+03  \n",
       "arrival_date_week_number        3.800000e+01  5.300000e+01  \n",
       "arrival_date_day_of_month       2.300000e+01  3.100000e+01  \n",
       "stays_in_weekend_nights         2.000000e+00  1.600000e+01  \n",
       "stays_in_week_nights            3.000000e+00  4.100000e+01  \n",
       "adults                          2.000000e+00  5.500000e+01  \n",
       "is_repeated_guest               0.000000e+00  1.000000e+00  \n",
       "previous_cancellations          0.000000e+00  2.600000e+01  \n",
       "previous_bookings_not_canceled  0.000000e+00  7.200000e+01  \n",
       "booking_changes                 0.000000e+00  2.100000e+01  \n",
       "days_in_waiting_list            0.000000e+00  3.910000e+02  \n",
       "adr                             1.260000e+02  5.100000e+02  \n",
       "required_car_parking_spaces     0.000000e+00  8.000000e+00  \n",
       "total_of_special_requests       1.000000e+00  5.000000e+00  \n",
       "reservation date                2.300000e+01  3.100000e+01  \n",
       "reservation month               9.000000e+00  1.200000e+01  \n",
       "reservation year                2.017000e+03  2.017000e+03  \n",
       "date_of_arrival                 1.491178e+18  1.512778e+18  \n",
       "total_night_stays               4.000000e+00  5.700000e+01  \n",
       "One_day_stay                    1.000000e+00  1.000000e+00  \n",
       "kids                            0.000000e+00  1.000000e+01  \n",
       "guests                          2.000000e+00  5.500000e+01  "
      ]
     },
     "execution_count": 33,
     "metadata": {},
     "output_type": "execute_result"
    }
   ],
   "source": [
    "df.describe().T"
   ]
  },
  {
   "cell_type": "code",
   "execution_count": 34,
   "id": "5c8fde1c",
   "metadata": {
    "id": "5c8fde1c"
   },
   "outputs": [
    {
     "data": {
      "text/html": [
       "<div>\n",
       "<style scoped>\n",
       "    .dataframe tbody tr th:only-of-type {\n",
       "        vertical-align: middle;\n",
       "    }\n",
       "\n",
       "    .dataframe tbody tr th {\n",
       "        vertical-align: top;\n",
       "    }\n",
       "\n",
       "    .dataframe thead th {\n",
       "        text-align: right;\n",
       "    }\n",
       "</style>\n",
       "<table border=\"1\" class=\"dataframe\">\n",
       "  <thead>\n",
       "    <tr style=\"text-align: right;\">\n",
       "      <th></th>\n",
       "      <th>count</th>\n",
       "      <th>unique</th>\n",
       "      <th>top</th>\n",
       "      <th>freq</th>\n",
       "    </tr>\n",
       "  </thead>\n",
       "  <tbody>\n",
       "    <tr>\n",
       "      <th>hotel</th>\n",
       "      <td>118900</td>\n",
       "      <td>2</td>\n",
       "      <td>City Hotel</td>\n",
       "      <td>79305</td>\n",
       "    </tr>\n",
       "    <tr>\n",
       "      <th>arrival_date_month</th>\n",
       "      <td>118900</td>\n",
       "      <td>12</td>\n",
       "      <td>August</td>\n",
       "      <td>13856</td>\n",
       "    </tr>\n",
       "    <tr>\n",
       "      <th>meal</th>\n",
       "      <td>118900</td>\n",
       "      <td>5</td>\n",
       "      <td>BB</td>\n",
       "      <td>91865</td>\n",
       "    </tr>\n",
       "    <tr>\n",
       "      <th>country</th>\n",
       "      <td>118900</td>\n",
       "      <td>177</td>\n",
       "      <td>PRT</td>\n",
       "      <td>48589</td>\n",
       "    </tr>\n",
       "    <tr>\n",
       "      <th>market_segment</th>\n",
       "      <td>118900</td>\n",
       "      <td>8</td>\n",
       "      <td>Online TA</td>\n",
       "      <td>56403</td>\n",
       "    </tr>\n",
       "    <tr>\n",
       "      <th>distribution_channel</th>\n",
       "      <td>118900</td>\n",
       "      <td>5</td>\n",
       "      <td>TA/TO</td>\n",
       "      <td>97729</td>\n",
       "    </tr>\n",
       "    <tr>\n",
       "      <th>reserved_room_type</th>\n",
       "      <td>118900</td>\n",
       "      <td>10</td>\n",
       "      <td>A</td>\n",
       "      <td>85599</td>\n",
       "    </tr>\n",
       "    <tr>\n",
       "      <th>assigned_room_type</th>\n",
       "      <td>118900</td>\n",
       "      <td>12</td>\n",
       "      <td>A</td>\n",
       "      <td>73862</td>\n",
       "    </tr>\n",
       "    <tr>\n",
       "      <th>deposit_type</th>\n",
       "      <td>118900</td>\n",
       "      <td>3</td>\n",
       "      <td>No Deposit</td>\n",
       "      <td>104166</td>\n",
       "    </tr>\n",
       "    <tr>\n",
       "      <th>agent</th>\n",
       "      <td>118900.0</td>\n",
       "      <td>333.0</td>\n",
       "      <td>9.0</td>\n",
       "      <td>31960.0</td>\n",
       "    </tr>\n",
       "    <tr>\n",
       "      <th>company</th>\n",
       "      <td>118900</td>\n",
       "      <td>350</td>\n",
       "      <td>0</td>\n",
       "      <td>112277</td>\n",
       "    </tr>\n",
       "    <tr>\n",
       "      <th>customer_type</th>\n",
       "      <td>118900</td>\n",
       "      <td>4</td>\n",
       "      <td>Transient</td>\n",
       "      <td>89173</td>\n",
       "    </tr>\n",
       "    <tr>\n",
       "      <th>reservation_status</th>\n",
       "      <td>118900</td>\n",
       "      <td>3</td>\n",
       "      <td>Check-Out</td>\n",
       "      <td>74744</td>\n",
       "    </tr>\n",
       "  </tbody>\n",
       "</table>\n",
       "</div>"
      ],
      "text/plain": [
       "                         count unique         top     freq\n",
       "hotel                   118900      2  City Hotel    79305\n",
       "arrival_date_month      118900     12      August    13856\n",
       "meal                    118900      5          BB    91865\n",
       "country                 118900    177         PRT    48589\n",
       "market_segment          118900      8   Online TA    56403\n",
       "distribution_channel    118900      5       TA/TO    97729\n",
       "reserved_room_type      118900     10           A    85599\n",
       "assigned_room_type      118900     12           A    73862\n",
       "deposit_type            118900      3  No Deposit   104166\n",
       "agent                 118900.0  333.0         9.0  31960.0\n",
       "company                 118900    350           0   112277\n",
       "customer_type           118900      4   Transient    89173\n",
       "reservation_status      118900      3   Check-Out    74744"
      ]
     },
     "execution_count": 34,
     "metadata": {},
     "output_type": "execute_result"
    }
   ],
   "source": [
    "df.describe(include = 'object').T\n",
    "# for categorical variables"
   ]
  },
  {
   "cell_type": "code",
   "execution_count": 35,
   "id": "c06a5a31",
   "metadata": {
    "id": "c06a5a31"
   },
   "outputs": [
    {
     "name": "stdout",
     "output_type": "stream",
     "text": [
      "<class 'pandas.core.frame.DataFrame'>\n",
      "Int64Index: 118900 entries, 0 to 119389\n",
      "Data columns (total 39 columns):\n",
      " #   Column                          Non-Null Count   Dtype         \n",
      "---  ------                          --------------   -----         \n",
      " 0   hotel                           118900 non-null  object        \n",
      " 1   is_canceled                     118900 non-null  int64         \n",
      " 2   lead_time                       118900 non-null  int64         \n",
      " 3   arrival_date_year               118900 non-null  int64         \n",
      " 4   arrival_date_month              118900 non-null  object        \n",
      " 5   arrival_date_week_number        118900 non-null  int64         \n",
      " 6   arrival_date_day_of_month       118900 non-null  int64         \n",
      " 7   stays_in_weekend_nights         118900 non-null  int64         \n",
      " 8   stays_in_week_nights            118900 non-null  int64         \n",
      " 9   adults                          118900 non-null  int64         \n",
      " 10  meal                            118900 non-null  object        \n",
      " 11  country                         118900 non-null  object        \n",
      " 12  market_segment                  118900 non-null  object        \n",
      " 13  distribution_channel            118900 non-null  object        \n",
      " 14  is_repeated_guest               118900 non-null  int64         \n",
      " 15  previous_cancellations          118900 non-null  int64         \n",
      " 16  previous_bookings_not_canceled  118900 non-null  int64         \n",
      " 17  reserved_room_type              118900 non-null  object        \n",
      " 18  assigned_room_type              118900 non-null  object        \n",
      " 19  booking_changes                 118900 non-null  int64         \n",
      " 20  deposit_type                    118900 non-null  object        \n",
      " 21  agent                           118900 non-null  object        \n",
      " 22  company                         118900 non-null  object        \n",
      " 23  days_in_waiting_list            118900 non-null  int64         \n",
      " 24  customer_type                   118900 non-null  object        \n",
      " 25  adr                             118900 non-null  float64       \n",
      " 26  required_car_parking_spaces     118900 non-null  int64         \n",
      " 27  total_of_special_requests       118900 non-null  int64         \n",
      " 28  reservation_status              118900 non-null  object        \n",
      " 29  reservation_status_date         118900 non-null  datetime64[ns]\n",
      " 30  reservation date                118900 non-null  int64         \n",
      " 31  reservation month               118900 non-null  int64         \n",
      " 32  reservation year                118900 non-null  int64         \n",
      " 33  arrival_date_month_number       118900 non-null  category      \n",
      " 34  date_of_arrival                 118900 non-null  int64         \n",
      " 35  total_night_stays               118900 non-null  int64         \n",
      " 36  One_day_stay                    118900 non-null  int64         \n",
      " 37  kids                            118900 non-null  int64         \n",
      " 38  guests                          118900 non-null  int64         \n",
      "dtypes: category(1), datetime64[ns](1), float64(1), int64(23), object(13)\n",
      "memory usage: 35.5+ MB\n"
     ]
    }
   ],
   "source": [
    "df.info()"
   ]
  },
  {
   "cell_type": "code",
   "execution_count": 36,
   "id": "7854829e",
   "metadata": {
    "id": "7854829e"
   },
   "outputs": [],
   "source": [
    "# UNIVARIANT ANALYSIS"
   ]
  },
  {
   "cell_type": "code",
   "execution_count": 37,
   "id": "8df56ee0",
   "metadata": {
    "id": "8df56ee0"
   },
   "outputs": [
    {
     "data": {
      "text/plain": [
       "City Hotel      79305\n",
       "Resort Hotel    39595\n",
       "Name: hotel, dtype: int64"
      ]
     },
     "execution_count": 37,
     "metadata": {},
     "output_type": "execute_result"
    }
   ],
   "source": [
    "# Hotel type\n",
    "h = df['hotel'].value_counts()\n",
    "h"
   ]
  },
  {
   "cell_type": "code",
   "execution_count": 38,
   "id": "5e4dd84c",
   "metadata": {
    "id": "5e4dd84c"
   },
   "outputs": [
    {
     "data": {
      "text/plain": [
       "<AxesSubplot:ylabel='hotel'>"
      ]
     },
     "execution_count": 38,
     "metadata": {},
     "output_type": "execute_result"
    },
    {
     "data": {
      "image/png": "[encoded data removed]",
      "text/plain": [
       "<Figure size 432x288 with 1 Axes>"
      ]
     },
     "metadata": {
      "needs_background": "light"
     },
     "output_type": "display_data"
    }
   ],
   "source": [
    "sns.barplot(x=h.index, y=h)"
   ]
  },
  {
   "cell_type": "code",
   "execution_count": 39,
   "id": "3557405b",
   "metadata": {
    "id": "3557405b"
   },
   "outputs": [
    {
     "data": {
      "text/plain": [
       "0    74744\n",
       "1    44156\n",
       "Name: is_canceled, dtype: int64"
      ]
     },
     "execution_count": 39,
     "metadata": {},
     "output_type": "execute_result"
    }
   ],
   "source": [
    "# cancellation\n",
    "i = df['is_canceled'].value_counts()\n",
    "i"
   ]
  },
  {
   "cell_type": "code",
   "execution_count": 40,
   "id": "293301ed",
   "metadata": {
    "id": "293301ed"
   },
   "outputs": [
    {
     "data": {
      "text/plain": [
       "<AxesSubplot:ylabel='is_canceled'>"
      ]
     },
     "execution_count": 40,
     "metadata": {},
     "output_type": "execute_result"
    },
    {
     "data": {
      "image/png": "[encoded data removed]",
      "text/plain": [
       "<Figure size 432x288 with 1 Axes>"
      ]
     },
     "metadata": {
      "needs_background": "light"
     },
     "output_type": "display_data"
    }
   ],
   "source": [
    "sns.barplot(x=i.index, y=i)"
   ]
  },
  {
   "cell_type": "code",
   "execution_count": 41,
   "id": "2f3a07f1",
   "metadata": {
    "id": "2f3a07f1"
   },
   "outputs": [
    {
     "data": {
      "text/plain": [
       "0      6223\n",
       "1      3395\n",
       "2      2034\n",
       "3      1802\n",
       "4      1696\n",
       "       ... \n",
       "400       1\n",
       "370       1\n",
       "532       1\n",
       "371       1\n",
       "463       1\n",
       "Name: lead_time, Length: 479, dtype: int64"
      ]
     },
     "execution_count": 41,
     "metadata": {},
     "output_type": "execute_result"
    }
   ],
   "source": [
    "# lead time\n",
    "df['lead_time'].value_counts()"
   ]
  },
  {
   "cell_type": "code",
   "execution_count": 42,
   "id": "b9ec2c6d",
   "metadata": {
    "id": "b9ec2c6d"
   },
   "outputs": [
    {
     "data": {
      "text/plain": [
       "0     0.316728\n",
       "1     0.144449\n",
       "2     0.106854\n",
       "3     0.088015\n",
       "4     0.067872\n",
       "5     0.066451\n",
       "6     0.048007\n",
       "7     0.036728\n",
       "9     0.028991\n",
       "8     0.028789\n",
       "10    0.023103\n",
       "11    0.015055\n",
       "12    0.008225\n",
       "13    0.006863\n",
       "15    0.004760\n",
       "14    0.004474\n",
       "20    0.001220\n",
       "16    0.001034\n",
       "17    0.001026\n",
       "18    0.000765\n",
       "19    0.000572\n",
       "24    0.000008\n",
       "23    0.000008\n",
       "Name: lead_time, dtype: float64"
      ]
     },
     "execution_count": 42,
     "metadata": {},
     "output_type": "execute_result"
    }
   ],
   "source": [
    "# many leadtimes so we group them into months\n",
    "lt_months = df['lead_time'] // 30\n",
    "lt_months.value_counts() / len(df)"
   ]
  },
  {
   "cell_type": "code",
   "execution_count": 43,
   "id": "4b122427",
   "metadata": {
    "id": "4b122427"
   },
   "outputs": [],
   "source": [
    "df['lead_time_month'] = df['lead_time'] // 30"
   ]
  },
  {
   "cell_type": "code",
   "execution_count": 44,
   "id": "16d362a8",
   "metadata": {
    "id": "16d362a8"
   },
   "outputs": [
    {
     "data": {
      "text/plain": [
       "0     37659\n",
       "1     17175\n",
       "2     12705\n",
       "3     10465\n",
       "4      8070\n",
       "5      7901\n",
       "6      5708\n",
       "7      4367\n",
       "9      3447\n",
       "8      3423\n",
       "10     2747\n",
       "11     1790\n",
       "12      978\n",
       "13      816\n",
       "15      566\n",
       "14      532\n",
       "20      145\n",
       "16      123\n",
       "17      122\n",
       "18       91\n",
       "19       68\n",
       "24        1\n",
       "23        1\n",
       "Name: lead_time_month, dtype: int64"
      ]
     },
     "execution_count": 44,
     "metadata": {},
     "output_type": "execute_result"
    }
   ],
   "source": [
    "lt = df['lead_time_month'].value_counts()\n",
    "lt"
   ]
  },
  {
   "cell_type": "code",
   "execution_count": 45,
   "id": "f84642c6",
   "metadata": {
    "id": "f84642c6"
   },
   "outputs": [
    {
     "data": {
      "text/plain": [
       "<AxesSubplot:ylabel='lead_time_month'>"
      ]
     },
     "execution_count": 45,
     "metadata": {},
     "output_type": "execute_result"
    },
    {
     "data": {
      "image/png": "[encoded data removed]",
      "text/plain": [
       "<Figure size 432x288 with 1 Axes>"
      ]
     },
     "metadata": {
      "needs_background": "light"
     },
     "output_type": "display_data"
    }
   ],
   "source": [
    "sns.barplot(x=lt.index, y=lt)"
   ]
  },
  {
   "cell_type": "code",
   "execution_count": 46,
   "id": "6a84c60d",
   "metadata": {
    "id": "6a84c60d"
   },
   "outputs": [],
   "source": [
    "# DISTRIBUTION CHANNEL"
   ]
  },
  {
   "cell_type": "code",
   "execution_count": 47,
   "id": "cbec8fe3",
   "metadata": {
    "id": "cbec8fe3"
   },
   "outputs": [
    {
     "data": {
      "text/plain": [
       "TA/TO        97729\n",
       "Direct       14482\n",
       "Corporate     6491\n",
       "GDS            193\n",
       "Undefined        5\n",
       "Name: distribution_channel, dtype: int64"
      ]
     },
     "execution_count": 47,
     "metadata": {},
     "output_type": "execute_result"
    }
   ],
   "source": [
    "dc = df['distribution_channel'].value_counts()\n",
    "dc\n",
    "# travel agencies is the biggest booking distribution channel\n",
    "# second highest is direct"
   ]
  },
  {
   "cell_type": "code",
   "execution_count": 48,
   "id": "cb03bd79",
   "metadata": {
    "id": "cb03bd79"
   },
   "outputs": [
    {
     "data": {
      "text/plain": [
       "<AxesSubplot:ylabel='distribution_channel'>"
      ]
     },
     "execution_count": 48,
     "metadata": {},
     "output_type": "execute_result"
    },
    {
     "data": {
      "image/png": "[encoded data removed]",
      "text/plain": [
       "<Figure size 432x288 with 1 Axes>"
      ]
     },
     "metadata": {
      "needs_background": "light"
     },
     "output_type": "display_data"
    }
   ],
   "source": [
    "sns.barplot(x=dc.index, y=dc)"
   ]
  },
  {
   "cell_type": "code",
   "execution_count": 49,
   "id": "417a2a15",
   "metadata": {
    "id": "417a2a15"
   },
   "outputs": [
    {
     "data": {
      "text/plain": [
       "Online TA        56403\n",
       "Offline TA/TO    24159\n",
       "Groups           19805\n",
       "Direct           12449\n",
       "Corporate         5111\n",
       "Complementary      734\n",
       "Aviation           237\n",
       "Undefined            2\n",
       "Name: market_segment, dtype: int64"
      ]
     },
     "execution_count": 49,
     "metadata": {},
     "output_type": "execute_result"
    }
   ],
   "source": [
    "# MARKET SEGMENT\n",
    "\n",
    "ms = df['market_segment'].value_counts()\n",
    "ms\n",
    "# same as distribution channels"
   ]
  },
  {
   "cell_type": "code",
   "execution_count": 50,
   "id": "083203f4",
   "metadata": {
    "id": "083203f4"
   },
   "outputs": [
    {
     "data": {
      "text/plain": [
       "<AxesSubplot:ylabel='market_segment'>"
      ]
     },
     "execution_count": 50,
     "metadata": {},
     "output_type": "execute_result"
    },
    {
     "data": {
      "image/png": "[encoded data removed]",
      "text/plain": [
       "<Figure size 432x288 with 1 Axes>"
      ]
     },
     "metadata": {
      "needs_background": "light"
     },
     "output_type": "display_data"
    }
   ],
   "source": [
    "sns.barplot(x=ms.index, y=ms)"
   ]
  },
  {
   "cell_type": "code",
   "execution_count": 51,
   "id": "4205780f",
   "metadata": {
    "id": "4205780f"
   },
   "outputs": [
    {
     "data": {
      "text/plain": [
       "BB    91865\n",
       "HB    14434\n",
       "SC    11803\n",
       "FB      798\n",
       "Name: meal, dtype: int64"
      ]
     },
     "execution_count": 51,
     "metadata": {},
     "output_type": "execute_result"
    }
   ],
   "source": [
    "# MEAL COLUMN\n",
    "df['meal'] = df['meal'].replace(to_replace='Undefined', value='SC')\n",
    "\n",
    "m = df['meal'].value_counts()\n",
    "m\n",
    "\n",
    "# Undefined values in meal package \n",
    "# by description undefined meal package is same as sc\n",
    "# so replacing undefined with SC"
   ]
  },
  {
   "cell_type": "code",
   "execution_count": 52,
   "id": "7b6d797b",
   "metadata": {
    "id": "7b6d797b"
   },
   "outputs": [
    {
     "data": {
      "text/plain": [
       "<AxesSubplot:ylabel='meal'>"
      ]
     },
     "execution_count": 52,
     "metadata": {},
     "output_type": "execute_result"
    },
    {
     "data": {
      "image/png": "[encoded data removed]",
      "text/plain": [
       "<Figure size 432x288 with 1 Axes>"
      ]
     },
     "metadata": {
      "needs_background": "light"
     },
     "output_type": "display_data"
    }
   ],
   "source": [
    "sns.barplot(x=m.index, y=m)"
   ]
  },
  {
   "cell_type": "code",
   "execution_count": 53,
   "id": "2f1872c5",
   "metadata": {
    "id": "2f1872c5"
   },
   "outputs": [
    {
     "data": {
      "text/plain": [
       "PRT    48589\n",
       "GBR    12128\n",
       "FRA    10415\n",
       "ESP     8568\n",
       "DEU     7287\n",
       "ITA     3766\n",
       "IRL     3375\n",
       "BEL     2342\n",
       "BRA     2224\n",
       "NLD     2104\n",
       "Name: country, dtype: int64"
      ]
     },
     "execution_count": 53,
     "metadata": {},
     "output_type": "execute_result"
    }
   ],
   "source": [
    "# country\n",
    "\n",
    "c = df['country'].value_counts().head(10)\n",
    "c\n",
    "# half of booking were done by portuguese\n",
    "# many unique values from all the countries \n",
    "# spliting the booking into international booking or local booking "
   ]
  },
  {
   "cell_type": "code",
   "execution_count": 54,
   "id": "a31435f6",
   "metadata": {
    "id": "a31435f6"
   },
   "outputs": [
    {
     "data": {
      "text/plain": [
       "<AxesSubplot:ylabel='country'>"
      ]
     },
     "execution_count": 54,
     "metadata": {},
     "output_type": "execute_result"
    },
    {
     "data": {
      "image/png": "[encoded data removed]",
      "text/plain": [
       "<Figure size 432x288 with 1 Axes>"
      ]
     },
     "metadata": {
      "needs_background": "light"
     },
     "output_type": "display_data"
    }
   ],
   "source": [
    "sns.barplot(x=c.index, y=c)"
   ]
  },
  {
   "cell_type": "code",
   "execution_count": 55,
   "id": "ba9da921",
   "metadata": {
    "id": "ba9da921"
   },
   "outputs": [],
   "source": [
    "def country(row):\n",
    "    if (row['country'] == 'PRT'):\n",
    "        return 0\n",
    "    else :\n",
    "        return 1\n",
    "    \n",
    "df['booking_location'] = df.apply(country, axis = 1)"
   ]
  },
  {
   "cell_type": "code",
   "execution_count": 56,
   "id": "720bfdc6",
   "metadata": {
    "id": "720bfdc6"
   },
   "outputs": [
    {
     "data": {
      "text/plain": [
       "1    70311\n",
       "0    48589\n",
       "Name: booking_location, dtype: int64"
      ]
     },
     "execution_count": 56,
     "metadata": {},
     "output_type": "execute_result"
    }
   ],
   "source": [
    "bl = df['booking_location'].value_counts()\n",
    "bl"
   ]
  },
  {
   "cell_type": "code",
   "execution_count": 57,
   "id": "0a8906ea",
   "metadata": {
    "id": "0a8906ea"
   },
   "outputs": [
    {
     "data": {
      "text/plain": [
       "<AxesSubplot:ylabel='booking_location'>"
      ]
     },
     "execution_count": 57,
     "metadata": {},
     "output_type": "execute_result"
    },
    {
     "data": {
      "image/png": "[encoded data removed]",
      "text/plain": [
       "<Figure size 432x288 with 1 Axes>"
      ]
     },
     "metadata": {
      "needs_background": "light"
     },
     "output_type": "display_data"
    }
   ],
   "source": [
    "sns.barplot(x=bl.index, y=bl)"
   ]
  },
  {
   "cell_type": "code",
   "execution_count": 58,
   "id": "81b7bca3",
   "metadata": {
    "id": "81b7bca3"
   },
   "outputs": [
    {
     "data": {
      "text/plain": [
       "A    85599\n",
       "D    19173\n",
       "E     6497\n",
       "F     2890\n",
       "G     2083\n",
       "B     1118\n",
       "C      931\n",
       "H      601\n",
       "L        6\n",
       "P        2\n",
       "Name: reserved_room_type, dtype: int64"
      ]
     },
     "execution_count": 58,
     "metadata": {},
     "output_type": "execute_result"
    }
   ],
   "source": [
    "# RESERVED ROOM TYPE\n",
    "\n",
    "rt = df['reserved_room_type'].value_counts()\n",
    "rt\n",
    "# A type is most popular compared to other types"
   ]
  },
  {
   "cell_type": "code",
   "execution_count": 59,
   "id": "5d5a4366",
   "metadata": {
    "id": "5d5a4366"
   },
   "outputs": [
    {
     "data": {
      "text/plain": [
       "<AxesSubplot:ylabel='reserved_room_type'>"
      ]
     },
     "execution_count": 59,
     "metadata": {},
     "output_type": "execute_result"
    },
    {
     "data": {
      "image/png": "[encoded data removed]",
      "text/plain": [
       "<Figure size 432x288 with 1 Axes>"
      ]
     },
     "metadata": {
      "needs_background": "light"
     },
     "output_type": "display_data"
    }
   ],
   "source": [
    "sns.barplot(x=rt.index, y=rt)"
   ]
  },
  {
   "cell_type": "code",
   "execution_count": 60,
   "id": "9092b9cc",
   "metadata": {
    "id": "9092b9cc"
   },
   "outputs": [
    {
     "data": {
      "text/plain": [
       "No Deposit    104166\n",
       "Non Refund     14572\n",
       "Refundable       162\n",
       "Name: deposit_type, dtype: int64"
      ]
     },
     "execution_count": 60,
     "metadata": {},
     "output_type": "execute_result"
    }
   ],
   "source": [
    "# DEPOSIT TYPE\n",
    "\n",
    "dt = df['deposit_type'].value_counts()\n",
    "dt\n",
    "#  no deposit type is more popular \n",
    "# the flexibility that's given to the customer to book hotel without any deposit"
   ]
  },
  {
   "cell_type": "code",
   "execution_count": 61,
   "id": "420b9e48",
   "metadata": {
    "id": "420b9e48"
   },
   "outputs": [
    {
     "data": {
      "text/plain": [
       "<AxesSubplot:ylabel='deposit_type'>"
      ]
     },
     "execution_count": 61,
     "metadata": {},
     "output_type": "execute_result"
    },
    {
     "data": {
      "image/png": "[encoded data removed]",
      "text/plain": [
       "<Figure size 432x288 with 1 Axes>"
      ]
     },
     "metadata": {
      "needs_background": "light"
     },
     "output_type": "display_data"
    }
   ],
   "source": [
    "sns.barplot(x=dt.index, y=dt)"
   ]
  },
  {
   "cell_type": "code",
   "execution_count": 62,
   "id": "fc3977be",
   "metadata": {
    "id": "fc3977be"
   },
   "outputs": [
    {
     "data": {
      "text/plain": [
       "0    115095\n",
       "1      3805\n",
       "Name: is_repeated_guest, dtype: int64"
      ]
     },
     "execution_count": 62,
     "metadata": {},
     "output_type": "execute_result"
    }
   ],
   "source": [
    "# REPEATED GUEST\n",
    "\n",
    "rg = df['is_repeated_guest'].value_counts()\n",
    "rg\n",
    "# approx 3 percent of the repeated guest \n",
    "# repeated guest may effect the cancellation"
   ]
  },
  {
   "cell_type": "code",
   "execution_count": 63,
   "id": "0afb366b",
   "metadata": {
    "id": "0afb366b"
   },
   "outputs": [
    {
     "data": {
      "text/plain": [
       "<AxesSubplot:ylabel='is_repeated_guest'>"
      ]
     },
     "execution_count": 63,
     "metadata": {},
     "output_type": "execute_result"
    },
    {
     "data": {
      "image/png": "[encoded data removed]",
      "text/plain": [
       "<Figure size 432x288 with 1 Axes>"
      ]
     },
     "metadata": {
      "needs_background": "light"
     },
     "output_type": "display_data"
    }
   ],
   "source": [
    "sns.barplot(x=rg.index, y=rg)"
   ]
  },
  {
   "cell_type": "code",
   "execution_count": 64,
   "id": "5cc45c0d",
   "metadata": {
    "id": "5cc45c0d"
   },
   "outputs": [
    {
     "data": {
      "text/plain": [
       "0     112453\n",
       "1       6017\n",
       "2        113\n",
       "3         65\n",
       "24        48\n",
       "11        35\n",
       "4         31\n",
       "26        26\n",
       "25        25\n",
       "6         22\n",
       "19        19\n",
       "5         19\n",
       "14        14\n",
       "13        12\n",
       "21         1\n",
       "Name: previous_cancellations, dtype: int64"
      ]
     },
     "execution_count": 64,
     "metadata": {},
     "output_type": "execute_result"
    }
   ],
   "source": [
    "# PREVIOUS CANCELLATION\n",
    "\n",
    "df['previous_cancellations'].value_counts()\n",
    "\n",
    "# aprrox 94% of data has never been cancelled so we group it into cancelled and non cancelled"
   ]
  },
  {
   "cell_type": "code",
   "execution_count": 65,
   "id": "a23e838c",
   "metadata": {
    "id": "a23e838c"
   },
   "outputs": [],
   "source": [
    "def cancellation(row):\n",
    "    if (row['previous_cancellations'] == 0):\n",
    "        return 0\n",
    "    else :\n",
    "        return 1\n",
    "\n",
    "df['is_previously_cancelled'] = df.apply(cancellation, axis = 1)"
   ]
  },
  {
   "cell_type": "code",
   "execution_count": 66,
   "id": "4c0a808d",
   "metadata": {
    "id": "4c0a808d"
   },
   "outputs": [
    {
     "data": {
      "text/plain": [
       "0    112453\n",
       "1      6447\n",
       "Name: is_previously_cancelled, dtype: int64"
      ]
     },
     "execution_count": 66,
     "metadata": {},
     "output_type": "execute_result"
    }
   ],
   "source": [
    "pc = df['is_previously_cancelled'].value_counts()\n",
    "pc"
   ]
  },
  {
   "cell_type": "code",
   "execution_count": 67,
   "id": "991529fc",
   "metadata": {
    "id": "991529fc"
   },
   "outputs": [
    {
     "data": {
      "text/plain": [
       "<AxesSubplot:ylabel='is_previously_cancelled'>"
      ]
     },
     "execution_count": 67,
     "metadata": {},
     "output_type": "execute_result"
    },
    {
     "data": {
      "image/png": "[encoded data removed]",
      "text/plain": [
       "<Figure size 432x288 with 1 Axes>"
      ]
     },
     "metadata": {
      "needs_background": "light"
     },
     "output_type": "display_data"
    }
   ],
   "source": [
    "sns.barplot(x=pc.index, y=pc)"
   ]
  },
  {
   "cell_type": "code",
   "execution_count": 68,
   "id": "ed9b0afe",
   "metadata": {
    "id": "ed9b0afe"
   },
   "outputs": [
    {
     "data": {
      "text/plain": [
       "0     100906\n",
       "1      12638\n",
       "2       3789\n",
       "3        925\n",
       "4        375\n",
       "5        118\n",
       "6         63\n",
       "7         31\n",
       "8         17\n",
       "9          8\n",
       "10         6\n",
       "13         5\n",
       "14         5\n",
       "15         3\n",
       "16         2\n",
       "17         2\n",
       "12         2\n",
       "11         2\n",
       "20         1\n",
       "21         1\n",
       "18         1\n",
       "Name: booking_changes, dtype: int64"
      ]
     },
     "execution_count": 68,
     "metadata": {},
     "output_type": "execute_result"
    }
   ],
   "source": [
    "# BOOKING CHANGES\n",
    "\n",
    "df['booking_changes'].value_counts()\n",
    "# approx 94% never changed there booking\n",
    "# can group this columns as never changed and changed"
   ]
  },
  {
   "cell_type": "code",
   "execution_count": 69,
   "id": "c7d5e415",
   "metadata": {
    "id": "c7d5e415"
   },
   "outputs": [],
   "source": [
    "def changes(row):\n",
    "    if (row['booking_changes'] == 0):\n",
    "        return 0\n",
    "    else :\n",
    "        return 1\n",
    "\n",
    "df['is_booking_changes'] = df.apply(changes, axis = 1)"
   ]
  },
  {
   "cell_type": "code",
   "execution_count": 70,
   "id": "8616fc8b",
   "metadata": {
    "id": "8616fc8b"
   },
   "outputs": [
    {
     "data": {
      "text/plain": [
       "0    100906\n",
       "1     17994\n",
       "Name: is_booking_changes, dtype: int64"
      ]
     },
     "execution_count": 70,
     "metadata": {},
     "output_type": "execute_result"
    }
   ],
   "source": [
    "bc = df['is_booking_changes'].value_counts()\n",
    "bc"
   ]
  },
  {
   "cell_type": "code",
   "execution_count": 71,
   "id": "496f21ef",
   "metadata": {
    "id": "496f21ef"
   },
   "outputs": [
    {
     "data": {
      "text/plain": [
       "<AxesSubplot:ylabel='is_booking_changes'>"
      ]
     },
     "execution_count": 71,
     "metadata": {},
     "output_type": "execute_result"
    },
    {
     "data": {
      "image/png": "[encoded data removed]",
      "text/plain": [
       "<Figure size 432x288 with 1 Axes>"
      ]
     },
     "metadata": {
      "needs_background": "light"
     },
     "output_type": "display_data"
    }
   ],
   "source": [
    "sns.barplot(x=bc.index, y=bc)"
   ]
  },
  {
   "cell_type": "code",
   "execution_count": 72,
   "id": "33594f26",
   "metadata": {
    "id": "33594f26"
   },
   "outputs": [
    {
     "data": {
      "text/plain": [
       "0    69989\n",
       "1    33124\n",
       "2    12923\n",
       "3     2487\n",
       "4      339\n",
       "5       38\n",
       "Name: total_of_special_requests, dtype: int64"
      ]
     },
     "execution_count": 72,
     "metadata": {},
     "output_type": "execute_result"
    }
   ],
   "source": [
    "# SPECIAL REQUEST\n",
    "\n",
    "sr = df['total_of_special_requests'].value_counts()\n",
    "sr\n",
    "# will booking there's no special request"
   ]
  },
  {
   "cell_type": "code",
   "execution_count": 73,
   "id": "69aeae15",
   "metadata": {
    "id": "69aeae15"
   },
   "outputs": [
    {
     "data": {
      "text/plain": [
       "<AxesSubplot:ylabel='total_of_special_requests'>"
      ]
     },
     "execution_count": 73,
     "metadata": {},
     "output_type": "execute_result"
    },
    {
     "data": {
      "image/png": "[encoded data removed]",
      "text/plain": [
       "<Figure size 432x288 with 1 Axes>"
      ]
     },
     "metadata": {
      "needs_background": "light"
     },
     "output_type": "display_data"
    }
   ],
   "source": [
    "sns.barplot(x=sr.index, y=sr)"
   ]
  },
  {
   "cell_type": "code",
   "execution_count": 74,
   "id": "69710e40",
   "metadata": {
    "id": "69710e40"
   },
   "outputs": [
    {
     "data": {
      "text/plain": [
       "Transient          89173\n",
       "Transient-Party    25081\n",
       "Contract            4076\n",
       "Group                570\n",
       "Name: customer_type, dtype: int64"
      ]
     },
     "execution_count": 74,
     "metadata": {},
     "output_type": "execute_result"
    }
   ],
   "source": [
    "# CUSTOMER TYPE\n",
    "\n",
    "ct = df['customer_type'].value_counts()\n",
    "ct\n",
    "# transient - individual booking / personal booking"
   ]
  },
  {
   "cell_type": "code",
   "execution_count": 75,
   "id": "9feee542",
   "metadata": {
    "id": "9feee542"
   },
   "outputs": [
    {
     "data": {
      "text/plain": [
       "<AxesSubplot:ylabel='customer_type'>"
      ]
     },
     "execution_count": 75,
     "metadata": {},
     "output_type": "execute_result"
    },
    {
     "data": {
      "image/png": "[encoded data removed]",
      "text/plain": [
       "<Figure size 432x288 with 1 Axes>"
      ]
     },
     "metadata": {
      "needs_background": "light"
     },
     "output_type": "display_data"
    }
   ],
   "source": [
    "sns.barplot(x=ct.index, y=ct)"
   ]
  },
  {
   "cell_type": "code",
   "execution_count": 76,
   "id": "2c8b09c3",
   "metadata": {
    "id": "2c8b09c3"
   },
   "outputs": [],
   "source": [
    "df['hotel_encoded'] = df['hotel'].map({'City Hotel': 1, 'Resort Hotel':0})\n"
   ]
  },
  {
   "cell_type": "code",
   "execution_count": null,
   "id": "87f67d24",
   "metadata": {
    "id": "87f67d24"
   },
   "outputs": [],
   "source": []
  },
  {
   "cell_type": "markdown",
   "id": "5641cdf6",
   "metadata": {},
   "source": [
    "### MULTIVARIANCE ANALYSIS"
   ]
  },
  {
   "cell_type": "code",
   "execution_count": 77,
   "id": "793980d1",
   "metadata": {},
   "outputs": [
    {
     "data": {
      "text/html": [
       "<div>\n",
       "<style scoped>\n",
       "    .dataframe tbody tr th:only-of-type {\n",
       "        vertical-align: middle;\n",
       "    }\n",
       "\n",
       "    .dataframe tbody tr th {\n",
       "        vertical-align: top;\n",
       "    }\n",
       "\n",
       "    .dataframe thead th {\n",
       "        text-align: right;\n",
       "    }\n",
       "</style>\n",
       "<table border=\"1\" class=\"dataframe\">\n",
       "  <thead>\n",
       "    <tr style=\"text-align: right;\">\n",
       "      <th>is_canceled</th>\n",
       "      <th>0</th>\n",
       "      <th>1</th>\n",
       "    </tr>\n",
       "    <tr>\n",
       "      <th>hotel</th>\n",
       "      <th></th>\n",
       "      <th></th>\n",
       "    </tr>\n",
       "  </thead>\n",
       "  <tbody>\n",
       "    <tr>\n",
       "      <th>City Hotel</th>\n",
       "      <td>0.582889</td>\n",
       "      <td>0.417111</td>\n",
       "    </tr>\n",
       "    <tr>\n",
       "      <th>Resort Hotel</th>\n",
       "      <td>0.720242</td>\n",
       "      <td>0.279758</td>\n",
       "    </tr>\n",
       "  </tbody>\n",
       "</table>\n",
       "</div>"
      ],
      "text/plain": [
       "is_canceled          0         1\n",
       "hotel                           \n",
       "City Hotel    0.582889  0.417111\n",
       "Resort Hotel  0.720242  0.279758"
      ]
     },
     "execution_count": 77,
     "metadata": {},
     "output_type": "execute_result"
    }
   ],
   "source": [
    "# Hotel type and cancellation\n",
    "pd.crosstab(df['hotel'], df['is_canceled'], normalize = 'index')\n",
    "# city hotel cancellations are more than the resort type hotel cancellation\n",
    "# from the data we can assume that increase in number of bookings has a chance of increase in number of cancellation(positively correlated)"
   ]
  },
  {
   "cell_type": "code",
   "execution_count": 78,
   "id": "a5fe8afb",
   "metadata": {},
   "outputs": [
    {
     "data": {
      "text/html": [
       "<div>\n",
       "<style scoped>\n",
       "    .dataframe tbody tr th:only-of-type {\n",
       "        vertical-align: middle;\n",
       "    }\n",
       "\n",
       "    .dataframe tbody tr th {\n",
       "        vertical-align: top;\n",
       "    }\n",
       "\n",
       "    .dataframe thead th {\n",
       "        text-align: right;\n",
       "    }\n",
       "</style>\n",
       "<table border=\"1\" class=\"dataframe\">\n",
       "  <thead>\n",
       "    <tr style=\"text-align: right;\">\n",
       "      <th>is_canceled</th>\n",
       "      <th>0</th>\n",
       "      <th>1</th>\n",
       "    </tr>\n",
       "    <tr>\n",
       "      <th>lead_time_month</th>\n",
       "      <th></th>\n",
       "      <th></th>\n",
       "    </tr>\n",
       "  </thead>\n",
       "  <tbody>\n",
       "    <tr>\n",
       "      <th>0</th>\n",
       "      <td>0.816458</td>\n",
       "      <td>0.183542</td>\n",
       "    </tr>\n",
       "    <tr>\n",
       "      <th>1</th>\n",
       "      <td>0.636390</td>\n",
       "      <td>0.363610</td>\n",
       "    </tr>\n",
       "    <tr>\n",
       "      <th>2</th>\n",
       "      <td>0.602519</td>\n",
       "      <td>0.397481</td>\n",
       "    </tr>\n",
       "    <tr>\n",
       "      <th>3</th>\n",
       "      <td>0.559197</td>\n",
       "      <td>0.440803</td>\n",
       "    </tr>\n",
       "    <tr>\n",
       "      <th>4</th>\n",
       "      <td>0.563817</td>\n",
       "      <td>0.436183</td>\n",
       "    </tr>\n",
       "    <tr>\n",
       "      <th>5</th>\n",
       "      <td>0.537400</td>\n",
       "      <td>0.462600</td>\n",
       "    </tr>\n",
       "    <tr>\n",
       "      <th>6</th>\n",
       "      <td>0.553784</td>\n",
       "      <td>0.446216</td>\n",
       "    </tr>\n",
       "    <tr>\n",
       "      <th>7</th>\n",
       "      <td>0.530570</td>\n",
       "      <td>0.469430</td>\n",
       "    </tr>\n",
       "    <tr>\n",
       "      <th>8</th>\n",
       "      <td>0.449606</td>\n",
       "      <td>0.550394</td>\n",
       "    </tr>\n",
       "    <tr>\n",
       "      <th>9</th>\n",
       "      <td>0.361764</td>\n",
       "      <td>0.638236</td>\n",
       "    </tr>\n",
       "    <tr>\n",
       "      <th>10</th>\n",
       "      <td>0.306516</td>\n",
       "      <td>0.693484</td>\n",
       "    </tr>\n",
       "    <tr>\n",
       "      <th>11</th>\n",
       "      <td>0.294413</td>\n",
       "      <td>0.705587</td>\n",
       "    </tr>\n",
       "    <tr>\n",
       "      <th>12</th>\n",
       "      <td>0.421268</td>\n",
       "      <td>0.578732</td>\n",
       "    </tr>\n",
       "    <tr>\n",
       "      <th>13</th>\n",
       "      <td>0.375000</td>\n",
       "      <td>0.625000</td>\n",
       "    </tr>\n",
       "    <tr>\n",
       "      <th>14</th>\n",
       "      <td>0.272556</td>\n",
       "      <td>0.727444</td>\n",
       "    </tr>\n",
       "    <tr>\n",
       "      <th>15</th>\n",
       "      <td>0.351590</td>\n",
       "      <td>0.648410</td>\n",
       "    </tr>\n",
       "    <tr>\n",
       "      <th>16</th>\n",
       "      <td>0.170732</td>\n",
       "      <td>0.829268</td>\n",
       "    </tr>\n",
       "    <tr>\n",
       "      <th>17</th>\n",
       "      <td>0.188525</td>\n",
       "      <td>0.811475</td>\n",
       "    </tr>\n",
       "    <tr>\n",
       "      <th>18</th>\n",
       "      <td>0.252747</td>\n",
       "      <td>0.747253</td>\n",
       "    </tr>\n",
       "    <tr>\n",
       "      <th>19</th>\n",
       "      <td>0.000000</td>\n",
       "      <td>1.000000</td>\n",
       "    </tr>\n",
       "    <tr>\n",
       "      <th>20</th>\n",
       "      <td>0.000000</td>\n",
       "      <td>1.000000</td>\n",
       "    </tr>\n",
       "    <tr>\n",
       "      <th>23</th>\n",
       "      <td>1.000000</td>\n",
       "      <td>0.000000</td>\n",
       "    </tr>\n",
       "    <tr>\n",
       "      <th>24</th>\n",
       "      <td>1.000000</td>\n",
       "      <td>0.000000</td>\n",
       "    </tr>\n",
       "  </tbody>\n",
       "</table>\n",
       "</div>"
      ],
      "text/plain": [
       "is_canceled             0         1\n",
       "lead_time_month                    \n",
       "0                0.816458  0.183542\n",
       "1                0.636390  0.363610\n",
       "2                0.602519  0.397481\n",
       "3                0.559197  0.440803\n",
       "4                0.563817  0.436183\n",
       "5                0.537400  0.462600\n",
       "6                0.553784  0.446216\n",
       "7                0.530570  0.469430\n",
       "8                0.449606  0.550394\n",
       "9                0.361764  0.638236\n",
       "10               0.306516  0.693484\n",
       "11               0.294413  0.705587\n",
       "12               0.421268  0.578732\n",
       "13               0.375000  0.625000\n",
       "14               0.272556  0.727444\n",
       "15               0.351590  0.648410\n",
       "16               0.170732  0.829268\n",
       "17               0.188525  0.811475\n",
       "18               0.252747  0.747253\n",
       "19               0.000000  1.000000\n",
       "20               0.000000  1.000000\n",
       "23               1.000000  0.000000\n",
       "24               1.000000  0.000000"
      ]
     },
     "execution_count": 78,
     "metadata": {},
     "output_type": "execute_result"
    }
   ],
   "source": [
    "# LEAD TIME AND CANCELLATION\n",
    "pd.crosstab(df['lead_time_month'], df['is_canceled'], normalize = 'index')\n",
    "\n",
    "# can see that longer lead time has a high chances of  cancellation \n",
    "# more than 7 months have a high chances of cancellation"
   ]
  },
  {
   "cell_type": "code",
   "execution_count": 79,
   "id": "cf69d7f4",
   "metadata": {},
   "outputs": [
    {
     "data": {
      "text/html": [
       "<div>\n",
       "<style scoped>\n",
       "    .dataframe tbody tr th:only-of-type {\n",
       "        vertical-align: middle;\n",
       "    }\n",
       "\n",
       "    .dataframe tbody tr th {\n",
       "        vertical-align: top;\n",
       "    }\n",
       "\n",
       "    .dataframe thead th {\n",
       "        text-align: right;\n",
       "    }\n",
       "</style>\n",
       "<table border=\"1\" class=\"dataframe\">\n",
       "  <thead>\n",
       "    <tr style=\"text-align: right;\">\n",
       "      <th>is_canceled</th>\n",
       "      <th>0</th>\n",
       "      <th>1</th>\n",
       "    </tr>\n",
       "    <tr>\n",
       "      <th>arrival_date_year</th>\n",
       "      <th></th>\n",
       "      <th></th>\n",
       "    </tr>\n",
       "  </thead>\n",
       "  <tbody>\n",
       "    <tr>\n",
       "      <th>2015</th>\n",
       "      <td>0.629054</td>\n",
       "      <td>0.370946</td>\n",
       "    </tr>\n",
       "    <tr>\n",
       "      <th>2016</th>\n",
       "      <td>0.640075</td>\n",
       "      <td>0.359925</td>\n",
       "    </tr>\n",
       "    <tr>\n",
       "      <th>2017</th>\n",
       "      <td>0.612492</td>\n",
       "      <td>0.387508</td>\n",
       "    </tr>\n",
       "  </tbody>\n",
       "</table>\n",
       "</div>"
      ],
      "text/plain": [
       "is_canceled               0         1\n",
       "arrival_date_year                    \n",
       "2015               0.629054  0.370946\n",
       "2016               0.640075  0.359925\n",
       "2017               0.612492  0.387508"
      ]
     },
     "execution_count": 79,
     "metadata": {},
     "output_type": "execute_result"
    }
   ],
   "source": [
    "# ARRIVAL DATE YEAR AND CANCELLATION\n",
    "pd.crosstab(df['arrival_date_year'], df['is_canceled'], normalize = 'index')\n",
    "# we have only half yearly data in 2015 nd 2017 so can't interference properly"
   ]
  },
  {
   "cell_type": "code",
   "execution_count": 80,
   "id": "b118bcef",
   "metadata": {},
   "outputs": [
    {
     "data": {
      "text/html": [
       "<div>\n",
       "<style scoped>\n",
       "    .dataframe tbody tr th:only-of-type {\n",
       "        vertical-align: middle;\n",
       "    }\n",
       "\n",
       "    .dataframe tbody tr th {\n",
       "        vertical-align: top;\n",
       "    }\n",
       "\n",
       "    .dataframe thead th {\n",
       "        text-align: right;\n",
       "    }\n",
       "</style>\n",
       "<table border=\"1\" class=\"dataframe\">\n",
       "  <thead>\n",
       "    <tr style=\"text-align: right;\">\n",
       "      <th>is_canceled</th>\n",
       "      <th>0</th>\n",
       "      <th>1</th>\n",
       "    </tr>\n",
       "    <tr>\n",
       "      <th>arrival_date_month</th>\n",
       "      <th></th>\n",
       "      <th></th>\n",
       "    </tr>\n",
       "  </thead>\n",
       "  <tbody>\n",
       "    <tr>\n",
       "      <th>June</th>\n",
       "      <td>0.585065</td>\n",
       "      <td>0.414935</td>\n",
       "    </tr>\n",
       "    <tr>\n",
       "      <th>April</th>\n",
       "      <td>0.591489</td>\n",
       "      <td>0.408511</td>\n",
       "    </tr>\n",
       "    <tr>\n",
       "      <th>May</th>\n",
       "      <td>0.602937</td>\n",
       "      <td>0.397063</td>\n",
       "    </tr>\n",
       "    <tr>\n",
       "      <th>September</th>\n",
       "      <td>0.608293</td>\n",
       "      <td>0.391707</td>\n",
       "    </tr>\n",
       "    <tr>\n",
       "      <th>October</th>\n",
       "      <td>0.618927</td>\n",
       "      <td>0.381073</td>\n",
       "    </tr>\n",
       "    <tr>\n",
       "      <th>August</th>\n",
       "      <td>0.621969</td>\n",
       "      <td>0.378031</td>\n",
       "    </tr>\n",
       "    <tr>\n",
       "      <th>July</th>\n",
       "      <td>0.624960</td>\n",
       "      <td>0.375040</td>\n",
       "    </tr>\n",
       "    <tr>\n",
       "      <th>December</th>\n",
       "      <td>0.648781</td>\n",
       "      <td>0.351219</td>\n",
       "    </tr>\n",
       "    <tr>\n",
       "      <th>February</th>\n",
       "      <td>0.663630</td>\n",
       "      <td>0.336370</td>\n",
       "    </tr>\n",
       "    <tr>\n",
       "      <th>March</th>\n",
       "      <td>0.676800</td>\n",
       "      <td>0.323200</td>\n",
       "    </tr>\n",
       "    <tr>\n",
       "      <th>November</th>\n",
       "      <td>0.686019</td>\n",
       "      <td>0.313981</td>\n",
       "    </tr>\n",
       "    <tr>\n",
       "      <th>January</th>\n",
       "      <td>0.692543</td>\n",
       "      <td>0.307457</td>\n",
       "    </tr>\n",
       "  </tbody>\n",
       "</table>\n",
       "</div>"
      ],
      "text/plain": [
       "is_canceled                0         1\n",
       "arrival_date_month                    \n",
       "June                0.585065  0.414935\n",
       "April               0.591489  0.408511\n",
       "May                 0.602937  0.397063\n",
       "September           0.608293  0.391707\n",
       "October             0.618927  0.381073\n",
       "August              0.621969  0.378031\n",
       "July                0.624960  0.375040\n",
       "December            0.648781  0.351219\n",
       "February            0.663630  0.336370\n",
       "March               0.676800  0.323200\n",
       "November            0.686019  0.313981\n",
       "January             0.692543  0.307457"
      ]
     },
     "execution_count": 80,
     "metadata": {},
     "output_type": "execute_result"
    }
   ],
   "source": [
    "# ARRIVAL MONTH DATA AND CANCELLATION\n",
    "\n",
    "pd.crosstab(df['arrival_date_month'], df['is_canceled'], normalize = 'index').sort_values(1, ascending = False)\n",
    "\n",
    "# JUNE, APRIL, MAY CANCELLATION IS HIGH"
   ]
  },
  {
   "cell_type": "code",
   "execution_count": 81,
   "id": "750badf9",
   "metadata": {},
   "outputs": [
    {
     "data": {
      "text/html": [
       "<div>\n",
       "<style scoped>\n",
       "    .dataframe tbody tr th:only-of-type {\n",
       "        vertical-align: middle;\n",
       "    }\n",
       "\n",
       "    .dataframe tbody tr th {\n",
       "        vertical-align: top;\n",
       "    }\n",
       "\n",
       "    .dataframe thead th {\n",
       "        text-align: right;\n",
       "    }\n",
       "</style>\n",
       "<table border=\"1\" class=\"dataframe\">\n",
       "  <thead>\n",
       "    <tr style=\"text-align: right;\">\n",
       "      <th>is_canceled</th>\n",
       "      <th>0</th>\n",
       "      <th>1</th>\n",
       "    </tr>\n",
       "    <tr>\n",
       "      <th>adults</th>\n",
       "      <th></th>\n",
       "      <th></th>\n",
       "    </tr>\n",
       "  </thead>\n",
       "  <tbody>\n",
       "    <tr>\n",
       "      <th>5</th>\n",
       "      <td>0.000000</td>\n",
       "      <td>1.000000</td>\n",
       "    </tr>\n",
       "    <tr>\n",
       "      <th>6</th>\n",
       "      <td>0.000000</td>\n",
       "      <td>1.000000</td>\n",
       "    </tr>\n",
       "    <tr>\n",
       "      <th>10</th>\n",
       "      <td>0.000000</td>\n",
       "      <td>1.000000</td>\n",
       "    </tr>\n",
       "    <tr>\n",
       "      <th>20</th>\n",
       "      <td>0.000000</td>\n",
       "      <td>1.000000</td>\n",
       "    </tr>\n",
       "    <tr>\n",
       "      <th>26</th>\n",
       "      <td>0.000000</td>\n",
       "      <td>1.000000</td>\n",
       "    </tr>\n",
       "    <tr>\n",
       "      <th>27</th>\n",
       "      <td>0.000000</td>\n",
       "      <td>1.000000</td>\n",
       "    </tr>\n",
       "    <tr>\n",
       "      <th>40</th>\n",
       "      <td>0.000000</td>\n",
       "      <td>1.000000</td>\n",
       "    </tr>\n",
       "    <tr>\n",
       "      <th>50</th>\n",
       "      <td>0.000000</td>\n",
       "      <td>1.000000</td>\n",
       "    </tr>\n",
       "    <tr>\n",
       "      <th>55</th>\n",
       "      <td>0.000000</td>\n",
       "      <td>1.000000</td>\n",
       "    </tr>\n",
       "    <tr>\n",
       "      <th>2</th>\n",
       "      <td>0.606519</td>\n",
       "      <td>0.393481</td>\n",
       "    </tr>\n",
       "    <tr>\n",
       "      <th>3</th>\n",
       "      <td>0.652953</td>\n",
       "      <td>0.347047</td>\n",
       "    </tr>\n",
       "    <tr>\n",
       "      <th>1</th>\n",
       "      <td>0.707104</td>\n",
       "      <td>0.292896</td>\n",
       "    </tr>\n",
       "    <tr>\n",
       "      <th>4</th>\n",
       "      <td>0.741935</td>\n",
       "      <td>0.258065</td>\n",
       "    </tr>\n",
       "    <tr>\n",
       "      <th>0</th>\n",
       "      <td>0.748092</td>\n",
       "      <td>0.251908</td>\n",
       "    </tr>\n",
       "  </tbody>\n",
       "</table>\n",
       "</div>"
      ],
      "text/plain": [
       "is_canceled         0         1\n",
       "adults                         \n",
       "5            0.000000  1.000000\n",
       "6            0.000000  1.000000\n",
       "10           0.000000  1.000000\n",
       "20           0.000000  1.000000\n",
       "26           0.000000  1.000000\n",
       "27           0.000000  1.000000\n",
       "40           0.000000  1.000000\n",
       "50           0.000000  1.000000\n",
       "55           0.000000  1.000000\n",
       "2            0.606519  0.393481\n",
       "3            0.652953  0.347047\n",
       "1            0.707104  0.292896\n",
       "4            0.741935  0.258065\n",
       "0            0.748092  0.251908"
      ]
     },
     "execution_count": 81,
     "metadata": {},
     "output_type": "execute_result"
    }
   ],
   "source": [
    "# NUMBER OF ADULTS, KIDS AND CANCELLATION\n",
    "\n",
    "pd.crosstab(df['adults'], df['is_canceled'], normalize = 'index').sort_values(1, ascending = False)\n",
    "\n",
    "# morethan 4 adults is always been cancelled"
   ]
  },
  {
   "cell_type": "code",
   "execution_count": 82,
   "id": "f4f5672c",
   "metadata": {},
   "outputs": [
    {
     "data": {
      "text/html": [
       "<div>\n",
       "<style scoped>\n",
       "    .dataframe tbody tr th:only-of-type {\n",
       "        vertical-align: middle;\n",
       "    }\n",
       "\n",
       "    .dataframe tbody tr th {\n",
       "        vertical-align: top;\n",
       "    }\n",
       "\n",
       "    .dataframe thead th {\n",
       "        text-align: right;\n",
       "    }\n",
       "</style>\n",
       "<table border=\"1\" class=\"dataframe\">\n",
       "  <thead>\n",
       "    <tr style=\"text-align: right;\">\n",
       "      <th>is_canceled</th>\n",
       "      <th>0</th>\n",
       "      <th>1</th>\n",
       "    </tr>\n",
       "    <tr>\n",
       "      <th>kids</th>\n",
       "      <th></th>\n",
       "      <th></th>\n",
       "    </tr>\n",
       "  </thead>\n",
       "  <tbody>\n",
       "    <tr>\n",
       "      <th>0</th>\n",
       "      <td>0.626791</td>\n",
       "      <td>0.373209</td>\n",
       "    </tr>\n",
       "    <tr>\n",
       "      <th>1</th>\n",
       "      <td>0.691444</td>\n",
       "      <td>0.308556</td>\n",
       "    </tr>\n",
       "    <tr>\n",
       "      <th>2</th>\n",
       "      <td>0.588485</td>\n",
       "      <td>0.411515</td>\n",
       "    </tr>\n",
       "    <tr>\n",
       "      <th>3</th>\n",
       "      <td>0.729730</td>\n",
       "      <td>0.270270</td>\n",
       "    </tr>\n",
       "    <tr>\n",
       "      <th>9</th>\n",
       "      <td>1.000000</td>\n",
       "      <td>0.000000</td>\n",
       "    </tr>\n",
       "    <tr>\n",
       "      <th>10</th>\n",
       "      <td>0.500000</td>\n",
       "      <td>0.500000</td>\n",
       "    </tr>\n",
       "  </tbody>\n",
       "</table>\n",
       "</div>"
      ],
      "text/plain": [
       "is_canceled         0         1\n",
       "kids                           \n",
       "0            0.626791  0.373209\n",
       "1            0.691444  0.308556\n",
       "2            0.588485  0.411515\n",
       "3            0.729730  0.270270\n",
       "9            1.000000  0.000000\n",
       "10           0.500000  0.500000"
      ]
     },
     "execution_count": 82,
     "metadata": {},
     "output_type": "execute_result"
    }
   ],
   "source": [
    "pd.crosstab(df['kids'], df['is_canceled'], normalize = 'index')\n",
    "# kids do not have correlation with cancellation"
   ]
  },
  {
   "cell_type": "code",
   "execution_count": 83,
   "id": "09c09224",
   "metadata": {},
   "outputs": [],
   "source": [
    "# BOOKING MEAL PACKAGE AND CANCELLATION"
   ]
  },
  {
   "cell_type": "code",
   "execution_count": 84,
   "id": "a0b76526",
   "metadata": {},
   "outputs": [
    {
     "data": {
      "text/html": [
       "<div>\n",
       "<style scoped>\n",
       "    .dataframe tbody tr th:only-of-type {\n",
       "        vertical-align: middle;\n",
       "    }\n",
       "\n",
       "    .dataframe tbody tr th {\n",
       "        vertical-align: top;\n",
       "    }\n",
       "\n",
       "    .dataframe thead th {\n",
       "        text-align: right;\n",
       "    }\n",
       "</style>\n",
       "<table border=\"1\" class=\"dataframe\">\n",
       "  <thead>\n",
       "    <tr style=\"text-align: right;\">\n",
       "      <th>is_canceled</th>\n",
       "      <th>0</th>\n",
       "      <th>1</th>\n",
       "    </tr>\n",
       "    <tr>\n",
       "      <th>meal</th>\n",
       "      <th></th>\n",
       "      <th></th>\n",
       "    </tr>\n",
       "  </thead>\n",
       "  <tbody>\n",
       "    <tr>\n",
       "      <th>BB</th>\n",
       "      <td>0.624939</td>\n",
       "      <td>0.375061</td>\n",
       "    </tr>\n",
       "    <tr>\n",
       "      <th>FB</th>\n",
       "      <td>0.401003</td>\n",
       "      <td>0.598997</td>\n",
       "    </tr>\n",
       "    <tr>\n",
       "      <th>HB</th>\n",
       "      <td>0.654912</td>\n",
       "      <td>0.345088</td>\n",
       "    </tr>\n",
       "    <tr>\n",
       "      <th>SC</th>\n",
       "      <td>0.640600</td>\n",
       "      <td>0.359400</td>\n",
       "    </tr>\n",
       "  </tbody>\n",
       "</table>\n",
       "</div>"
      ],
      "text/plain": [
       "is_canceled         0         1\n",
       "meal                           \n",
       "BB           0.624939  0.375061\n",
       "FB           0.401003  0.598997\n",
       "HB           0.654912  0.345088\n",
       "SC           0.640600  0.359400"
      ]
     },
     "execution_count": 84,
     "metadata": {},
     "output_type": "execute_result"
    }
   ],
   "source": [
    "\n",
    "pd.crosstab(df['meal'], df['is_canceled'], normalize = 'index')\n",
    "\n",
    "# booking with  full board meal has likely more cancellation when compare to other meals"
   ]
  },
  {
   "cell_type": "code",
   "execution_count": 85,
   "id": "3a185e16",
   "metadata": {},
   "outputs": [
    {
     "data": {
      "text/html": [
       "<div>\n",
       "<style scoped>\n",
       "    .dataframe tbody tr th:only-of-type {\n",
       "        vertical-align: middle;\n",
       "    }\n",
       "\n",
       "    .dataframe tbody tr th {\n",
       "        vertical-align: top;\n",
       "    }\n",
       "\n",
       "    .dataframe thead th {\n",
       "        text-align: right;\n",
       "    }\n",
       "</style>\n",
       "<table border=\"1\" class=\"dataframe\">\n",
       "  <thead>\n",
       "    <tr style=\"text-align: right;\">\n",
       "      <th>is_canceled</th>\n",
       "      <th>0</th>\n",
       "      <th>1</th>\n",
       "    </tr>\n",
       "    <tr>\n",
       "      <th>booking_location</th>\n",
       "      <th></th>\n",
       "      <th></th>\n",
       "    </tr>\n",
       "  </thead>\n",
       "  <tbody>\n",
       "    <tr>\n",
       "      <th>0</th>\n",
       "      <td>0.433658</td>\n",
       "      <td>0.566342</td>\n",
       "    </tr>\n",
       "    <tr>\n",
       "      <th>1</th>\n",
       "      <td>0.763366</td>\n",
       "      <td>0.236634</td>\n",
       "    </tr>\n",
       "  </tbody>\n",
       "</table>\n",
       "</div>"
      ],
      "text/plain": [
       "is_canceled              0         1\n",
       "booking_location                    \n",
       "0                 0.433658  0.566342\n",
       "1                 0.763366  0.236634"
      ]
     },
     "execution_count": 85,
     "metadata": {},
     "output_type": "execute_result"
    }
   ],
   "source": [
    "# booking location and cancellation\n",
    "\n",
    "pd.crosstab(df['booking_location'], df['is_canceled'], normalize = 'index')\n",
    "\n",
    "# international cancellation is much less when compare to the portugal cancellation"
   ]
  },
  {
   "cell_type": "code",
   "execution_count": 86,
   "id": "66e752e4",
   "metadata": {},
   "outputs": [
    {
     "data": {
      "text/html": [
       "<div>\n",
       "<style scoped>\n",
       "    .dataframe tbody tr th:only-of-type {\n",
       "        vertical-align: middle;\n",
       "    }\n",
       "\n",
       "    .dataframe tbody tr th {\n",
       "        vertical-align: top;\n",
       "    }\n",
       "\n",
       "    .dataframe thead th {\n",
       "        text-align: right;\n",
       "    }\n",
       "</style>\n",
       "<table border=\"1\" class=\"dataframe\">\n",
       "  <thead>\n",
       "    <tr style=\"text-align: right;\">\n",
       "      <th>is_canceled</th>\n",
       "      <th>0</th>\n",
       "      <th>1</th>\n",
       "    </tr>\n",
       "    <tr>\n",
       "      <th>market_segment</th>\n",
       "      <th></th>\n",
       "      <th></th>\n",
       "    </tr>\n",
       "  </thead>\n",
       "  <tbody>\n",
       "    <tr>\n",
       "      <th>Aviation</th>\n",
       "      <td>0.780591</td>\n",
       "      <td>0.219409</td>\n",
       "    </tr>\n",
       "    <tr>\n",
       "      <th>Complementary</th>\n",
       "      <td>0.877384</td>\n",
       "      <td>0.122616</td>\n",
       "    </tr>\n",
       "    <tr>\n",
       "      <th>Corporate</th>\n",
       "      <td>0.808648</td>\n",
       "      <td>0.191352</td>\n",
       "    </tr>\n",
       "    <tr>\n",
       "      <th>Direct</th>\n",
       "      <td>0.845690</td>\n",
       "      <td>0.154310</td>\n",
       "    </tr>\n",
       "    <tr>\n",
       "      <th>Groups</th>\n",
       "      <td>0.389195</td>\n",
       "      <td>0.610805</td>\n",
       "    </tr>\n",
       "    <tr>\n",
       "      <th>Offline TA/TO</th>\n",
       "      <td>0.657395</td>\n",
       "      <td>0.342605</td>\n",
       "    </tr>\n",
       "    <tr>\n",
       "      <th>Online TA</th>\n",
       "      <td>0.632307</td>\n",
       "      <td>0.367693</td>\n",
       "    </tr>\n",
       "    <tr>\n",
       "      <th>Undefined</th>\n",
       "      <td>0.000000</td>\n",
       "      <td>1.000000</td>\n",
       "    </tr>\n",
       "  </tbody>\n",
       "</table>\n",
       "</div>"
      ],
      "text/plain": [
       "is_canceled            0         1\n",
       "market_segment                    \n",
       "Aviation        0.780591  0.219409\n",
       "Complementary   0.877384  0.122616\n",
       "Corporate       0.808648  0.191352\n",
       "Direct          0.845690  0.154310\n",
       "Groups          0.389195  0.610805\n",
       "Offline TA/TO   0.657395  0.342605\n",
       "Online TA       0.632307  0.367693\n",
       "Undefined       0.000000  1.000000"
      ]
     },
     "execution_count": 86,
     "metadata": {},
     "output_type": "execute_result"
    }
   ],
   "source": [
    "# MARKET SEGMENT AND CANCELLATION\n",
    "\n",
    "pd.crosstab(df['market_segment'], df['is_canceled'], normalize = 'index')\n",
    "# market segment through groups has high number of cancellation when compare to others\n",
    "# lowest is direct/individual"
   ]
  },
  {
   "cell_type": "code",
   "execution_count": 87,
   "id": "cec95654",
   "metadata": {},
   "outputs": [
    {
     "data": {
      "text/html": [
       "<div>\n",
       "<style scoped>\n",
       "    .dataframe tbody tr th:only-of-type {\n",
       "        vertical-align: middle;\n",
       "    }\n",
       "\n",
       "    .dataframe tbody tr th {\n",
       "        vertical-align: top;\n",
       "    }\n",
       "\n",
       "    .dataframe thead th {\n",
       "        text-align: right;\n",
       "    }\n",
       "</style>\n",
       "<table border=\"1\" class=\"dataframe\">\n",
       "  <thead>\n",
       "    <tr style=\"text-align: right;\">\n",
       "      <th>is_canceled</th>\n",
       "      <th>0</th>\n",
       "      <th>1</th>\n",
       "    </tr>\n",
       "    <tr>\n",
       "      <th>distribution_channel</th>\n",
       "      <th></th>\n",
       "      <th></th>\n",
       "    </tr>\n",
       "  </thead>\n",
       "  <tbody>\n",
       "    <tr>\n",
       "      <th>Corporate</th>\n",
       "      <td>0.775998</td>\n",
       "      <td>0.224002</td>\n",
       "    </tr>\n",
       "    <tr>\n",
       "      <th>Direct</th>\n",
       "      <td>0.824403</td>\n",
       "      <td>0.175597</td>\n",
       "    </tr>\n",
       "    <tr>\n",
       "      <th>GDS</th>\n",
       "      <td>0.808290</td>\n",
       "      <td>0.191710</td>\n",
       "    </tr>\n",
       "    <tr>\n",
       "      <th>TA/TO</th>\n",
       "      <td>0.589497</td>\n",
       "      <td>0.410503</td>\n",
       "    </tr>\n",
       "    <tr>\n",
       "      <th>Undefined</th>\n",
       "      <td>0.200000</td>\n",
       "      <td>0.800000</td>\n",
       "    </tr>\n",
       "  </tbody>\n",
       "</table>\n",
       "</div>"
      ],
      "text/plain": [
       "is_canceled                  0         1\n",
       "distribution_channel                    \n",
       "Corporate             0.775998  0.224002\n",
       "Direct                0.824403  0.175597\n",
       "GDS                   0.808290  0.191710\n",
       "TA/TO                 0.589497  0.410503\n",
       "Undefined             0.200000  0.800000"
      ]
     },
     "execution_count": 87,
     "metadata": {},
     "output_type": "execute_result"
    }
   ],
   "source": [
    "pd.crosstab(df['distribution_channel'], df['is_canceled'], normalize = 'index')\n",
    "# travel agency online and / offline has high number of cancellation"
   ]
  },
  {
   "cell_type": "code",
   "execution_count": 88,
   "id": "0f9dff10",
   "metadata": {},
   "outputs": [
    {
     "data": {
      "text/html": [
       "<div>\n",
       "<style scoped>\n",
       "    .dataframe tbody tr th:only-of-type {\n",
       "        vertical-align: middle;\n",
       "    }\n",
       "\n",
       "    .dataframe tbody tr th {\n",
       "        vertical-align: top;\n",
       "    }\n",
       "\n",
       "    .dataframe thead th {\n",
       "        text-align: right;\n",
       "    }\n",
       "</style>\n",
       "<table border=\"1\" class=\"dataframe\">\n",
       "  <thead>\n",
       "    <tr style=\"text-align: right;\">\n",
       "      <th>is_canceled</th>\n",
       "      <th>0</th>\n",
       "      <th>1</th>\n",
       "    </tr>\n",
       "    <tr>\n",
       "      <th>is_previously_cancelled</th>\n",
       "      <th></th>\n",
       "      <th></th>\n",
       "    </tr>\n",
       "  </thead>\n",
       "  <tbody>\n",
       "    <tr>\n",
       "      <th>0</th>\n",
       "      <td>0.659965</td>\n",
       "      <td>0.340035</td>\n",
       "    </tr>\n",
       "    <tr>\n",
       "      <th>1</th>\n",
       "      <td>0.082054</td>\n",
       "      <td>0.917946</td>\n",
       "    </tr>\n",
       "  </tbody>\n",
       "</table>\n",
       "</div>"
      ],
      "text/plain": [
       "is_canceled                     0         1\n",
       "is_previously_cancelled                    \n",
       "0                        0.659965  0.340035\n",
       "1                        0.082054  0.917946"
      ]
     },
     "execution_count": 88,
     "metadata": {},
     "output_type": "execute_result"
    }
   ],
   "source": [
    "# booking changes and cancellation\n",
    "pd.crosstab(df['is_previously_cancelled'], df['is_canceled'], normalize = 'index')\n",
    "\n",
    "# previously cancelled are likely to cancelled again (92 %)"
   ]
  },
  {
   "cell_type": "code",
   "execution_count": 89,
   "id": "83357641",
   "metadata": {},
   "outputs": [
    {
     "data": {
      "text/html": [
       "<div>\n",
       "<style scoped>\n",
       "    .dataframe tbody tr th:only-of-type {\n",
       "        vertical-align: middle;\n",
       "    }\n",
       "\n",
       "    .dataframe tbody tr th {\n",
       "        vertical-align: top;\n",
       "    }\n",
       "\n",
       "    .dataframe thead th {\n",
       "        text-align: right;\n",
       "    }\n",
       "</style>\n",
       "<table border=\"1\" class=\"dataframe\">\n",
       "  <thead>\n",
       "    <tr style=\"text-align: right;\">\n",
       "      <th>is_canceled</th>\n",
       "      <th>0</th>\n",
       "      <th>1</th>\n",
       "    </tr>\n",
       "    <tr>\n",
       "      <th>deposit_type</th>\n",
       "      <th></th>\n",
       "      <th></th>\n",
       "    </tr>\n",
       "  </thead>\n",
       "  <tbody>\n",
       "    <tr>\n",
       "      <th>No Deposit</th>\n",
       "      <td>0.715445</td>\n",
       "      <td>0.284555</td>\n",
       "    </tr>\n",
       "    <tr>\n",
       "      <th>Non Refund</th>\n",
       "      <td>0.006382</td>\n",
       "      <td>0.993618</td>\n",
       "    </tr>\n",
       "    <tr>\n",
       "      <th>Refundable</th>\n",
       "      <td>0.777778</td>\n",
       "      <td>0.222222</td>\n",
       "    </tr>\n",
       "  </tbody>\n",
       "</table>\n",
       "</div>"
      ],
      "text/plain": [
       "is_canceled          0         1\n",
       "deposit_type                    \n",
       "No Deposit    0.715445  0.284555\n",
       "Non Refund    0.006382  0.993618\n",
       "Refundable    0.777778  0.222222"
      ]
     },
     "execution_count": 89,
     "metadata": {},
     "output_type": "execute_result"
    }
   ],
   "source": [
    "# deposit type and cancellation\n",
    "\n",
    "pd.crosstab(df['deposit_type'], df['is_canceled'], normalize = 'index')\n",
    "# non refund deposit type has high cancellation"
   ]
  },
  {
   "cell_type": "code",
   "execution_count": 90,
   "id": "c564e111",
   "metadata": {},
   "outputs": [
    {
     "data": {
      "text/html": [
       "<div>\n",
       "<style scoped>\n",
       "    .dataframe tbody tr th:only-of-type {\n",
       "        vertical-align: middle;\n",
       "    }\n",
       "\n",
       "    .dataframe tbody tr th {\n",
       "        vertical-align: top;\n",
       "    }\n",
       "\n",
       "    .dataframe thead th {\n",
       "        text-align: right;\n",
       "    }\n",
       "</style>\n",
       "<table border=\"1\" class=\"dataframe\">\n",
       "  <thead>\n",
       "    <tr style=\"text-align: right;\">\n",
       "      <th>is_canceled</th>\n",
       "      <th>0</th>\n",
       "      <th>1</th>\n",
       "    </tr>\n",
       "    <tr>\n",
       "      <th>total_of_special_requests</th>\n",
       "      <th></th>\n",
       "      <th></th>\n",
       "    </tr>\n",
       "  </thead>\n",
       "  <tbody>\n",
       "    <tr>\n",
       "      <th>0</th>\n",
       "      <td>0.521353</td>\n",
       "      <td>0.478647</td>\n",
       "    </tr>\n",
       "    <tr>\n",
       "      <th>1</th>\n",
       "      <td>0.779163</td>\n",
       "      <td>0.220837</td>\n",
       "    </tr>\n",
       "    <tr>\n",
       "      <th>2</th>\n",
       "      <td>0.778689</td>\n",
       "      <td>0.221311</td>\n",
       "    </tr>\n",
       "    <tr>\n",
       "      <th>3</th>\n",
       "      <td>0.821472</td>\n",
       "      <td>0.178528</td>\n",
       "    </tr>\n",
       "    <tr>\n",
       "      <th>4</th>\n",
       "      <td>0.893805</td>\n",
       "      <td>0.106195</td>\n",
       "    </tr>\n",
       "    <tr>\n",
       "      <th>5</th>\n",
       "      <td>0.973684</td>\n",
       "      <td>0.026316</td>\n",
       "    </tr>\n",
       "  </tbody>\n",
       "</table>\n",
       "</div>"
      ],
      "text/plain": [
       "is_canceled                       0         1\n",
       "total_of_special_requests                    \n",
       "0                          0.521353  0.478647\n",
       "1                          0.779163  0.220837\n",
       "2                          0.778689  0.221311\n",
       "3                          0.821472  0.178528\n",
       "4                          0.893805  0.106195\n",
       "5                          0.973684  0.026316"
      ]
     },
     "execution_count": 90,
     "metadata": {},
     "output_type": "execute_result"
    }
   ],
   "source": [
    "# special request and cancellation\n",
    "\n",
    "pd.crosstab(df['total_of_special_requests'], df['is_canceled'], normalize = 'index')\n",
    "# higher the special requests lower the cancellation (negative correlation)"
   ]
  },
  {
   "cell_type": "code",
   "execution_count": 91,
   "id": "91221272",
   "metadata": {},
   "outputs": [
    {
     "data": {
      "text/html": [
       "<div>\n",
       "<style scoped>\n",
       "    .dataframe tbody tr th:only-of-type {\n",
       "        vertical-align: middle;\n",
       "    }\n",
       "\n",
       "    .dataframe tbody tr th {\n",
       "        vertical-align: top;\n",
       "    }\n",
       "\n",
       "    .dataframe thead th {\n",
       "        text-align: right;\n",
       "    }\n",
       "</style>\n",
       "<table border=\"1\" class=\"dataframe\">\n",
       "  <thead>\n",
       "    <tr style=\"text-align: right;\">\n",
       "      <th>is_canceled</th>\n",
       "      <th>0</th>\n",
       "      <th>1</th>\n",
       "    </tr>\n",
       "    <tr>\n",
       "      <th>required_car_parking_spaces</th>\n",
       "      <th></th>\n",
       "      <th></th>\n",
       "    </tr>\n",
       "  </thead>\n",
       "  <tbody>\n",
       "    <tr>\n",
       "      <th>0</th>\n",
       "      <td>0.604301</td>\n",
       "      <td>0.395699</td>\n",
       "    </tr>\n",
       "    <tr>\n",
       "      <th>1</th>\n",
       "      <td>1.000000</td>\n",
       "      <td>0.000000</td>\n",
       "    </tr>\n",
       "    <tr>\n",
       "      <th>2</th>\n",
       "      <td>1.000000</td>\n",
       "      <td>0.000000</td>\n",
       "    </tr>\n",
       "    <tr>\n",
       "      <th>3</th>\n",
       "      <td>1.000000</td>\n",
       "      <td>0.000000</td>\n",
       "    </tr>\n",
       "    <tr>\n",
       "      <th>8</th>\n",
       "      <td>1.000000</td>\n",
       "      <td>0.000000</td>\n",
       "    </tr>\n",
       "  </tbody>\n",
       "</table>\n",
       "</div>"
      ],
      "text/plain": [
       "is_canceled                         0         1\n",
       "required_car_parking_spaces                    \n",
       "0                            0.604301  0.395699\n",
       "1                            1.000000  0.000000\n",
       "2                            1.000000  0.000000\n",
       "3                            1.000000  0.000000\n",
       "8                            1.000000  0.000000"
      ]
     },
     "execution_count": 91,
     "metadata": {},
     "output_type": "execute_result"
    }
   ],
   "source": [
    "# parking space and cancellation\n",
    "\n",
    "pd.crosstab(df['required_car_parking_spaces'], df['is_canceled'], normalize='index')\n",
    "# seems like who need car parking space never cancelled"
   ]
  },
  {
   "cell_type": "code",
   "execution_count": 92,
   "id": "de40baf6",
   "metadata": {},
   "outputs": [
    {
     "data": {
      "text/plain": [
       "<AxesSubplot:xlabel='arrival_date_year', ylabel='count'>"
      ]
     },
     "execution_count": 92,
     "metadata": {},
     "output_type": "execute_result"
    },
    {
     "data": {
      "image/png": "[encoded data removed]",
      "text/plain": [
       "<Figure size 432x288 with 1 Axes>"
      ]
     },
     "metadata": {
      "needs_background": "light"
     },
     "output_type": "display_data"
    }
   ],
   "source": [
    "sns.countplot(x='arrival_date_year', hue='hotel', data=df)"
   ]
  },
  {
   "cell_type": "code",
   "execution_count": 93,
   "id": "f83ed398",
   "metadata": {},
   "outputs": [
    {
     "data": {
      "text/plain": [
       "<matplotlib.legend.Legend at 0x7ff0711d2940>"
      ]
     },
     "execution_count": 93,
     "metadata": {},
     "output_type": "execute_result"
    },
    {
     "data": {
      "image/png": "[encoded data removed]",
      "text/plain": [
       "<Figure size 432x288 with 1 Axes>"
      ]
     },
     "metadata": {
      "needs_background": "light"
     },
     "output_type": "display_data"
    }
   ],
   "source": [
    "sns.countplot(x='hotel', hue='is_canceled', data=df)\n",
    "plt.legend(['Not Cancelled', 'Cancelled'])"
   ]
  },
  {
   "cell_type": "code",
   "execution_count": 94,
   "id": "225e8253",
   "metadata": {},
   "outputs": [
    {
     "name": "stderr",
     "output_type": "stream",
     "text": [
      "/opt/anaconda3/lib/python3.9/site-packages/seaborn/_decorators.py:36: FutureWarning: Pass the following variable as a keyword arg: x. From version 0.12, the only valid positional argument will be `data`, and passing other arguments without an explicit keyword will result in an error or misinterpretation.\n",
      "  warnings.warn(\n"
     ]
    },
    {
     "data": {
      "image/png": "[encoded data removed]",
      "text/plain": [
       "<Figure size 432x288 with 1 Axes>"
      ]
     },
     "metadata": {
      "needs_background": "light"
     },
     "output_type": "display_data"
    }
   ],
   "source": [
    "sns.countplot(df['arrival_date_month'], hue = df['is_canceled'])\n",
    "plt.xticks(rotation = 90)\n",
    "\n",
    "plt.show()\n",
    "\n",
    "# as we can see from the chart below the number of cancellation generally goes up as the number of booking goes up\n",
    "# however it doesn't seem number of cancellation has a linear effect towards number of booking \n",
    "# as we can see that there are certain month that has a higher percentage of confirmed booking compared to other months "
   ]
  },
  {
   "cell_type": "code",
   "execution_count": 95,
   "id": "f338cffe",
   "metadata": {},
   "outputs": [
    {
     "data": {
      "text/plain": [
       "Text(0.5, 1.0, 'Daily rate by customer type')"
      ]
     },
     "execution_count": 95,
     "metadata": {},
     "output_type": "execute_result"
    },
    {
     "data": {
      "image/png": "[encoded data removed]",
      "text/plain": [
       "<Figure size 432x288 with 1 Axes>"
      ]
     },
     "metadata": {
      "needs_background": "light"
     },
     "output_type": "display_data"
    }
   ],
   "source": [
    "sns.barplot(x='customer_type', y='adr', hue='hotel', data=df)\n",
    "plt.ylabel(\"Daily Price\")\n",
    "plt.xlabel(\"Customer Type\")\n",
    "plt.title(\"Daily rate by customer type\")"
   ]
  },
  {
   "cell_type": "code",
   "execution_count": 96,
   "id": "7741ab34",
   "metadata": {},
   "outputs": [
    {
     "data": {
      "text/plain": [
       "Text(0.5, 1.0, 'Days in advanced of booking the hotel')"
      ]
     },
     "execution_count": 96,
     "metadata": {},
     "output_type": "execute_result"
    },
    {
     "data": {
      "image/png": "[encoded data removed]",
      "text/plain": [
       "<Figure size 1080x576 with 1 Axes>"
      ]
     },
     "metadata": {
      "needs_background": "light"
     },
     "output_type": "display_data"
    }
   ],
   "source": [
    "plt.figure(figsize=(15,8))\n",
    "sns.histplot(x='lead_time', hue='hotel', data=df, kde=True)\n",
    "plt.xlabel(\"Number of Days\")\n",
    "plt.ylabel(\"Number of Bookings\")\n",
    "plt.title(\"Days in advanced of booking the hotel\")"
   ]
  },
  {
   "cell_type": "code",
   "execution_count": 97,
   "id": "c229dfa1",
   "metadata": {},
   "outputs": [
    {
     "data": {
      "text/plain": [
       "<AxesSubplot:>"
      ]
     },
     "execution_count": 97,
     "metadata": {},
     "output_type": "execute_result"
    },
    {
     "data": {
      "image/png": "[encoded data removed]",
      "text/plain": [
       "<Figure size 1440x1440 with 2 Axes>"
      ]
     },
     "metadata": {
      "needs_background": "light"
     },
     "output_type": "display_data"
    }
   ],
   "source": [
    "plt.figure(figsize=(20,20))\n",
    "sns.heatmap(df.corr(),annot = True)"
   ]
  },
  {
   "cell_type": "code",
   "execution_count": 98,
   "id": "32c13bc3",
   "metadata": {},
   "outputs": [],
   "source": [
    "# drop the columns which we have used in feature engineering and created same meaning feature\n",
    "df.drop(['hotel', 'assigned_room_type', 'reserved_room_type','booking_changes','country','reservation_status'], axis = 1, inplace = True)"
   ]
  },
  {
   "cell_type": "code",
   "execution_count": 99,
   "id": "08253c51",
   "metadata": {},
   "outputs": [],
   "source": [
    "df.drop(['arrival_date_month_number','arrival_date_day_of_month','arrival_date_year','arrival_date_month','arrival_date_week_number','reservation_status_date'], axis =1 , inplace = True)"
   ]
  },
  {
   "cell_type": "markdown",
   "id": "d4f07220",
   "metadata": {},
   "source": [
    "### statistical test"
   ]
  },
  {
   "cell_type": "markdown",
   "id": "1c4b0e6d",
   "metadata": {},
   "source": [
    "We perform Shapiro test to check if the numerical features are normally distributed or not."
   ]
  },
  {
   "cell_type": "markdown",
   "id": "67a5da1f",
   "metadata": {},
   "source": [
    "Hypothesis for shapiro Test\n",
    "\n",
    "H0 : Data is normally distributed\n",
    "\n",
    "H1 : Data is not normally distributed"
   ]
  },
  {
   "cell_type": "code",
   "execution_count": 100,
   "id": "33f13cd8",
   "metadata": {},
   "outputs": [],
   "source": [
    "num = df.select_dtypes(include=np.number)"
   ]
  },
  {
   "cell_type": "code",
   "execution_count": 101,
   "id": "d11f7e82",
   "metadata": {
    "id": "d11f7e82"
   },
   "outputs": [
    {
     "name": "stderr",
     "output_type": "stream",
     "text": [
      "/opt/anaconda3/lib/python3.9/site-packages/scipy/stats/morestats.py:1760: UserWarning: p-value may not be accurate for N > 5000.\n",
      "  warnings.warn(\"p-value may not be accurate for N > 5000.\")\n"
     ]
    },
    {
     "name": "stdout",
     "output_type": "stream",
     "text": [
      "Stats and p_value for is_canceled is \n",
      " ShapiroResult(statistic=0.6126282215118408, pvalue=0.0)\n",
      "\n",
      "Stats and p_value for lead_time is \n",
      " ShapiroResult(statistic=0.8574172854423523, pvalue=0.0)\n",
      "\n",
      "Stats and p_value for stays_in_weekend_nights is \n",
      " ShapiroResult(statistic=0.7829262018203735, pvalue=0.0)\n",
      "\n",
      "Stats and p_value for stays_in_week_nights is \n",
      " ShapiroResult(statistic=0.8069957494735718, pvalue=0.0)\n",
      "\n",
      "Stats and p_value for adults is \n",
      " ShapiroResult(statistic=0.4933854937553406, pvalue=0.0)\n",
      "\n",
      "Stats and p_value for is_repeated_guest is \n",
      " ShapiroResult(statistic=0.1663227081298828, pvalue=0.0)\n",
      "\n",
      "Stats and p_value for previous_cancellations is \n",
      " ShapiroResult(statistic=0.06583613157272339, pvalue=0.0)\n",
      "\n",
      "Stats and p_value for previous_bookings_not_canceled is \n",
      " ShapiroResult(statistic=0.06119149923324585, pvalue=0.0)\n",
      "\n",
      "Stats and p_value for days_in_waiting_list is \n",
      " ShapiroResult(statistic=0.1146044135093689, pvalue=0.0)\n",
      "\n",
      "Stats and p_value for adr is \n",
      " ShapiroResult(statistic=0.9468602538108826, pvalue=0.0)\n",
      "\n",
      "Stats and p_value for required_car_parking_spaces is \n",
      " ShapiroResult(statistic=0.253776490688324, pvalue=0.0)\n",
      "\n",
      "Stats and p_value for total_of_special_requests is \n",
      " ShapiroResult(statistic=0.717177152633667, pvalue=0.0)\n",
      "\n",
      "Stats and p_value for reservation date is \n",
      " ShapiroResult(statistic=0.954777181148529, pvalue=0.0)\n",
      "\n",
      "Stats and p_value for reservation month is \n",
      " ShapiroResult(statistic=0.9472691416740417, pvalue=0.0)\n",
      "\n",
      "Stats and p_value for reservation year is \n",
      " ShapiroResult(statistic=0.7399879693984985, pvalue=0.0)\n",
      "\n",
      "Stats and p_value for date_of_arrival is \n",
      " ShapiroResult(statistic=0.9647998213768005, pvalue=0.0)\n",
      "\n",
      "Stats and p_value for total_night_stays is \n",
      " ShapiroResult(statistic=0.7670314908027649, pvalue=0.0)\n",
      "\n",
      "Stats and p_value for One_day_stay is \n",
      " ShapiroResult(statistic=1.0, pvalue=1.0)\n",
      "\n",
      "Stats and p_value for kids is \n",
      " ShapiroResult(statistic=0.2921677231788635, pvalue=0.0)\n",
      "\n",
      "Stats and p_value for guests is \n",
      " ShapiroResult(statistic=0.6221352815628052, pvalue=0.0)\n",
      "\n",
      "Stats and p_value for lead_time_month is \n",
      " ShapiroResult(statistic=0.827353835105896, pvalue=0.0)\n",
      "\n",
      "Stats and p_value for booking_location is \n",
      " ShapiroResult(statistic=0.6229811906814575, pvalue=0.0)\n",
      "\n",
      "Stats and p_value for is_previously_cancelled is \n",
      " ShapiroResult(statistic=0.2359296679496765, pvalue=0.0)\n",
      "\n",
      "Stats and p_value for is_booking_changes is \n",
      " ShapiroResult(statistic=0.428128719329834, pvalue=0.0)\n",
      "\n",
      "Stats and p_value for hotel_encoded is \n",
      " ShapiroResult(statistic=0.5938068628311157, pvalue=0.0)\n",
      "\n"
     ]
    },
    {
     "name": "stderr",
     "output_type": "stream",
     "text": [
      "/opt/anaconda3/lib/python3.9/site-packages/scipy/stats/morestats.py:1757: UserWarning: Input data for shapiro has range zero. The results may not be accurate.\n",
      "  warnings.warn(\"Input data for shapiro has range zero. The results \"\n"
     ]
    }
   ],
   "source": [
    "# Shapiro-Wilk test\n",
    "\n",
    "from scipy.stats import shapiro\n",
    "for i in num.columns:\n",
    "    print('Stats and p_value for',i,'is','\\n',shapiro(num[i]))\n",
    "    print()"
   ]
  },
  {
   "cell_type": "markdown",
   "id": "c7feab75",
   "metadata": {},
   "source": [
    "Since p-value is less than 0.05 for all the independent numerical variables, we reject the null hypothesis. Hence the data is not normally distributed and we perform non parametric tests.\n",
    "\n",
    "As the data is not Normally distributed Anova cannot be performed so a Non – Parametric test Mann Whitney U test is being performed to get the Significant variables for further model building."
   ]
  },
  {
   "cell_type": "markdown",
   "id": "b4cf0da0",
   "metadata": {},
   "source": [
    "### Mann Whitney U test:"
   ]
  },
  {
   "cell_type": "code",
   "execution_count": 102,
   "id": "6ea4e472",
   "metadata": {},
   "outputs": [],
   "source": [
    "# Hypothesis of Mann-Whitney U Test\n",
    "\n",
    "# H0: Two samples have the same mean (insignificant) \n",
    "# H1: Two samples have different mean (significant)"
   ]
  },
  {
   "cell_type": "code",
   "execution_count": 103,
   "id": "12b822b2",
   "metadata": {},
   "outputs": [],
   "source": [
    "import scipy.stats as stats\n",
    "\n",
    "Utest_results = []\n",
    "for i in num.columns:\n",
    "    u_value,p_value = stats.mannwhitneyu(x=df['is_canceled'],y= num[i],alternative = 'two-sided')\n",
    "    Utest_results.append([i,u_value,p_value])\n",
    "    "
   ]
  },
  {
   "cell_type": "code",
   "execution_count": 104,
   "id": "03bb7ed7",
   "metadata": {},
   "outputs": [
    {
     "data": {
      "text/html": [
       "<div>\n",
       "<style scoped>\n",
       "    .dataframe tbody tr th:only-of-type {\n",
       "        vertical-align: middle;\n",
       "    }\n",
       "\n",
       "    .dataframe tbody tr th {\n",
       "        vertical-align: top;\n",
       "    }\n",
       "\n",
       "    .dataframe thead th {\n",
       "        text-align: right;\n",
       "    }\n",
       "</style>\n",
       "<table border=\"1\" class=\"dataframe\">\n",
       "  <thead>\n",
       "    <tr style=\"text-align: right;\">\n",
       "      <th></th>\n",
       "      <th>Utest-statistic</th>\n",
       "      <th>p_value</th>\n",
       "    </tr>\n",
       "    <tr>\n",
       "      <th>feature</th>\n",
       "      <th></th>\n",
       "      <th></th>\n",
       "    </tr>\n",
       "  </thead>\n",
       "  <tbody>\n",
       "    <tr>\n",
       "      <th>reservation date</th>\n",
       "      <td>9.259513e+07</td>\n",
       "      <td>0.0</td>\n",
       "    </tr>\n",
       "    <tr>\n",
       "      <th>is_previously_cancelled</th>\n",
       "      <td>9.310405e+09</td>\n",
       "      <td>0.0</td>\n",
       "    </tr>\n",
       "    <tr>\n",
       "      <th>booking_location</th>\n",
       "      <td>5.513690e+09</td>\n",
       "      <td>0.0</td>\n",
       "    </tr>\n",
       "    <tr>\n",
       "      <th>lead_time_month</th>\n",
       "      <td>3.449453e+09</td>\n",
       "      <td>0.0</td>\n",
       "    </tr>\n",
       "    <tr>\n",
       "      <th>guests</th>\n",
       "      <td>5.059563e+08</td>\n",
       "      <td>0.0</td>\n",
       "    </tr>\n",
       "    <tr>\n",
       "      <th>kids</th>\n",
       "      <td>9.053995e+09</td>\n",
       "      <td>0.0</td>\n",
       "    </tr>\n",
       "    <tr>\n",
       "      <th>One_day_stay</th>\n",
       "      <td>2.625074e+09</td>\n",
       "      <td>0.0</td>\n",
       "    </tr>\n",
       "    <tr>\n",
       "      <th>total_night_stays</th>\n",
       "      <td>5.162852e+08</td>\n",
       "      <td>0.0</td>\n",
       "    </tr>\n",
       "    <tr>\n",
       "      <th>date_of_arrival</th>\n",
       "      <td>0.000000e+00</td>\n",
       "      <td>0.0</td>\n",
       "    </tr>\n",
       "    <tr>\n",
       "      <th>reservation year</th>\n",
       "      <td>0.000000e+00</td>\n",
       "      <td>0.0</td>\n",
       "    </tr>\n",
       "    <tr>\n",
       "      <th>reservation month</th>\n",
       "      <td>2.345125e+08</td>\n",
       "      <td>0.0</td>\n",
       "    </tr>\n",
       "    <tr>\n",
       "      <th>is_booking_changes</th>\n",
       "      <td>8.623936e+09</td>\n",
       "      <td>0.0</td>\n",
       "    </tr>\n",
       "    <tr>\n",
       "      <th>hotel_encoded</th>\n",
       "      <td>4.978997e+09</td>\n",
       "      <td>0.0</td>\n",
       "    </tr>\n",
       "    <tr>\n",
       "      <th>required_car_parking_spaces</th>\n",
       "      <td>9.258371e+09</td>\n",
       "      <td>0.0</td>\n",
       "    </tr>\n",
       "    <tr>\n",
       "      <th>adr</th>\n",
       "      <td>1.584207e+08</td>\n",
       "      <td>0.0</td>\n",
       "    </tr>\n",
       "    <tr>\n",
       "      <th>days_in_waiting_list</th>\n",
       "      <td>9.392454e+09</td>\n",
       "      <td>0.0</td>\n",
       "    </tr>\n",
       "    <tr>\n",
       "      <th>previous_bookings_not_canceled</th>\n",
       "      <td>9.448867e+09</td>\n",
       "      <td>0.0</td>\n",
       "    </tr>\n",
       "    <tr>\n",
       "      <th>previous_cancellations</th>\n",
       "      <td>9.300912e+09</td>\n",
       "      <td>0.0</td>\n",
       "    </tr>\n",
       "    <tr>\n",
       "      <th>is_repeated_guest</th>\n",
       "      <td>9.467472e+09</td>\n",
       "      <td>0.0</td>\n",
       "    </tr>\n",
       "    <tr>\n",
       "      <th>adults</th>\n",
       "      <td>5.339838e+08</td>\n",
       "      <td>0.0</td>\n",
       "    </tr>\n",
       "    <tr>\n",
       "      <th>stays_in_week_nights</th>\n",
       "      <td>1.283451e+09</td>\n",
       "      <td>0.0</td>\n",
       "    </tr>\n",
       "    <tr>\n",
       "      <th>stays_in_weekend_nights</th>\n",
       "      <td>4.887424e+09</td>\n",
       "      <td>0.0</td>\n",
       "    </tr>\n",
       "    <tr>\n",
       "      <th>lead_time</th>\n",
       "      <td>5.823036e+08</td>\n",
       "      <td>0.0</td>\n",
       "    </tr>\n",
       "    <tr>\n",
       "      <th>total_of_special_requests</th>\n",
       "      <td>6.437375e+09</td>\n",
       "      <td>0.0</td>\n",
       "    </tr>\n",
       "    <tr>\n",
       "      <th>is_canceled</th>\n",
       "      <td>7.068605e+09</td>\n",
       "      <td>1.0</td>\n",
       "    </tr>\n",
       "  </tbody>\n",
       "</table>\n",
       "</div>"
      ],
      "text/plain": [
       "                                Utest-statistic  p_value\n",
       "feature                                                 \n",
       "reservation date                   9.259513e+07      0.0\n",
       "is_previously_cancelled            9.310405e+09      0.0\n",
       "booking_location                   5.513690e+09      0.0\n",
       "lead_time_month                    3.449453e+09      0.0\n",
       "guests                             5.059563e+08      0.0\n",
       "kids                               9.053995e+09      0.0\n",
       "One_day_stay                       2.625074e+09      0.0\n",
       "total_night_stays                  5.162852e+08      0.0\n",
       "date_of_arrival                    0.000000e+00      0.0\n",
       "reservation year                   0.000000e+00      0.0\n",
       "reservation month                  2.345125e+08      0.0\n",
       "is_booking_changes                 8.623936e+09      0.0\n",
       "hotel_encoded                      4.978997e+09      0.0\n",
       "required_car_parking_spaces        9.258371e+09      0.0\n",
       "adr                                1.584207e+08      0.0\n",
       "days_in_waiting_list               9.392454e+09      0.0\n",
       "previous_bookings_not_canceled     9.448867e+09      0.0\n",
       "previous_cancellations             9.300912e+09      0.0\n",
       "is_repeated_guest                  9.467472e+09      0.0\n",
       "adults                             5.339838e+08      0.0\n",
       "stays_in_week_nights               1.283451e+09      0.0\n",
       "stays_in_weekend_nights            4.887424e+09      0.0\n",
       "lead_time                          5.823036e+08      0.0\n",
       "total_of_special_requests          6.437375e+09      0.0\n",
       "is_canceled                        7.068605e+09      1.0"
      ]
     },
     "execution_count": 104,
     "metadata": {},
     "output_type": "execute_result"
    }
   ],
   "source": [
    "columns = ['feature','Utest-statistic','p_value']\n",
    "Utest_df = pd.DataFrame(Utest_results,columns = columns)\n",
    "Utest_df = Utest_df.sort_values('p_value').set_index('feature')\n",
    "Utest_df"
   ]
  },
  {
   "cell_type": "code",
   "execution_count": 105,
   "id": "937df7ea",
   "metadata": {},
   "outputs": [
    {
     "name": "stdout",
     "output_type": "stream",
     "text": [
      "Feature with significant MannwhitneyTest p-value: 24\n",
      "Feature with insignificant MannwhitneyTest p-value: 1\n"
     ]
    }
   ],
   "source": [
    "threshold = 0.05\n",
    "signi_Utest = Utest_df[Utest_df['p_value'] < threshold]\n",
    "\n",
    "print('Feature with significant MannwhitneyTest p-value: {}'.format(signi_Utest.shape[0]))\n",
    "print('Feature with insignificant MannwhitneyTest p-value: {}'.format(Utest_df.shape[0]-signi_Utest.shape[0]))"
   ]
  },
  {
   "cell_type": "markdown",
   "id": "ccf16baf",
   "metadata": {},
   "source": [
    "From the above table we will only consider the variables having p-value less than 0.05. But it can be seen that all the variables in the given data come out to be significant variables."
   ]
  },
  {
   "cell_type": "markdown",
   "id": "355ab43c",
   "metadata": {},
   "source": [
    "### Chi Square Test:"
   ]
  },
  {
   "cell_type": "markdown",
   "id": "4ce9882b",
   "metadata": {},
   "source": [
    "Categorical columns – For categorical columns we perform chi-square test to check for the significance of the categorical column with respect to ‘is_canceled’ Column."
   ]
  },
  {
   "cell_type": "markdown",
   "id": "708eaeda",
   "metadata": {},
   "source": [
    "Hypothesis of Chi-square test\n",
    "\n",
    "H0: Attributes are independent \n",
    "H1: Attributes are dependent"
   ]
  },
  {
   "cell_type": "code",
   "execution_count": 106,
   "id": "86d795a1",
   "metadata": {},
   "outputs": [
    {
     "name": "stderr",
     "output_type": "stream",
     "text": [
      "/var/folders/t0/8n7pwsc55_99vn99b4vq69sm0000gn/T/ipykernel_4735/4148490239.py:11: FutureWarning: The frame.append method is deprecated and will be removed from pandas in a future version. Use pandas.concat instead.\n",
      "  chi_sq = chi_sq.append({'Variable':i,'p_value':p_value},ignore_index=True)\n",
      "/var/folders/t0/8n7pwsc55_99vn99b4vq69sm0000gn/T/ipykernel_4735/4148490239.py:11: FutureWarning: The frame.append method is deprecated and will be removed from pandas in a future version. Use pandas.concat instead.\n",
      "  chi_sq = chi_sq.append({'Variable':i,'p_value':p_value},ignore_index=True)\n",
      "/var/folders/t0/8n7pwsc55_99vn99b4vq69sm0000gn/T/ipykernel_4735/4148490239.py:11: FutureWarning: The frame.append method is deprecated and will be removed from pandas in a future version. Use pandas.concat instead.\n",
      "  chi_sq = chi_sq.append({'Variable':i,'p_value':p_value},ignore_index=True)\n",
      "/var/folders/t0/8n7pwsc55_99vn99b4vq69sm0000gn/T/ipykernel_4735/4148490239.py:11: FutureWarning: The frame.append method is deprecated and will be removed from pandas in a future version. Use pandas.concat instead.\n",
      "  chi_sq = chi_sq.append({'Variable':i,'p_value':p_value},ignore_index=True)\n",
      "/var/folders/t0/8n7pwsc55_99vn99b4vq69sm0000gn/T/ipykernel_4735/4148490239.py:11: FutureWarning: The frame.append method is deprecated and will be removed from pandas in a future version. Use pandas.concat instead.\n",
      "  chi_sq = chi_sq.append({'Variable':i,'p_value':p_value},ignore_index=True)\n",
      "/var/folders/t0/8n7pwsc55_99vn99b4vq69sm0000gn/T/ipykernel_4735/4148490239.py:11: FutureWarning: The frame.append method is deprecated and will be removed from pandas in a future version. Use pandas.concat instead.\n",
      "  chi_sq = chi_sq.append({'Variable':i,'p_value':p_value},ignore_index=True)\n",
      "/var/folders/t0/8n7pwsc55_99vn99b4vq69sm0000gn/T/ipykernel_4735/4148490239.py:11: FutureWarning: The frame.append method is deprecated and will be removed from pandas in a future version. Use pandas.concat instead.\n",
      "  chi_sq = chi_sq.append({'Variable':i,'p_value':p_value},ignore_index=True)\n"
     ]
    },
    {
     "data": {
      "text/html": [
       "<div>\n",
       "<style scoped>\n",
       "    .dataframe tbody tr th:only-of-type {\n",
       "        vertical-align: middle;\n",
       "    }\n",
       "\n",
       "    .dataframe tbody tr th {\n",
       "        vertical-align: top;\n",
       "    }\n",
       "\n",
       "    .dataframe thead th {\n",
       "        text-align: right;\n",
       "    }\n",
       "</style>\n",
       "<table border=\"1\" class=\"dataframe\">\n",
       "  <thead>\n",
       "    <tr style=\"text-align: right;\">\n",
       "      <th></th>\n",
       "      <th>Variable</th>\n",
       "      <th>p_value</th>\n",
       "    </tr>\n",
       "  </thead>\n",
       "  <tbody>\n",
       "    <tr>\n",
       "      <th>0</th>\n",
       "      <td>meal</td>\n",
       "      <td>0.0</td>\n",
       "    </tr>\n",
       "    <tr>\n",
       "      <th>1</th>\n",
       "      <td>market_segment</td>\n",
       "      <td>0.0</td>\n",
       "    </tr>\n",
       "    <tr>\n",
       "      <th>2</th>\n",
       "      <td>distribution_channel</td>\n",
       "      <td>0.0</td>\n",
       "    </tr>\n",
       "    <tr>\n",
       "      <th>3</th>\n",
       "      <td>deposit_type</td>\n",
       "      <td>0.0</td>\n",
       "    </tr>\n",
       "    <tr>\n",
       "      <th>4</th>\n",
       "      <td>agent</td>\n",
       "      <td>0.0</td>\n",
       "    </tr>\n",
       "    <tr>\n",
       "      <th>5</th>\n",
       "      <td>company</td>\n",
       "      <td>0.0</td>\n",
       "    </tr>\n",
       "    <tr>\n",
       "      <th>6</th>\n",
       "      <td>customer_type</td>\n",
       "      <td>0.0</td>\n",
       "    </tr>\n",
       "  </tbody>\n",
       "</table>\n",
       "</div>"
      ],
      "text/plain": [
       "               Variable p_value\n",
       "0                  meal     0.0\n",
       "1        market_segment     0.0\n",
       "2  distribution_channel     0.0\n",
       "3          deposit_type     0.0\n",
       "4                 agent     0.0\n",
       "5               company     0.0\n",
       "6         customer_type     0.0"
      ]
     },
     "execution_count": 106,
     "metadata": {},
     "output_type": "execute_result"
    }
   ],
   "source": [
    "from scipy.stats import chi2,chi2_contingency\n",
    "chi_sq = pd.DataFrame(columns =['Variable','p_value'])\n",
    "for i in df.select_dtypes(include ='object'):\n",
    "    dataset_table = pd.crosstab(df[i],df['is_canceled'])\n",
    "    observed = dataset_table.values\n",
    "    val2 = stats.chi2_contingency(dataset_table)\n",
    "    expected = val2[3]\n",
    "    chi_square = sum([(o-e)**2./e for o,e in zip(observed,expected)])\n",
    "    chi_square_statistic = chi_square[0]+chi_square[1]\n",
    "    p_value = 1- chi2.cdf(x=chi_square_statistic,df=3)\n",
    "    chi_sq = chi_sq.append({'Variable':i,'p_value':p_value},ignore_index=True)\n",
    "chi_sq\n",
    "\n"
   ]
  },
  {
   "cell_type": "code",
   "execution_count": 107,
   "id": "b13d5f33",
   "metadata": {},
   "outputs": [
    {
     "name": "stdout",
     "output_type": "stream",
     "text": [
      "is_canceled      0      1\n",
      "meal                     \n",
      "BB           57410  34455\n",
      "FB             320    478\n",
      "HB            9453   4981\n",
      "SC            7561   4242 \n",
      "\n",
      "Chi2 value= 232.42542214535501\n",
      "p-value= 4.1342748979044987e-50\n",
      "Degrees of freedom= 3\n",
      "\n",
      "is_canceled         0      1\n",
      "market_segment              \n",
      "Aviation          185     52\n",
      "Complementary     644     90\n",
      "Corporate        4133    978\n",
      "Direct          10528   1921\n",
      "Groups           7708  12097\n",
      "Offline TA/TO   15882   8277\n",
      "Online TA       35664  20739\n",
      "Undefined           0      2 \n",
      "\n",
      "Chi2 value= 8395.670664457524\n",
      "p-value= 0.0\n",
      "Degrees of freedom= 7\n",
      "\n",
      "is_canceled               0      1\n",
      "distribution_channel              \n",
      "Corporate              5037   1454\n",
      "Direct                11939   2543\n",
      "GDS                     156     37\n",
      "TA/TO                 57611  40118\n",
      "Undefined                 1      4 \n",
      "\n",
      "Chi2 value= 3653.058249275475\n",
      "p-value= 0.0\n",
      "Degrees of freedom= 4\n",
      "\n",
      "is_canceled       0      1\n",
      "deposit_type              \n",
      "No Deposit    74525  29641\n",
      "Non Refund       93  14479\n",
      "Refundable      126     36 \n",
      "\n",
      "Chi2 value= 27546.4632849335\n",
      "p-value= 0.0\n",
      "Degrees of freedom= 2\n",
      "\n",
      "is_canceled      0     1\n",
      "agent                   \n",
      "1.0           1911  5280\n",
      "2.0            128    34\n",
      "3.0            565   771\n",
      "4.0             16    31\n",
      "5.0            180   149\n",
      "...            ...   ...\n",
      "526.0            9     1\n",
      "527.0           35     0\n",
      "531.0           22    46\n",
      "535.0            3     0\n",
      "0            12012  3994\n",
      "\n",
      "[333 rows x 2 columns] \n",
      "\n",
      "Chi2 value= 17662.190527504965\n",
      "p-value= 0.0\n",
      "Degrees of freedom= 332\n",
      "\n",
      "is_canceled      0      1\n",
      "company                  \n",
      "6.0              1      0\n",
      "8.0              1      0\n",
      "9.0             24      3\n",
      "10.0             1      0\n",
      "11.0             1      0\n",
      "...            ...    ...\n",
      "534.0            2      0\n",
      "539.0            2      0\n",
      "541.0            1      0\n",
      "543.0            0      2\n",
      "0            69289  42988\n",
      "\n",
      "[350 rows x 2 columns] \n",
      "\n",
      "Chi2 value= 2324.070176069539\n",
      "p-value= 3.411512043989887e-288\n",
      "Degrees of freedom= 349\n",
      "\n",
      "is_canceled          0      1\n",
      "customer_type                \n",
      "Contract          2814   1262\n",
      "Group              512     58\n",
      "Transient        52714  36459\n",
      "Transient-Party  18704   6377 \n",
      "\n",
      "Chi2 value= 2254.3674850963375\n",
      "p-value= 0.0\n",
      "Degrees of freedom= 3\n",
      "\n"
     ]
    }
   ],
   "source": [
    "cat = df.select_dtypes(include ='object')\n",
    "for i in cat:\n",
    "    nl = \"\\n\"\n",
    "    crosstab = pd.crosstab(cat[f\"{i}\"], df['is_canceled'])\n",
    "    print(crosstab, nl)\n",
    "    chi2, p, dof, expected = stats.chi2_contingency(crosstab)\n",
    "    print(f\"Chi2 value= {chi2}{nl}p-value= {p}{nl}Degrees of freedom= {dof}{nl}\")"
   ]
  },
  {
   "cell_type": "code",
   "execution_count": 108,
   "id": "b2fbbbd4",
   "metadata": {},
   "outputs": [
    {
     "name": "stdout",
     "output_type": "stream",
     "text": [
      "Feature with significant chi_sq p-value: 7\n",
      "Feature with insignificant chi_sq p-value: 0\n"
     ]
    }
   ],
   "source": [
    "threshold = 0.05\n",
    "signi_chi = chi_sq[chi_sq['p_value'] < threshold]\n",
    "\n",
    "print('Feature with significant chi_sq p-value: {}'.format(signi_chi.shape[0]))\n",
    "print('Feature with insignificant chi_sq p-value: {}'.format(chi_sq.shape[0]-signi_chi.shape[0]))"
   ]
  },
  {
   "cell_type": "code",
   "execution_count": 109,
   "id": "2e072aa6",
   "metadata": {
    "id": "2e072aa6"
   },
   "outputs": [],
   "source": [
    "from sklearn import preprocessing\n",
    "from sklearn.preprocessing import StandardScaler\n",
    "from sklearn.model_selection import train_test_split, RandomizedSearchCV, cross_val_score, GridSearchCV,StratifiedKFold,KFold\n",
    "from sklearn.metrics import classification_report, roc_auc_score, auc, roc_curve, confusion_matrix, accuracy_score, precision_score, recall_score,f1_score\n",
    "from sklearn.linear_model import LogisticRegression\n",
    "from sklearn.neighbors import KNeighborsClassifier\n",
    "from sklearn.ensemble import RandomForestClassifier, GradientBoostingClassifier, ExtraTreesClassifier, AdaBoostClassifier\n",
    "from xgboost import XGBClassifier\n",
    "from sklearn.tree import DecisionTreeClassifier"
   ]
  },
  {
   "cell_type": "markdown",
   "id": "378a0982",
   "metadata": {},
   "source": [
    "### GRID SEARCH"
   ]
  },
  {
   "cell_type": "code",
   "execution_count": 110,
   "id": "bc184501",
   "metadata": {
    "id": "bc184501"
   },
   "outputs": [
    {
     "data": {
      "text/plain": [
       "Index(['meal', 'market_segment', 'distribution_channel', 'deposit_type',\n",
       "       'agent', 'company', 'customer_type'],\n",
       "      dtype='object')"
      ]
     },
     "execution_count": 110,
     "metadata": {},
     "output_type": "execute_result"
    }
   ],
   "source": [
    "cat = df.select_dtypes(include = 'object')\n",
    "cat.columns"
   ]
  },
  {
   "cell_type": "code",
   "execution_count": 111,
   "id": "b3076a09",
   "metadata": {
    "id": "b3076a09"
   },
   "outputs": [
    {
     "data": {
      "text/plain": [
       "Index(['is_canceled', 'lead_time', 'stays_in_weekend_nights',\n",
       "       'stays_in_week_nights', 'adults', 'is_repeated_guest',\n",
       "       'previous_cancellations', 'previous_bookings_not_canceled',\n",
       "       'days_in_waiting_list', 'adr', 'required_car_parking_spaces',\n",
       "       'total_of_special_requests', 'reservation date', 'reservation month',\n",
       "       'reservation year', 'date_of_arrival', 'total_night_stays',\n",
       "       'One_day_stay', 'kids', 'guests', 'lead_time_month', 'booking_location',\n",
       "       'is_previously_cancelled', 'is_booking_changes', 'hotel_encoded'],\n",
       "      dtype='object')"
      ]
     },
     "execution_count": 111,
     "metadata": {},
     "output_type": "execute_result"
    }
   ],
   "source": [
    "num = df.select_dtypes(include = np.number)\n",
    "num.columns"
   ]
  },
  {
   "cell_type": "code",
   "execution_count": 112,
   "id": "0220abda",
   "metadata": {
    "id": "0220abda"
   },
   "outputs": [
    {
     "data": {
      "text/html": [
       "<div>\n",
       "<style scoped>\n",
       "    .dataframe tbody tr th:only-of-type {\n",
       "        vertical-align: middle;\n",
       "    }\n",
       "\n",
       "    .dataframe tbody tr th {\n",
       "        vertical-align: top;\n",
       "    }\n",
       "\n",
       "    .dataframe thead th {\n",
       "        text-align: right;\n",
       "    }\n",
       "</style>\n",
       "<table border=\"1\" class=\"dataframe\">\n",
       "  <thead>\n",
       "    <tr style=\"text-align: right;\">\n",
       "      <th></th>\n",
       "      <th>meal_FB</th>\n",
       "      <th>meal_HB</th>\n",
       "      <th>meal_SC</th>\n",
       "      <th>market_segment_Complementary</th>\n",
       "      <th>market_segment_Corporate</th>\n",
       "      <th>market_segment_Direct</th>\n",
       "      <th>market_segment_Groups</th>\n",
       "      <th>market_segment_Offline TA/TO</th>\n",
       "      <th>market_segment_Online TA</th>\n",
       "      <th>market_segment_Undefined</th>\n",
       "      <th>...</th>\n",
       "      <th>company_530.0</th>\n",
       "      <th>company_531.0</th>\n",
       "      <th>company_534.0</th>\n",
       "      <th>company_539.0</th>\n",
       "      <th>company_541.0</th>\n",
       "      <th>company_543.0</th>\n",
       "      <th>company_0</th>\n",
       "      <th>customer_type_Group</th>\n",
       "      <th>customer_type_Transient</th>\n",
       "      <th>customer_type_Transient-Party</th>\n",
       "    </tr>\n",
       "  </thead>\n",
       "  <tbody>\n",
       "    <tr>\n",
       "      <th>0</th>\n",
       "      <td>0</td>\n",
       "      <td>0</td>\n",
       "      <td>0</td>\n",
       "      <td>0</td>\n",
       "      <td>0</td>\n",
       "      <td>1</td>\n",
       "      <td>0</td>\n",
       "      <td>0</td>\n",
       "      <td>0</td>\n",
       "      <td>0</td>\n",
       "      <td>...</td>\n",
       "      <td>0</td>\n",
       "      <td>0</td>\n",
       "      <td>0</td>\n",
       "      <td>0</td>\n",
       "      <td>0</td>\n",
       "      <td>0</td>\n",
       "      <td>1</td>\n",
       "      <td>0</td>\n",
       "      <td>1</td>\n",
       "      <td>0</td>\n",
       "    </tr>\n",
       "    <tr>\n",
       "      <th>1</th>\n",
       "      <td>0</td>\n",
       "      <td>0</td>\n",
       "      <td>0</td>\n",
       "      <td>0</td>\n",
       "      <td>0</td>\n",
       "      <td>1</td>\n",
       "      <td>0</td>\n",
       "      <td>0</td>\n",
       "      <td>0</td>\n",
       "      <td>0</td>\n",
       "      <td>...</td>\n",
       "      <td>0</td>\n",
       "      <td>0</td>\n",
       "      <td>0</td>\n",
       "      <td>0</td>\n",
       "      <td>0</td>\n",
       "      <td>0</td>\n",
       "      <td>1</td>\n",
       "      <td>0</td>\n",
       "      <td>1</td>\n",
       "      <td>0</td>\n",
       "    </tr>\n",
       "    <tr>\n",
       "      <th>2</th>\n",
       "      <td>0</td>\n",
       "      <td>0</td>\n",
       "      <td>0</td>\n",
       "      <td>0</td>\n",
       "      <td>0</td>\n",
       "      <td>1</td>\n",
       "      <td>0</td>\n",
       "      <td>0</td>\n",
       "      <td>0</td>\n",
       "      <td>0</td>\n",
       "      <td>...</td>\n",
       "      <td>0</td>\n",
       "      <td>0</td>\n",
       "      <td>0</td>\n",
       "      <td>0</td>\n",
       "      <td>0</td>\n",
       "      <td>0</td>\n",
       "      <td>1</td>\n",
       "      <td>0</td>\n",
       "      <td>1</td>\n",
       "      <td>0</td>\n",
       "    </tr>\n",
       "    <tr>\n",
       "      <th>3</th>\n",
       "      <td>0</td>\n",
       "      <td>0</td>\n",
       "      <td>0</td>\n",
       "      <td>0</td>\n",
       "      <td>1</td>\n",
       "      <td>0</td>\n",
       "      <td>0</td>\n",
       "      <td>0</td>\n",
       "      <td>0</td>\n",
       "      <td>0</td>\n",
       "      <td>...</td>\n",
       "      <td>0</td>\n",
       "      <td>0</td>\n",
       "      <td>0</td>\n",
       "      <td>0</td>\n",
       "      <td>0</td>\n",
       "      <td>0</td>\n",
       "      <td>1</td>\n",
       "      <td>0</td>\n",
       "      <td>1</td>\n",
       "      <td>0</td>\n",
       "    </tr>\n",
       "    <tr>\n",
       "      <th>4</th>\n",
       "      <td>0</td>\n",
       "      <td>0</td>\n",
       "      <td>0</td>\n",
       "      <td>0</td>\n",
       "      <td>0</td>\n",
       "      <td>0</td>\n",
       "      <td>0</td>\n",
       "      <td>0</td>\n",
       "      <td>1</td>\n",
       "      <td>0</td>\n",
       "      <td>...</td>\n",
       "      <td>0</td>\n",
       "      <td>0</td>\n",
       "      <td>0</td>\n",
       "      <td>0</td>\n",
       "      <td>0</td>\n",
       "      <td>0</td>\n",
       "      <td>1</td>\n",
       "      <td>0</td>\n",
       "      <td>1</td>\n",
       "      <td>0</td>\n",
       "    </tr>\n",
       "    <tr>\n",
       "      <th>...</th>\n",
       "      <td>...</td>\n",
       "      <td>...</td>\n",
       "      <td>...</td>\n",
       "      <td>...</td>\n",
       "      <td>...</td>\n",
       "      <td>...</td>\n",
       "      <td>...</td>\n",
       "      <td>...</td>\n",
       "      <td>...</td>\n",
       "      <td>...</td>\n",
       "      <td>...</td>\n",
       "      <td>...</td>\n",
       "      <td>...</td>\n",
       "      <td>...</td>\n",
       "      <td>...</td>\n",
       "      <td>...</td>\n",
       "      <td>...</td>\n",
       "      <td>...</td>\n",
       "      <td>...</td>\n",
       "      <td>...</td>\n",
       "      <td>...</td>\n",
       "    </tr>\n",
       "    <tr>\n",
       "      <th>119385</th>\n",
       "      <td>0</td>\n",
       "      <td>0</td>\n",
       "      <td>0</td>\n",
       "      <td>0</td>\n",
       "      <td>0</td>\n",
       "      <td>0</td>\n",
       "      <td>0</td>\n",
       "      <td>1</td>\n",
       "      <td>0</td>\n",
       "      <td>0</td>\n",
       "      <td>...</td>\n",
       "      <td>0</td>\n",
       "      <td>0</td>\n",
       "      <td>0</td>\n",
       "      <td>0</td>\n",
       "      <td>0</td>\n",
       "      <td>0</td>\n",
       "      <td>1</td>\n",
       "      <td>0</td>\n",
       "      <td>1</td>\n",
       "      <td>0</td>\n",
       "    </tr>\n",
       "    <tr>\n",
       "      <th>119386</th>\n",
       "      <td>0</td>\n",
       "      <td>0</td>\n",
       "      <td>0</td>\n",
       "      <td>0</td>\n",
       "      <td>0</td>\n",
       "      <td>0</td>\n",
       "      <td>0</td>\n",
       "      <td>0</td>\n",
       "      <td>1</td>\n",
       "      <td>0</td>\n",
       "      <td>...</td>\n",
       "      <td>0</td>\n",
       "      <td>0</td>\n",
       "      <td>0</td>\n",
       "      <td>0</td>\n",
       "      <td>0</td>\n",
       "      <td>0</td>\n",
       "      <td>1</td>\n",
       "      <td>0</td>\n",
       "      <td>1</td>\n",
       "      <td>0</td>\n",
       "    </tr>\n",
       "    <tr>\n",
       "      <th>119387</th>\n",
       "      <td>0</td>\n",
       "      <td>0</td>\n",
       "      <td>0</td>\n",
       "      <td>0</td>\n",
       "      <td>0</td>\n",
       "      <td>0</td>\n",
       "      <td>0</td>\n",
       "      <td>0</td>\n",
       "      <td>1</td>\n",
       "      <td>0</td>\n",
       "      <td>...</td>\n",
       "      <td>0</td>\n",
       "      <td>0</td>\n",
       "      <td>0</td>\n",
       "      <td>0</td>\n",
       "      <td>0</td>\n",
       "      <td>0</td>\n",
       "      <td>1</td>\n",
       "      <td>0</td>\n",
       "      <td>1</td>\n",
       "      <td>0</td>\n",
       "    </tr>\n",
       "    <tr>\n",
       "      <th>119388</th>\n",
       "      <td>0</td>\n",
       "      <td>0</td>\n",
       "      <td>0</td>\n",
       "      <td>0</td>\n",
       "      <td>0</td>\n",
       "      <td>0</td>\n",
       "      <td>0</td>\n",
       "      <td>0</td>\n",
       "      <td>1</td>\n",
       "      <td>0</td>\n",
       "      <td>...</td>\n",
       "      <td>0</td>\n",
       "      <td>0</td>\n",
       "      <td>0</td>\n",
       "      <td>0</td>\n",
       "      <td>0</td>\n",
       "      <td>0</td>\n",
       "      <td>1</td>\n",
       "      <td>0</td>\n",
       "      <td>1</td>\n",
       "      <td>0</td>\n",
       "    </tr>\n",
       "    <tr>\n",
       "      <th>119389</th>\n",
       "      <td>0</td>\n",
       "      <td>1</td>\n",
       "      <td>0</td>\n",
       "      <td>0</td>\n",
       "      <td>0</td>\n",
       "      <td>0</td>\n",
       "      <td>0</td>\n",
       "      <td>0</td>\n",
       "      <td>1</td>\n",
       "      <td>0</td>\n",
       "      <td>...</td>\n",
       "      <td>0</td>\n",
       "      <td>0</td>\n",
       "      <td>0</td>\n",
       "      <td>0</td>\n",
       "      <td>0</td>\n",
       "      <td>0</td>\n",
       "      <td>1</td>\n",
       "      <td>0</td>\n",
       "      <td>1</td>\n",
       "      <td>0</td>\n",
       "    </tr>\n",
       "  </tbody>\n",
       "</table>\n",
       "<p>118900 rows × 700 columns</p>\n",
       "</div>"
      ],
      "text/plain": [
       "        meal_FB  meal_HB  meal_SC  market_segment_Complementary  \\\n",
       "0             0        0        0                             0   \n",
       "1             0        0        0                             0   \n",
       "2             0        0        0                             0   \n",
       "3             0        0        0                             0   \n",
       "4             0        0        0                             0   \n",
       "...         ...      ...      ...                           ...   \n",
       "119385        0        0        0                             0   \n",
       "119386        0        0        0                             0   \n",
       "119387        0        0        0                             0   \n",
       "119388        0        0        0                             0   \n",
       "119389        0        1        0                             0   \n",
       "\n",
       "        market_segment_Corporate  market_segment_Direct  \\\n",
       "0                              0                      1   \n",
       "1                              0                      1   \n",
       "2                              0                      1   \n",
       "3                              1                      0   \n",
       "4                              0                      0   \n",
       "...                          ...                    ...   \n",
       "119385                         0                      0   \n",
       "119386                         0                      0   \n",
       "119387                         0                      0   \n",
       "119388                         0                      0   \n",
       "119389                         0                      0   \n",
       "\n",
       "        market_segment_Groups  market_segment_Offline TA/TO  \\\n",
       "0                           0                             0   \n",
       "1                           0                             0   \n",
       "2                           0                             0   \n",
       "3                           0                             0   \n",
       "4                           0                             0   \n",
       "...                       ...                           ...   \n",
       "119385                      0                             1   \n",
       "119386                      0                             0   \n",
       "119387                      0                             0   \n",
       "119388                      0                             0   \n",
       "119389                      0                             0   \n",
       "\n",
       "        market_segment_Online TA  market_segment_Undefined  ...  \\\n",
       "0                              0                         0  ...   \n",
       "1                              0                         0  ...   \n",
       "2                              0                         0  ...   \n",
       "3                              0                         0  ...   \n",
       "4                              1                         0  ...   \n",
       "...                          ...                       ...  ...   \n",
       "119385                         0                         0  ...   \n",
       "119386                         1                         0  ...   \n",
       "119387                         1                         0  ...   \n",
       "119388                         1                         0  ...   \n",
       "119389                         1                         0  ...   \n",
       "\n",
       "        company_530.0  company_531.0  company_534.0  company_539.0  \\\n",
       "0                   0              0              0              0   \n",
       "1                   0              0              0              0   \n",
       "2                   0              0              0              0   \n",
       "3                   0              0              0              0   \n",
       "4                   0              0              0              0   \n",
       "...               ...            ...            ...            ...   \n",
       "119385              0              0              0              0   \n",
       "119386              0              0              0              0   \n",
       "119387              0              0              0              0   \n",
       "119388              0              0              0              0   \n",
       "119389              0              0              0              0   \n",
       "\n",
       "        company_541.0  company_543.0  company_0  customer_type_Group  \\\n",
       "0                   0              0          1                    0   \n",
       "1                   0              0          1                    0   \n",
       "2                   0              0          1                    0   \n",
       "3                   0              0          1                    0   \n",
       "4                   0              0          1                    0   \n",
       "...               ...            ...        ...                  ...   \n",
       "119385              0              0          1                    0   \n",
       "119386              0              0          1                    0   \n",
       "119387              0              0          1                    0   \n",
       "119388              0              0          1                    0   \n",
       "119389              0              0          1                    0   \n",
       "\n",
       "        customer_type_Transient  customer_type_Transient-Party  \n",
       "0                             1                              0  \n",
       "1                             1                              0  \n",
       "2                             1                              0  \n",
       "3                             1                              0  \n",
       "4                             1                              0  \n",
       "...                         ...                            ...  \n",
       "119385                        1                              0  \n",
       "119386                        1                              0  \n",
       "119387                        1                              0  \n",
       "119388                        1                              0  \n",
       "119389                        1                              0  \n",
       "\n",
       "[118900 rows x 700 columns]"
      ]
     },
     "execution_count": 112,
     "metadata": {},
     "output_type": "execute_result"
    }
   ],
   "source": [
    "cat_dummies = pd.get_dummies(cat,drop_first = True)\n",
    "cat_dummies"
   ]
  },
  {
   "cell_type": "code",
   "execution_count": 113,
   "id": "8ab957a6",
   "metadata": {
    "id": "8ab957a6"
   },
   "outputs": [],
   "source": [
    "\n",
    "\n",
    "df1=pd.get_dummies(df, columns=['meal', 'market_segment', 'distribution_channel', 'deposit_type','agent', 'company', 'customer_type'])\n"
   ]
  },
  {
   "cell_type": "code",
   "execution_count": null,
   "id": "8fece856",
   "metadata": {
    "id": "8fece856"
   },
   "outputs": [],
   "source": []
  },
  {
   "cell_type": "code",
   "execution_count": 114,
   "id": "3ee3881d",
   "metadata": {
    "id": "3ee3881d"
   },
   "outputs": [],
   "source": [
    "X = df1.drop('is_canceled',axis=1)\n",
    "y = df1['is_canceled']\n"
   ]
  },
  {
   "cell_type": "code",
   "execution_count": 115,
   "id": "de711af7",
   "metadata": {
    "id": "de711af7"
   },
   "outputs": [],
   "source": [
    "from sklearn.preprocessing import StandardScaler \n",
    "ss=StandardScaler()\n",
    "X_s=ss.fit_transform(X)\n"
   ]
  },
  {
   "cell_type": "code",
   "execution_count": null,
   "id": "635b0a92",
   "metadata": {
    "id": "635b0a92"
   },
   "outputs": [],
   "source": []
  },
  {
   "cell_type": "code",
   "execution_count": 116,
   "id": "89cc18d4",
   "metadata": {
    "id": "89cc18d4"
   },
   "outputs": [],
   "source": [
    "from sklearn.metrics import accuracy_score\n",
    "from sklearn.metrics import confusion_matrix\n",
    "from sklearn.metrics import roc_auc_score\n",
    "from sklearn.metrics import roc_curve\n",
    "from sklearn.metrics import auc\n",
    "from sklearn.metrics import f1_score, recall_score, confusion_matrix,classification_report, precision_score\n",
    "from sklearn.model_selection import cross_validate,cross_val_predict\n",
    "from sklearn.linear_model import LogisticRegression\n",
    "from sklearn.naive_bayes import GaussianNB\n",
    "from sklearn.tree import DecisionTreeClassifier\n",
    "from sklearn.ensemble import RandomForestClassifier\n",
    "from sklearn.ensemble import GradientBoostingClassifier, GradientBoostingRegressor\n",
    "from sklearn.ensemble import RandomForestRegressor\n",
    "from sklearn.neighbors import KNeighborsClassifier"
   ]
  },
  {
   "cell_type": "code",
   "execution_count": 117,
   "id": "hvZE5XK9_tdw",
   "metadata": {
    "id": "hvZE5XK9_tdw"
   },
   "outputs": [
    {
     "name": "stderr",
     "output_type": "stream",
     "text": [
      "/opt/anaconda3/lib/python3.9/site-packages/sklearn/linear_model/_logistic.py:814: ConvergenceWarning: lbfgs failed to converge (status=1):\n",
      "STOP: TOTAL NO. of ITERATIONS REACHED LIMIT.\n",
      "\n",
      "Increase the number of iterations (max_iter) or scale the data as shown in:\n",
      "    https://scikit-learn.org/stable/modules/preprocessing.html\n",
      "Please also refer to the documentation for alternative solver options:\n",
      "    https://scikit-learn.org/stable/modules/linear_model.html#logistic-regression\n",
      "  n_iter_i = _check_optimize_result(\n"
     ]
    },
    {
     "name": "stdout",
     "output_type": "stream",
     "text": [
      "Accuracy Score of Logistic Regression is : 0.8544827586206897\n",
      "Confusion Matrix :  [[69043  5701]\n",
      " [11601 32555]]\n",
      "Classification Report :                precision    recall  f1-score   support\n",
      "\n",
      "           0       0.86      0.92      0.89     74744\n",
      "           1       0.85      0.74      0.79     44156\n",
      "\n",
      "    accuracy                           0.85    118900\n",
      "   macro avg       0.85      0.83      0.84    118900\n",
      "weighted avg       0.85      0.85      0.85    118900\n",
      "\n"
     ]
    }
   ],
   "source": [
    "\n",
    "lr = LogisticRegression()\n",
    "lr.fit(X_s, y)\n",
    "\n",
    "y_pred_lr = lr.predict(X_s)\n",
    "\n",
    "acc_lr = accuracy_score(y, y_pred_lr)\n",
    "conf_lr = confusion_matrix(y, y_pred_lr)\n",
    "clf_rep_lr = classification_report(y, y_pred_lr)\n",
    "\n",
    "print('Accuracy Score of Logistic Regression is :', acc_lr)\n",
    "print('Confusion Matrix : ',conf_lr)\n",
    "print('Classification Report : ', clf_rep_lr)\n"
   ]
  },
  {
   "cell_type": "code",
   "execution_count": 118,
   "id": "LTDZUyqqGRwX",
   "metadata": {
    "id": "LTDZUyqqGRwX"
   },
   "outputs": [],
   "source": [
    "lg_params = {\n",
    "    'penalty': ['l1'], \n",
    "    'C': [3.5],\n",
    "    'max_iter': [300]\n",
    "}\n",
    "\n",
    "# Perform Grid Search\n",
    "lg_gs = GridSearchCV(LogisticRegression(solver='liblinear', random_state=42),\n",
    "                 lg_params,\n",
    "                 cv = 5,\n",
    "                 scoring = 'accuracy')\n",
    "lg = lg_gs.fit(X_s, y)\n",
    "y_pred = lg_gs.best_estimator_.predict(X_s)"
   ]
  },
  {
   "cell_type": "code",
   "execution_count": 119,
   "id": "d5f1f3ad",
   "metadata": {},
   "outputs": [
    {
     "data": {
      "text/plain": [
       "GridSearchCV(cv=5,\n",
       "             estimator=LogisticRegression(random_state=42, solver='liblinear'),\n",
       "             param_grid={'C': [3.5], 'max_iter': [300], 'penalty': ['l1']},\n",
       "             scoring='accuracy')"
      ]
     },
     "execution_count": 119,
     "metadata": {},
     "output_type": "execute_result"
    }
   ],
   "source": [
    "lg"
   ]
  },
  {
   "cell_type": "code",
   "execution_count": 120,
   "id": "hHZ2S2XLGS6G",
   "metadata": {
    "id": "hHZ2S2XLGS6G"
   },
   "outputs": [
    {
     "name": "stdout",
     "output_type": "stream",
     "text": [
      "Accuracy Score: 0.854592094196804\n",
      "Cross-val-score: 0.8526745164003365\n",
      "\n",
      "Confusion Matrix: [[69045  5699]\n",
      " [11590 32566]]\n",
      "\n",
      "Classification Report:               precision    recall  f1-score   support\n",
      "\n",
      "           0       0.86      0.92      0.89     74744\n",
      "           1       0.85      0.74      0.79     44156\n",
      "\n",
      "    accuracy                           0.85    118900\n",
      "   macro avg       0.85      0.83      0.84    118900\n",
      "weighted avg       0.85      0.85      0.85    118900\n",
      "\n"
     ]
    }
   ],
   "source": [
    "print(f'Accuracy Score: {lg.score(X_s, y)}')\n",
    "print(f'Cross-val-score: {cross_val_score(lg.best_estimator_, X_s, y,cv=StratifiedKFold(shuffle=True)).mean()}')\n",
    "print()\n",
    "print(f'Confusion Matrix: {confusion_matrix(y,y_pred)}')\n",
    "print()\n",
    "print(f'Classification Report: {classification_report(y,y_pred)}')\n"
   ]
  },
  {
   "cell_type": "code",
   "execution_count": 121,
   "id": "XE_zMmTGIrGx",
   "metadata": {
    "id": "XE_zMmTGIrGx"
   },
   "outputs": [],
   "source": [
    "rf_params = {\n",
    "    'n_estimators': [150],  \n",
    "    'max_features': [50],\n",
    "    'max_depth': [13]\n",
    "}\n",
    "\n",
    "# Perform Grid Search\n",
    "rf_gs = GridSearchCV(RandomForestClassifier(random_state=42),\n",
    "                 rf_params,\n",
    "                 cv = 5,\n",
    "                 scoring = 'accuracy')\n",
    "rf = rf_gs.fit(X_s, y)\n",
    "y_pred = rf_gs.best_estimator_.predict(X_s)"
   ]
  },
  {
   "cell_type": "code",
   "execution_count": 122,
   "id": "KiPvHLm6IxLF",
   "metadata": {
    "id": "KiPvHLm6IxLF"
   },
   "outputs": [
    {
     "name": "stdout",
     "output_type": "stream",
     "text": [
      "Accuracy score: 0.8623885618166527\n",
      "Cross-val-score: 0.8576787216148025\n",
      "\n",
      "Confusion Matrix: [[73205  1539]\n",
      " [14823 29333]]\n",
      "\n",
      "Classification Report:               precision    recall  f1-score   support\n",
      "\n",
      "           0       0.83      0.98      0.90     74744\n",
      "           1       0.95      0.66      0.78     44156\n",
      "\n",
      "    accuracy                           0.86    118900\n",
      "   macro avg       0.89      0.82      0.84    118900\n",
      "weighted avg       0.88      0.86      0.86    118900\n",
      "\n"
     ]
    }
   ],
   "source": [
    "print(f'Accuracy score: {rf.score(X_s, y)}')\n",
    "print(f'Cross-val-score: {cross_val_score(rf.best_estimator_, X_s, y, cv=StratifiedKFold(shuffle=True)).mean()}')\n",
    "print()\n",
    "print(f'Confusion Matrix: {confusion_matrix(y,y_pred)}')\n",
    "print()\n",
    "print(f'Classification Report: {classification_report(y,y_pred)}')"
   ]
  },
  {
   "cell_type": "code",
   "execution_count": 123,
   "id": "qUirFfmsRv3H",
   "metadata": {
    "id": "qUirFfmsRv3H"
   },
   "outputs": [],
   "source": [
    "dt_params = {\n",
    "    'max_depth':[None],\n",
    "    'max_features' : [0.7],\n",
    "    'min_samples_split': [25], \n",
    "    'min_samples_leaf': [1]\n",
    "}\n",
    "\n",
    "# Perform Grid Search\n",
    "dt_gs = GridSearchCV(DecisionTreeClassifier(random_state=42),\n",
    "                 dt_params,\n",
    "                 cv = 5,\n",
    "                 scoring = 'accuracy')\n",
    "dt = dt_gs.fit(X_s, y)\n",
    "y_pred = dt_gs.best_estimator_.predict(X_s)"
   ]
  },
  {
   "cell_type": "code",
   "execution_count": 124,
   "id": "Nfqg3lEDRzys",
   "metadata": {
    "id": "Nfqg3lEDRzys"
   },
   "outputs": [
    {
     "name": "stdout",
     "output_type": "stream",
     "text": [
      " Accuracy score: 0.9643145500420521\n",
      "Cross-val-score: 0.9328595458368376\n",
      "\n",
      "Confusion Matrix: [[73394  1350]\n",
      " [ 2893 41263]]\n",
      "\n",
      "Classification Report:               precision    recall  f1-score   support\n",
      "\n",
      "           0       0.96      0.98      0.97     74744\n",
      "           1       0.97      0.93      0.95     44156\n",
      "\n",
      "    accuracy                           0.96    118900\n",
      "   macro avg       0.97      0.96      0.96    118900\n",
      "weighted avg       0.96      0.96      0.96    118900\n",
      "\n"
     ]
    }
   ],
   "source": [
    "print(f' Accuracy score: {dt.score(X_s, y)}')\n",
    "print(f'Cross-val-score: {cross_val_score(dt.best_estimator_, X_s, y, cv=StratifiedKFold(shuffle=True)).mean()}')\n",
    "print()\n",
    "print(f'Confusion Matrix: {confusion_matrix(y,y_pred)}')\n",
    "print()\n",
    "print(f'Classification Report: {classification_report(y,y_pred)}')"
   ]
  },
  {
   "cell_type": "code",
   "execution_count": 125,
   "id": "78192811",
   "metadata": {},
   "outputs": [],
   "source": [
    "knn = KNeighborsClassifier(n_neighbors = 3)\n",
    "kn_ = knn.fit(X_s,y)\n",
    "cv_scores = cross_val_score(knn, X_s, y, cv=5)"
   ]
  },
  {
   "cell_type": "code",
   "execution_count": 126,
   "id": "9a26b76e",
   "metadata": {},
   "outputs": [
    {
     "name": "stdout",
     "output_type": "stream",
     "text": [
      " Accuracy score: 0.9376787216148024\n",
      "cv_scores mean: 0.5862825904121111\n"
     ]
    }
   ],
   "source": [
    "print(f' Accuracy score: {kn_.score(X_s, y)}')\n",
    "print(f'cv_scores mean: {cv_scores.mean()}')\n"
   ]
  },
  {
   "cell_type": "code",
   "execution_count": null,
   "id": "69b05f6e",
   "metadata": {},
   "outputs": [],
   "source": []
  },
  {
   "cell_type": "code",
   "execution_count": 127,
   "id": "r2KKcEvZAuUZ",
   "metadata": {
    "id": "r2KKcEvZAuUZ"
   },
   "outputs": [],
   "source": [
    "from xgboost import XGBClassifier"
   ]
  },
  {
   "cell_type": "code",
   "execution_count": 128,
   "id": "03c81730",
   "metadata": {},
   "outputs": [],
   "source": [
    "xgbc = XGBClassifier()"
   ]
  },
  {
   "cell_type": "code",
   "execution_count": 129,
   "id": "f152f7f7",
   "metadata": {},
   "outputs": [],
   "source": [
    "xg = xgbc.fit(X_s, y)\n",
    "kfold = KFold(n_splits=10, shuffle=True)\n",
    "cv_scores = cross_val_score(xgbc, X_s, y, cv=kfold,scoring ='accuracy' )"
   ]
  },
  {
   "cell_type": "code",
   "execution_count": 130,
   "id": "b34a9f71",
   "metadata": {},
   "outputs": [
    {
     "name": "stdout",
     "output_type": "stream",
     "text": [
      "Accuracy score: 0.9787888982338099\n",
      "Cross-val-score: 0.9736248948696383\n"
     ]
    }
   ],
   "source": [
    "print(f'Accuracy score: {xg.score(X_s, y)}')\n",
    "print(f'Cross-val-score: {cv_scores.mean()}')\n"
   ]
  },
  {
   "cell_type": "code",
   "execution_count": 131,
   "id": "f3c54be3",
   "metadata": {},
   "outputs": [],
   "source": [
    "estimator = XGBClassifier(\n",
    "    objective= 'binary:logistic',\n",
    "    nthread=4,\n",
    "    seed=42\n",
    ")\n",
    "\n",
    "parameters = {\n",
    "    'max_depth': range (2, 10, 1),\n",
    "    'n_estimators': range(60, 220, 40),\n",
    "    'learning_rate': [0.1, 0.01, 0.05]\n",
    "}"
   ]
  },
  {
   "cell_type": "code",
   "execution_count": null,
   "id": "89e5b738",
   "metadata": {},
   "outputs": [
    {
     "name": "stdout",
     "output_type": "stream",
     "text": [
      "Fitting 5 folds for each of 96 candidates, totalling 480 fits\n"
     ]
    }
   ],
   "source": [
    "xg_gs = GridSearchCV(\n",
    "    estimator=estimator,\n",
    "    param_grid=parameters,\n",
    "    scoring = 'accuracy',\n",
    "    n_jobs = 10,\n",
    "    cv = 5,\n",
    "    verbose=True\n",
    ")\n",
    "\n",
    "xg_gs.fit(X_s, y)\n",
    "y_pred = xg_gs.best_estimator_.predict(X_s)"
   ]
  },
  {
   "cell_type": "code",
   "execution_count": null,
   "id": "5383c2cf",
   "metadata": {},
   "outputs": [],
   "source": [
    "print(f'Accuracy score: {grid_result.score(X_s, y)}')\n",
    "print(f'Cross-val-score: {\n",
    "cross_val_score(grid_result.best_estimator_, X_s, y, cv=StratifiedKFold(shuffle=True)).mean()}')\n",
    "print()\n",
    "print(f'Confusion Matrix: {confusion_matrix(y,y_pred)}')\n",
    "print()\n",
    "print(f'Classification Report: {classification_report(y,y_pred)}')"
   ]
  },
  {
   "cell_type": "code",
   "execution_count": null,
   "id": "a3c88969",
   "metadata": {},
   "outputs": [],
   "source": [
    "predictive_model_scores = pd.DataFrame(data=[('Logistic Regression_hp',0.8545, 0.8530),\\\n",
    "                                             ('Random Forest_hp',0.8623, 0.8593),\\\n",
    "                                             ('Decision Tree_hp',0.9643, 0.9287),\\\n",
    "                                             ('KNN_gs',0.9378, 0.5368),\\\n",
    "                                             ('XGBC_gs',0.9787, 0.9736)],\\\n",
    "                                       columns=['model', 'accuracy_score', 'Cross_val_score'])\n",
    "predictive_model_scores\n"
   ]
  },
  {
   "cell_type": "code",
   "execution_count": null,
   "id": "cad29246",
   "metadata": {},
   "outputs": [],
   "source": [
    "TP = 14000\n",
    "# True Negatives:\n",
    "TN = 24000\n",
    "# False Posititives: \n",
    "FP = 260\n",
    "# False Negatives: \n",
    "FN = 660\n",
    "total = 24000+14000+260+660\n",
    "\n",
    "print(f'Correctly classified: {np.round((TP+TN)/total*100)}%')\n",
    "print(f'Canceled bookings correctly classified: {np.round(TP/(TP+FN)*100)}%')\n",
    "print(f'Not canceled bookings correctly classified: {np.round(TN/(TN+FP)*100)}%')\n",
    "print(f'Bookings predicted canceled that are actually canceled: {np.round(TP/(TP+FP)*100)}%')\n",
    "print(f'Bookings predicted not canceled that are actually not canceled: {np.round(TN/(TN+FN)*100)}%')"
   ]
  },
  {
   "cell_type": "code",
   "execution_count": null,
   "id": "fed30446",
   "metadata": {},
   "outputs": [],
   "source": [
    "predictions = xg_gs.predict(X_s)\n",
    " \n",
    "cm = confusion_matrix(y, predictions)\n",
    "  \n",
    "cm_df = pd.DataFrame(cm, index=['Actually Not Canceled', 'Actually Canceled'],\n",
    "                 columns=['Predicted Not Canceled', 'Predicted Canceled'])"
   ]
  },
  {
   "cell_type": "code",
   "execution_count": null,
   "id": "e68c6053",
   "metadata": {},
   "outputs": [],
   "source": [
    "sns.set(font_scale=1.2)\n",
    "plt.figure(figsize=(10,4))\n",
    "    \n",
    "sns.heatmap(cm, annot=True, fmt='g', cmap=\"Blues\",xticklabels=cm_df.columns, yticklabels=cm_df.index, annot_kws={\"size\": 20})\n",
    "plt.title(\"Confusion Matrix\", size=20)\n",
    "plt.xlabel('Predicted Class')\n",
    "plt.ylabel('True Class');"
   ]
  },
  {
   "cell_type": "code",
   "execution_count": 1,
   "id": "3f5c928c",
   "metadata": {},
   "outputs": [
    {
     "name": "stdout",
     "output_type": "stream",
     "text": [
      "Correctly classified: 98.0%\n",
      "Canceled bookings correctly classified: 97.0%\n",
      "Not canceled bookings correctly classified: 99.0%\n",
      "Bookings predicted canceled that are actually canceled: 99.0%\n",
      "Bookings predicted not canceled that are actually not canceled: 98.0%\n"
     ]
    }
   ],
   "source": [
    "# True positive\n",
    "TP = 14060\n",
    "# True Negatives:\n",
    "TN = 23882\n",
    "# False Posititives: \n",
    "FP = 200\n",
    "# False Negatives: \n",
    "FN = 444\n",
    "total = 23882+14060+200+444\n",
    "import numpy as np\n",
    "print(f'Correctly classified: {np.round((TP+TN)/total*100)}%')\n",
    "print(f'Canceled bookings correctly classified: {np.round(TP/(TP+FN)*100)}%')\n",
    "print(f'Not canceled bookings correctly classified: {np.round(TN/(TN+FP)*100)}%')\n",
    "print(f'Bookings predicted canceled that are actually canceled: {np.round(TP/(TP+FP)*100)}%')\n",
    "print(f'Bookings predicted not canceled that are actually not canceled: {np.round(TN/(TN+FN)*100)}%')"
   ]
  },
  {
   "cell_type": "code",
   "execution_count": null,
   "id": "9b3c7421",
   "metadata": {},
   "outputs": [],
   "source": []
  }
 ],
 "metadata": {
  "colab": {
   "provenance": []
  },
  "kernelspec": {
   "display_name": "Python 3 (ipykernel)",
   "language": "python",
   "name": "python3"
  },
  "language_info": {
   "codemirror_mode": {
    "name": "ipython",
    "version": 3
   },
   "file_extension": ".py",
   "mimetype": "text/x-python",
   "name": "python",
   "nbconvert_exporter": "python",
   "pygments_lexer": "ipython3",
   "version": "3.9.12"
  }
 },
 "nbformat": 4,
 "nbformat_minor": 5
}
