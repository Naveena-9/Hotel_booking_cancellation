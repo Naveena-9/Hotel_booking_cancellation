{
 "cells": [
  {
   "cell_type": "code",
   "execution_count": 95,
   "id": "08220fec",
   "metadata": {},
   "outputs": [],
   "source": [
    "import pandas as pd\n",
    "import seaborn as sns\n",
    "import statsmodels.api as sm\n",
    "import numpy as np\n",
    "import matplotlib.pyplot\n",
    "from sklearn.model_selection import cross_val_score"
   ]
  },
  {
   "cell_type": "code",
   "execution_count": 96,
   "id": "bd8b1254",
   "metadata": {},
   "outputs": [],
   "source": [
    "lr_data = pd.read_csv('hotel_booking.csv')\n"
   ]
  },
  {
   "cell_type": "code",
   "execution_count": 97,
   "id": "872b7b5f",
   "metadata": {},
   "outputs": [
    {
     "data": {
      "text/plain": [
       "array([ 0,  1,  2,  3, 26, 25, 14,  4, 24, 19,  5, 21,  6, 13, 11],\n",
       "      dtype=int64)"
      ]
     },
     "execution_count": 97,
     "metadata": {},
     "output_type": "execute_result"
    }
   ],
   "source": [
    "lr_data.previous_cancellations.unique()"
   ]
  },
  {
   "cell_type": "code",
   "execution_count": 98,
   "id": "fdc1b931",
   "metadata": {},
   "outputs": [
    {
     "data": {
      "text/html": [
       "<div>\n",
       "<style scoped>\n",
       "    .dataframe tbody tr th:only-of-type {\n",
       "        vertical-align: middle;\n",
       "    }\n",
       "\n",
       "    .dataframe tbody tr th {\n",
       "        vertical-align: top;\n",
       "    }\n",
       "\n",
       "    .dataframe thead th {\n",
       "        text-align: right;\n",
       "    }\n",
       "</style>\n",
       "<table border=\"1\" class=\"dataframe\">\n",
       "  <thead>\n",
       "    <tr style=\"text-align: right;\">\n",
       "      <th></th>\n",
       "      <th>hotel</th>\n",
       "      <th>is_canceled</th>\n",
       "      <th>lead_time</th>\n",
       "      <th>arrival_date_year</th>\n",
       "      <th>arrival_date_month</th>\n",
       "      <th>arrival_date_week_number</th>\n",
       "      <th>arrival_date_day_of_month</th>\n",
       "      <th>stays_in_weekend_nights</th>\n",
       "      <th>stays_in_week_nights</th>\n",
       "      <th>adults</th>\n",
       "      <th>...</th>\n",
       "      <th>customer_type</th>\n",
       "      <th>adr</th>\n",
       "      <th>required_car_parking_spaces</th>\n",
       "      <th>total_of_special_requests</th>\n",
       "      <th>reservation_status</th>\n",
       "      <th>reservation_status_date</th>\n",
       "      <th>name</th>\n",
       "      <th>email</th>\n",
       "      <th>phone-number</th>\n",
       "      <th>credit_card</th>\n",
       "    </tr>\n",
       "  </thead>\n",
       "  <tbody>\n",
       "    <tr>\n",
       "      <th>0</th>\n",
       "      <td>Resort Hotel</td>\n",
       "      <td>0</td>\n",
       "      <td>342</td>\n",
       "      <td>2015</td>\n",
       "      <td>July</td>\n",
       "      <td>27</td>\n",
       "      <td>1</td>\n",
       "      <td>0</td>\n",
       "      <td>0</td>\n",
       "      <td>2</td>\n",
       "      <td>...</td>\n",
       "      <td>Transient</td>\n",
       "      <td>0.0</td>\n",
       "      <td>0</td>\n",
       "      <td>0</td>\n",
       "      <td>Check-Out</td>\n",
       "      <td>2015-07-01</td>\n",
       "      <td>Ernest Barnes</td>\n",
       "      <td>Ernest.Barnes31@outlook.com</td>\n",
       "      <td>669-792-1661</td>\n",
       "      <td>************4322</td>\n",
       "    </tr>\n",
       "    <tr>\n",
       "      <th>1</th>\n",
       "      <td>Resort Hotel</td>\n",
       "      <td>0</td>\n",
       "      <td>737</td>\n",
       "      <td>2015</td>\n",
       "      <td>July</td>\n",
       "      <td>27</td>\n",
       "      <td>1</td>\n",
       "      <td>0</td>\n",
       "      <td>0</td>\n",
       "      <td>2</td>\n",
       "      <td>...</td>\n",
       "      <td>Transient</td>\n",
       "      <td>0.0</td>\n",
       "      <td>0</td>\n",
       "      <td>0</td>\n",
       "      <td>Check-Out</td>\n",
       "      <td>2015-07-01</td>\n",
       "      <td>Andrea Baker</td>\n",
       "      <td>Andrea_Baker94@aol.com</td>\n",
       "      <td>858-637-6955</td>\n",
       "      <td>************9157</td>\n",
       "    </tr>\n",
       "    <tr>\n",
       "      <th>2</th>\n",
       "      <td>Resort Hotel</td>\n",
       "      <td>0</td>\n",
       "      <td>7</td>\n",
       "      <td>2015</td>\n",
       "      <td>July</td>\n",
       "      <td>27</td>\n",
       "      <td>1</td>\n",
       "      <td>0</td>\n",
       "      <td>1</td>\n",
       "      <td>1</td>\n",
       "      <td>...</td>\n",
       "      <td>Transient</td>\n",
       "      <td>75.0</td>\n",
       "      <td>0</td>\n",
       "      <td>0</td>\n",
       "      <td>Check-Out</td>\n",
       "      <td>2015-07-02</td>\n",
       "      <td>Rebecca Parker</td>\n",
       "      <td>Rebecca_Parker@comcast.net</td>\n",
       "      <td>652-885-2745</td>\n",
       "      <td>************3734</td>\n",
       "    </tr>\n",
       "    <tr>\n",
       "      <th>3</th>\n",
       "      <td>Resort Hotel</td>\n",
       "      <td>0</td>\n",
       "      <td>13</td>\n",
       "      <td>2015</td>\n",
       "      <td>July</td>\n",
       "      <td>27</td>\n",
       "      <td>1</td>\n",
       "      <td>0</td>\n",
       "      <td>1</td>\n",
       "      <td>1</td>\n",
       "      <td>...</td>\n",
       "      <td>Transient</td>\n",
       "      <td>75.0</td>\n",
       "      <td>0</td>\n",
       "      <td>0</td>\n",
       "      <td>Check-Out</td>\n",
       "      <td>2015-07-02</td>\n",
       "      <td>Laura Murray</td>\n",
       "      <td>Laura_M@gmail.com</td>\n",
       "      <td>364-656-8427</td>\n",
       "      <td>************5677</td>\n",
       "    </tr>\n",
       "    <tr>\n",
       "      <th>4</th>\n",
       "      <td>Resort Hotel</td>\n",
       "      <td>0</td>\n",
       "      <td>14</td>\n",
       "      <td>2015</td>\n",
       "      <td>July</td>\n",
       "      <td>27</td>\n",
       "      <td>1</td>\n",
       "      <td>0</td>\n",
       "      <td>2</td>\n",
       "      <td>2</td>\n",
       "      <td>...</td>\n",
       "      <td>Transient</td>\n",
       "      <td>98.0</td>\n",
       "      <td>0</td>\n",
       "      <td>1</td>\n",
       "      <td>Check-Out</td>\n",
       "      <td>2015-07-03</td>\n",
       "      <td>Linda Hines</td>\n",
       "      <td>LHines@verizon.com</td>\n",
       "      <td>713-226-5883</td>\n",
       "      <td>************5498</td>\n",
       "    </tr>\n",
       "  </tbody>\n",
       "</table>\n",
       "<p>5 rows × 36 columns</p>\n",
       "</div>"
      ],
      "text/plain": [
       "          hotel  is_canceled  lead_time  arrival_date_year arrival_date_month  \\\n",
       "0  Resort Hotel            0        342               2015               July   \n",
       "1  Resort Hotel            0        737               2015               July   \n",
       "2  Resort Hotel            0          7               2015               July   \n",
       "3  Resort Hotel            0         13               2015               July   \n",
       "4  Resort Hotel            0         14               2015               July   \n",
       "\n",
       "   arrival_date_week_number  arrival_date_day_of_month  \\\n",
       "0                        27                          1   \n",
       "1                        27                          1   \n",
       "2                        27                          1   \n",
       "3                        27                          1   \n",
       "4                        27                          1   \n",
       "\n",
       "   stays_in_weekend_nights  stays_in_week_nights  adults  ...  customer_type  \\\n",
       "0                        0                     0       2  ...      Transient   \n",
       "1                        0                     0       2  ...      Transient   \n",
       "2                        0                     1       1  ...      Transient   \n",
       "3                        0                     1       1  ...      Transient   \n",
       "4                        0                     2       2  ...      Transient   \n",
       "\n",
       "    adr required_car_parking_spaces total_of_special_requests  \\\n",
       "0   0.0                           0                         0   \n",
       "1   0.0                           0                         0   \n",
       "2  75.0                           0                         0   \n",
       "3  75.0                           0                         0   \n",
       "4  98.0                           0                         1   \n",
       "\n",
       "  reservation_status reservation_status_date            name  \\\n",
       "0          Check-Out              2015-07-01   Ernest Barnes   \n",
       "1          Check-Out              2015-07-01    Andrea Baker   \n",
       "2          Check-Out              2015-07-02  Rebecca Parker   \n",
       "3          Check-Out              2015-07-02    Laura Murray   \n",
       "4          Check-Out              2015-07-03     Linda Hines   \n",
       "\n",
       "                         email  phone-number       credit_card  \n",
       "0  Ernest.Barnes31@outlook.com  669-792-1661  ************4322  \n",
       "1       Andrea_Baker94@aol.com  858-637-6955  ************9157  \n",
       "2   Rebecca_Parker@comcast.net  652-885-2745  ************3734  \n",
       "3            Laura_M@gmail.com  364-656-8427  ************5677  \n",
       "4           LHines@verizon.com  713-226-5883  ************5498  \n",
       "\n",
       "[5 rows x 36 columns]"
      ]
     },
     "execution_count": 98,
     "metadata": {},
     "output_type": "execute_result"
    }
   ],
   "source": [
    "lr_data.head()"
   ]
  },
  {
   "cell_type": "code",
   "execution_count": 99,
   "id": "83f36043",
   "metadata": {},
   "outputs": [],
   "source": [
    "lr_data=lr_data[~((lr_data.children==0)&(lr_data.adults==0)&(lr_data.babies==0))]"
   ]
  },
  {
   "cell_type": "code",
   "execution_count": 100,
   "id": "dbb14a55",
   "metadata": {},
   "outputs": [],
   "source": [
    "lr_data['agent']=lr_data['agent'].fillna(0)\n",
    "lr_data['company']=lr_data['company'].fillna(0)"
   ]
  },
  {
   "cell_type": "code",
   "execution_count": 101,
   "id": "d6ef02f4",
   "metadata": {},
   "outputs": [],
   "source": [
    "lr_data = lr_data.dropna()"
   ]
  },
  {
   "cell_type": "code",
   "execution_count": 102,
   "id": "48fe39b3",
   "metadata": {},
   "outputs": [],
   "source": [
    "lr_data['agent']=lr_data['agent'].apply(lambda x:'Yes' if x!=0 else 'No')\n",
    "lr_data['company']=lr_data['company'].apply(lambda x:'Yes' if x!=0 else 'No')"
   ]
  },
  {
   "cell_type": "code",
   "execution_count": 103,
   "id": "e038751e",
   "metadata": {},
   "outputs": [
    {
     "data": {
      "text/plain": [
       "array(['BB', 'FB', 'HB', 'SC', 'Undefined'], dtype=object)"
      ]
     },
     "execution_count": 103,
     "metadata": {},
     "output_type": "execute_result"
    }
   ],
   "source": [
    "lr_data.meal.unique()"
   ]
  },
  {
   "cell_type": "code",
   "execution_count": 104,
   "id": "8b5dfa6c",
   "metadata": {},
   "outputs": [],
   "source": [
    "lr_data['meal'] = lr_data['meal'].apply(lambda x: 'SC' if x=='Unedfined' else x)"
   ]
  },
  {
   "cell_type": "code",
   "execution_count": 105,
   "id": "94891c4a",
   "metadata": {},
   "outputs": [],
   "source": [
    "lr_data = lr_data[~(lr_data['market_segment']=='Undefined')]"
   ]
  },
  {
   "cell_type": "code",
   "execution_count": 106,
   "id": "33b56c5d",
   "metadata": {},
   "outputs": [],
   "source": [
    "lr_data['reserved_assigned']=lr_data.reserved_room_type==lr_data.assigned_room_type"
   ]
  },
  {
   "cell_type": "code",
   "execution_count": 107,
   "id": "0aaef552",
   "metadata": {},
   "outputs": [],
   "source": [
    "lr_data = lr_data[lr_data.adr>0]"
   ]
  },
  {
   "cell_type": "code",
   "execution_count": 108,
   "id": "98e2ca19",
   "metadata": {},
   "outputs": [],
   "source": [
    "lr_data = lr_data[~(lr_data.distribution_channel=='Undefined')]"
   ]
  },
  {
   "cell_type": "code",
   "execution_count": 109,
   "id": "95b3d7e6",
   "metadata": {},
   "outputs": [],
   "source": [
    "lr_data=lr_data.drop(columns=['reservation_status','name', 'email','phone-number', 'credit_card'])"
   ]
  },
  {
   "cell_type": "code",
   "execution_count": 110,
   "id": "9b40ce85",
   "metadata": {},
   "outputs": [],
   "source": [
    "\n",
    "lr_data.country = lr_data.country.apply(lambda x: 'PRT' if x=='PRT' else 'International')"
   ]
  },
  {
   "cell_type": "code",
   "execution_count": 111,
   "id": "f65f9b8f",
   "metadata": {},
   "outputs": [
    {
     "name": "stdout",
     "output_type": "stream",
     "text": [
      "<class 'pandas.core.frame.DataFrame'>\n",
      "Int64Index: 116927 entries, 2 to 119389\n",
      "Data columns (total 32 columns):\n",
      " #   Column                          Non-Null Count   Dtype  \n",
      "---  ------                          --------------   -----  \n",
      " 0   hotel                           116927 non-null  object \n",
      " 1   is_canceled                     116927 non-null  int64  \n",
      " 2   lead_time                       116927 non-null  int64  \n",
      " 3   arrival_date_year               116927 non-null  int64  \n",
      " 4   arrival_date_month              116927 non-null  object \n",
      " 5   arrival_date_week_number        116927 non-null  int64  \n",
      " 6   arrival_date_day_of_month       116927 non-null  int64  \n",
      " 7   stays_in_weekend_nights         116927 non-null  int64  \n",
      " 8   stays_in_week_nights            116927 non-null  int64  \n",
      " 9   adults                          116927 non-null  int64  \n",
      " 10  children                        116927 non-null  float64\n",
      " 11  babies                          116927 non-null  int64  \n",
      " 12  meal                            116927 non-null  object \n",
      " 13  country                         116927 non-null  object \n",
      " 14  market_segment                  116927 non-null  object \n",
      " 15  distribution_channel            116927 non-null  object \n",
      " 16  is_repeated_guest               116927 non-null  int64  \n",
      " 17  previous_cancellations          116927 non-null  int64  \n",
      " 18  previous_bookings_not_canceled  116927 non-null  int64  \n",
      " 19  reserved_room_type              116927 non-null  object \n",
      " 20  assigned_room_type              116927 non-null  object \n",
      " 21  booking_changes                 116927 non-null  int64  \n",
      " 22  deposit_type                    116927 non-null  object \n",
      " 23  agent                           116927 non-null  object \n",
      " 24  company                         116927 non-null  object \n",
      " 25  days_in_waiting_list            116927 non-null  int64  \n",
      " 26  customer_type                   116927 non-null  object \n",
      " 27  adr                             116927 non-null  float64\n",
      " 28  required_car_parking_spaces     116927 non-null  int64  \n",
      " 29  total_of_special_requests       116927 non-null  int64  \n",
      " 30  reservation_status_date         116927 non-null  object \n",
      " 31  reserved_assigned               116927 non-null  bool   \n",
      "dtypes: bool(1), float64(2), int64(16), object(13)\n",
      "memory usage: 28.7+ MB\n"
     ]
    }
   ],
   "source": [
    "lr_data.info()"
   ]
  },
  {
   "cell_type": "code",
   "execution_count": 112,
   "id": "762cb375",
   "metadata": {},
   "outputs": [],
   "source": [
    "lr_data['reservation_status_date']=pd.to_datetime(lr_data['reservation_status_date'])"
   ]
  },
  {
   "cell_type": "code",
   "execution_count": 113,
   "id": "37a452d0",
   "metadata": {},
   "outputs": [],
   "source": [
    "lr_data['reservation date'] = pd.DatetimeIndex(lr_data['reservation_status_date']).date\n",
    "lr_data['reservation month'] = pd.DatetimeIndex(lr_data['reservation_status_date']).month\n",
    "lr_data['reservation year'] = pd.DatetimeIndex(lr_data['reservation_status_date']).year"
   ]
  },
  {
   "cell_type": "code",
   "execution_count": 114,
   "id": "4e6535c0",
   "metadata": {},
   "outputs": [],
   "source": [
    "lr_data=lr_data.drop(columns=['reservation_status_date'])"
   ]
  },
  {
   "cell_type": "code",
   "execution_count": 115,
   "id": "dd9c9c1a",
   "metadata": {},
   "outputs": [
    {
     "name": "stdout",
     "output_type": "stream",
     "text": [
      "<class 'pandas.core.frame.DataFrame'>\n",
      "Int64Index: 116927 entries, 2 to 119389\n",
      "Data columns (total 34 columns):\n",
      " #   Column                          Non-Null Count   Dtype  \n",
      "---  ------                          --------------   -----  \n",
      " 0   hotel                           116927 non-null  object \n",
      " 1   is_canceled                     116927 non-null  int64  \n",
      " 2   lead_time                       116927 non-null  int64  \n",
      " 3   arrival_date_year               116927 non-null  int64  \n",
      " 4   arrival_date_month              116927 non-null  object \n",
      " 5   arrival_date_week_number        116927 non-null  int64  \n",
      " 6   arrival_date_day_of_month       116927 non-null  int64  \n",
      " 7   stays_in_weekend_nights         116927 non-null  int64  \n",
      " 8   stays_in_week_nights            116927 non-null  int64  \n",
      " 9   adults                          116927 non-null  int64  \n",
      " 10  children                        116927 non-null  float64\n",
      " 11  babies                          116927 non-null  int64  \n",
      " 12  meal                            116927 non-null  object \n",
      " 13  country                         116927 non-null  object \n",
      " 14  market_segment                  116927 non-null  object \n",
      " 15  distribution_channel            116927 non-null  object \n",
      " 16  is_repeated_guest               116927 non-null  int64  \n",
      " 17  previous_cancellations          116927 non-null  int64  \n",
      " 18  previous_bookings_not_canceled  116927 non-null  int64  \n",
      " 19  reserved_room_type              116927 non-null  object \n",
      " 20  assigned_room_type              116927 non-null  object \n",
      " 21  booking_changes                 116927 non-null  int64  \n",
      " 22  deposit_type                    116927 non-null  object \n",
      " 23  agent                           116927 non-null  object \n",
      " 24  company                         116927 non-null  object \n",
      " 25  days_in_waiting_list            116927 non-null  int64  \n",
      " 26  customer_type                   116927 non-null  object \n",
      " 27  adr                             116927 non-null  float64\n",
      " 28  required_car_parking_spaces     116927 non-null  int64  \n",
      " 29  total_of_special_requests       116927 non-null  int64  \n",
      " 30  reserved_assigned               116927 non-null  bool   \n",
      " 31  reservation date                116927 non-null  object \n",
      " 32  reservation month               116927 non-null  int64  \n",
      " 33  reservation year                116927 non-null  int64  \n",
      "dtypes: bool(1), float64(2), int64(18), object(13)\n",
      "memory usage: 30.4+ MB\n"
     ]
    }
   ],
   "source": [
    "lr_data.info()"
   ]
  },
  {
   "cell_type": "code",
   "execution_count": 116,
   "id": "fc4c7531",
   "metadata": {},
   "outputs": [],
   "source": [
    "cat_cols=lr_data.select_dtypes(object).columns"
   ]
  },
  {
   "cell_type": "code",
   "execution_count": 117,
   "id": "fad63cc3",
   "metadata": {},
   "outputs": [
    {
     "data": {
      "text/plain": [
       "Index(['hotel', 'arrival_date_month', 'meal', 'country', 'market_segment',\n",
       "       'distribution_channel', 'reserved_room_type', 'assigned_room_type',\n",
       "       'deposit_type', 'agent', 'company', 'customer_type',\n",
       "       'reservation date'],\n",
       "      dtype='object')"
      ]
     },
     "execution_count": 117,
     "metadata": {},
     "output_type": "execute_result"
    }
   ],
   "source": [
    "cat_cols"
   ]
  },
  {
   "cell_type": "code",
   "execution_count": 118,
   "id": "6bf0e6f5",
   "metadata": {},
   "outputs": [],
   "source": [
    "from sklearn.preprocessing import LabelEncoder"
   ]
  },
  {
   "cell_type": "code",
   "execution_count": 119,
   "id": "0e343991",
   "metadata": {},
   "outputs": [
    {
     "data": {
      "text/plain": [
       "Index(['hotel', 'arrival_date_month', 'meal', 'country', 'market_segment',\n",
       "       'distribution_channel', 'reserved_room_type', 'assigned_room_type',\n",
       "       'deposit_type', 'agent', 'company', 'customer_type',\n",
       "       'reservation date'],\n",
       "      dtype='object')"
      ]
     },
     "execution_count": 119,
     "metadata": {},
     "output_type": "execute_result"
    }
   ],
   "source": [
    "cat_cols"
   ]
  },
  {
   "cell_type": "code",
   "execution_count": 120,
   "id": "852dc222",
   "metadata": {},
   "outputs": [],
   "source": [
    "for i in cat_cols:\n",
    "    le = LabelEncoder()\n",
    "    lr_data[i]=le.fit_transform(lr_data[i])"
   ]
  },
  {
   "cell_type": "code",
   "execution_count": 121,
   "id": "f90abaa1",
   "metadata": {},
   "outputs": [
    {
     "name": "stdout",
     "output_type": "stream",
     "text": [
      "<class 'pandas.core.frame.DataFrame'>\n",
      "Int64Index: 116927 entries, 2 to 119389\n",
      "Data columns (total 34 columns):\n",
      " #   Column                          Non-Null Count   Dtype  \n",
      "---  ------                          --------------   -----  \n",
      " 0   hotel                           116927 non-null  int32  \n",
      " 1   is_canceled                     116927 non-null  int64  \n",
      " 2   lead_time                       116927 non-null  int64  \n",
      " 3   arrival_date_year               116927 non-null  int64  \n",
      " 4   arrival_date_month              116927 non-null  int32  \n",
      " 5   arrival_date_week_number        116927 non-null  int64  \n",
      " 6   arrival_date_day_of_month       116927 non-null  int64  \n",
      " 7   stays_in_weekend_nights         116927 non-null  int64  \n",
      " 8   stays_in_week_nights            116927 non-null  int64  \n",
      " 9   adults                          116927 non-null  int64  \n",
      " 10  children                        116927 non-null  float64\n",
      " 11  babies                          116927 non-null  int64  \n",
      " 12  meal                            116927 non-null  int32  \n",
      " 13  country                         116927 non-null  int32  \n",
      " 14  market_segment                  116927 non-null  int32  \n",
      " 15  distribution_channel            116927 non-null  int32  \n",
      " 16  is_repeated_guest               116927 non-null  int64  \n",
      " 17  previous_cancellations          116927 non-null  int64  \n",
      " 18  previous_bookings_not_canceled  116927 non-null  int64  \n",
      " 19  reserved_room_type              116927 non-null  int32  \n",
      " 20  assigned_room_type              116927 non-null  int32  \n",
      " 21  booking_changes                 116927 non-null  int64  \n",
      " 22  deposit_type                    116927 non-null  int32  \n",
      " 23  agent                           116927 non-null  int32  \n",
      " 24  company                         116927 non-null  int32  \n",
      " 25  days_in_waiting_list            116927 non-null  int64  \n",
      " 26  customer_type                   116927 non-null  int32  \n",
      " 27  adr                             116927 non-null  float64\n",
      " 28  required_car_parking_spaces     116927 non-null  int64  \n",
      " 29  total_of_special_requests       116927 non-null  int64  \n",
      " 30  reserved_assigned               116927 non-null  bool   \n",
      " 31  reservation date                116927 non-null  int32  \n",
      " 32  reservation month               116927 non-null  int64  \n",
      " 33  reservation year                116927 non-null  int64  \n",
      "dtypes: bool(1), float64(2), int32(13), int64(18)\n",
      "memory usage: 24.6 MB\n"
     ]
    }
   ],
   "source": [
    "lr_data.info()"
   ]
  },
  {
   "cell_type": "code",
   "execution_count": 122,
   "id": "5900b2f4",
   "metadata": {},
   "outputs": [],
   "source": [
    "### True False to 0 and 1\n",
    "lr_data['reserved_assigned']=lr_data['reserved_assigned'].apply(lambda x: 1 if x==True else 0 )"
   ]
  },
  {
   "cell_type": "code",
   "execution_count": 123,
   "id": "e09fda9e",
   "metadata": {},
   "outputs": [],
   "source": [
    "y = lr_data.is_canceled\n",
    "X = lr_data.drop(columns=['is_canceled','reservation year','arrival_date_year'])"
   ]
  },
  {
   "cell_type": "code",
   "execution_count": 124,
   "id": "6f6dcfcd",
   "metadata": {},
   "outputs": [],
   "source": [
    "from sklearn.preprocessing import StandardScaler"
   ]
  },
  {
   "cell_type": "code",
   "execution_count": 125,
   "id": "ee4c4e3b",
   "metadata": {},
   "outputs": [],
   "source": [
    "X_std = StandardScaler().fit_transform(X)"
   ]
  },
  {
   "cell_type": "code",
   "execution_count": 126,
   "id": "5ace1cc6",
   "metadata": {},
   "outputs": [],
   "source": [
    "from sklearn.linear_model import LogisticRegression\n",
    "from sklearn.tree import DecisionTreeClassifier\n",
    "from sklearn.ensemble import RandomForestClassifier\n",
    "from sklearn.neighbors import KNeighborsClassifier\n",
    "from sklearn.model_selection import KFold,GridSearchCV\n",
    "from sklearn.ensemble import AdaBoostClassifier\n",
    "from sklearn.ensemble import BaggingClassifier"
   ]
  },
  {
   "cell_type": "markdown",
   "id": "2bc41c48",
   "metadata": {},
   "source": [
    "### AUTOMATED CODES FOR MODEL AND PERFORMANCE"
   ]
  },
  {
   "cell_type": "code",
   "execution_count": 127,
   "id": "1900680d",
   "metadata": {},
   "outputs": [],
   "source": [
    "kf = KFold(n_splits=5, shuffle=True, random_state=42)"
   ]
  },
  {
   "cell_type": "code",
   "execution_count": 158,
   "id": "7a75e85e",
   "metadata": {},
   "outputs": [],
   "source": [
    "model_dict={'logreg':LogisticRegression(),\n",
    "            'Decision tree':DecisionTreeClassifier(),\n",
    "            'Random Forest':RandomForestClassifier(random_state=42),\n",
    "            'Ada Boost':AdaBoostClassifier(),\n",
    "           'KNN': KNeighborsClassifier(),\n",
    "           'Boosted RF' :AdaBoostClassifier(base_estimator=RandomForestClassifier(random_state=42)),\n",
    "           'XGBoost Classifier':XGBClassifier(random_state=20)}"
   ]
  },
  {
   "cell_type": "code",
   "execution_count": 159,
   "id": "289d52ce",
   "metadata": {
    "scrolled": true
   },
   "outputs": [
    {
     "name": "stderr",
     "output_type": "stream",
     "text": [
      "C:\\Users\\Lokavishruth\\Anaconda3\\lib\\site-packages\\sklearn\\neighbors\\_classification.py:228: FutureWarning: Unlike other reduction functions (e.g. `skew`, `kurtosis`), the default behavior of `mode` typically preserves the axis it acts along. In SciPy 1.11.0, this behavior will change: the default value of `keepdims` will become False, the `axis` over which the statistic is taken will be eliminated, and the value None will no longer be accepted. Set `keepdims` to True or False to avoid this warning.\n",
      "  mode, _ = stats.mode(_y[neigh_ind, k], axis=1)\n",
      "C:\\Users\\Lokavishruth\\Anaconda3\\lib\\site-packages\\sklearn\\neighbors\\_classification.py:228: FutureWarning: Unlike other reduction functions (e.g. `skew`, `kurtosis`), the default behavior of `mode` typically preserves the axis it acts along. In SciPy 1.11.0, this behavior will change: the default value of `keepdims` will become False, the `axis` over which the statistic is taken will be eliminated, and the value None will no longer be accepted. Set `keepdims` to True or False to avoid this warning.\n",
      "  mode, _ = stats.mode(_y[neigh_ind, k], axis=1)\n",
      "C:\\Users\\Lokavishruth\\Anaconda3\\lib\\site-packages\\sklearn\\neighbors\\_classification.py:228: FutureWarning: Unlike other reduction functions (e.g. `skew`, `kurtosis`), the default behavior of `mode` typically preserves the axis it acts along. In SciPy 1.11.0, this behavior will change: the default value of `keepdims` will become False, the `axis` over which the statistic is taken will be eliminated, and the value None will no longer be accepted. Set `keepdims` to True or False to avoid this warning.\n",
      "  mode, _ = stats.mode(_y[neigh_ind, k], axis=1)\n",
      "C:\\Users\\Lokavishruth\\Anaconda3\\lib\\site-packages\\sklearn\\neighbors\\_classification.py:228: FutureWarning: Unlike other reduction functions (e.g. `skew`, `kurtosis`), the default behavior of `mode` typically preserves the axis it acts along. In SciPy 1.11.0, this behavior will change: the default value of `keepdims` will become False, the `axis` over which the statistic is taken will be eliminated, and the value None will no longer be accepted. Set `keepdims` to True or False to avoid this warning.\n",
      "  mode, _ = stats.mode(_y[neigh_ind, k], axis=1)\n",
      "C:\\Users\\Lokavishruth\\Anaconda3\\lib\\site-packages\\sklearn\\neighbors\\_classification.py:228: FutureWarning: Unlike other reduction functions (e.g. `skew`, `kurtosis`), the default behavior of `mode` typically preserves the axis it acts along. In SciPy 1.11.0, this behavior will change: the default value of `keepdims` will become False, the `axis` over which the statistic is taken will be eliminated, and the value None will no longer be accepted. Set `keepdims` to True or False to avoid this warning.\n",
      "  mode, _ = stats.mode(_y[neigh_ind, k], axis=1)\n",
      "C:\\Users\\Lokavishruth\\Anaconda3\\lib\\site-packages\\sklearn\\neighbors\\_classification.py:228: FutureWarning: Unlike other reduction functions (e.g. `skew`, `kurtosis`), the default behavior of `mode` typically preserves the axis it acts along. In SciPy 1.11.0, this behavior will change: the default value of `keepdims` will become False, the `axis` over which the statistic is taken will be eliminated, and the value None will no longer be accepted. Set `keepdims` to True or False to avoid this warning.\n",
      "  mode, _ = stats.mode(_y[neigh_ind, k], axis=1)\n",
      "C:\\Users\\Lokavishruth\\Anaconda3\\lib\\site-packages\\sklearn\\neighbors\\_classification.py:228: FutureWarning: Unlike other reduction functions (e.g. `skew`, `kurtosis`), the default behavior of `mode` typically preserves the axis it acts along. In SciPy 1.11.0, this behavior will change: the default value of `keepdims` will become False, the `axis` over which the statistic is taken will be eliminated, and the value None will no longer be accepted. Set `keepdims` to True or False to avoid this warning.\n",
      "  mode, _ = stats.mode(_y[neigh_ind, k], axis=1)\n",
      "C:\\Users\\Lokavishruth\\Anaconda3\\lib\\site-packages\\sklearn\\neighbors\\_classification.py:228: FutureWarning: Unlike other reduction functions (e.g. `skew`, `kurtosis`), the default behavior of `mode` typically preserves the axis it acts along. In SciPy 1.11.0, this behavior will change: the default value of `keepdims` will become False, the `axis` over which the statistic is taken will be eliminated, and the value None will no longer be accepted. Set `keepdims` to True or False to avoid this warning.\n",
      "  mode, _ = stats.mode(_y[neigh_ind, k], axis=1)\n",
      "C:\\Users\\Lokavishruth\\Anaconda3\\lib\\site-packages\\sklearn\\neighbors\\_classification.py:228: FutureWarning: Unlike other reduction functions (e.g. `skew`, `kurtosis`), the default behavior of `mode` typically preserves the axis it acts along. In SciPy 1.11.0, this behavior will change: the default value of `keepdims` will become False, the `axis` over which the statistic is taken will be eliminated, and the value None will no longer be accepted. Set `keepdims` to True or False to avoid this warning.\n",
      "  mode, _ = stats.mode(_y[neigh_ind, k], axis=1)\n",
      "C:\\Users\\Lokavishruth\\Anaconda3\\lib\\site-packages\\sklearn\\neighbors\\_classification.py:228: FutureWarning: Unlike other reduction functions (e.g. `skew`, `kurtosis`), the default behavior of `mode` typically preserves the axis it acts along. In SciPy 1.11.0, this behavior will change: the default value of `keepdims` will become False, the `axis` over which the statistic is taken will be eliminated, and the value None will no longer be accepted. Set `keepdims` to True or False to avoid this warning.\n",
      "  mode, _ = stats.mode(_y[neigh_ind, k], axis=1)\n"
     ]
    }
   ],
   "source": [
    "\n",
    "model_f1_score=[]\n",
    "model_accuracy_score=[]\n",
    "model_f1_score_variance=[]\n",
    "model_accuracy_score_variance=[]\n",
    "for i in model_dict.values():\n",
    "    f1 = cross_val_score(estimator=i,X=X_std,y=y,scoring='f1_weighted',cv=kf)\n",
    "    acc = cross_val_score(estimator=i,X=X_std,y=y,scoring='accuracy',cv=kf)\n",
    "    model_f1_score.append(np.mean(f1))\n",
    "    model_accuracy_score.append(np.mean(acc))\n",
    "    model_f1_score_variance.append(np.std(f1))\n",
    "    model_accuracy_score_variance.append(np.std(acc))\n"
   ]
  },
  {
   "cell_type": "code",
   "execution_count": 160,
   "id": "13df5139",
   "metadata": {},
   "outputs": [],
   "source": [
    "model_stats=pd.DataFrame()\n",
    "model_stats['Model Name']=model_dict.keys()\n",
    "model_stats['Model F1 score'] = model_f1_score\n",
    "model_stats['Model Accuracy score'] = model_accuracy_score\n",
    "model_stats['Model F1 score variance error'] = model_f1_score_variance\n",
    "model_stats['Model Accuracy score variance error'] = model_accuracy_score_variance\n"
   ]
  },
  {
   "cell_type": "code",
   "execution_count": 161,
   "id": "f2aeaa8d",
   "metadata": {
    "scrolled": true
   },
   "outputs": [
    {
     "data": {
      "text/html": [
       "<div>\n",
       "<style scoped>\n",
       "    .dataframe tbody tr th:only-of-type {\n",
       "        vertical-align: middle;\n",
       "    }\n",
       "\n",
       "    .dataframe tbody tr th {\n",
       "        vertical-align: top;\n",
       "    }\n",
       "\n",
       "    .dataframe thead th {\n",
       "        text-align: right;\n",
       "    }\n",
       "</style>\n",
       "<table border=\"1\" class=\"dataframe\">\n",
       "  <thead>\n",
       "    <tr style=\"text-align: right;\">\n",
       "      <th></th>\n",
       "      <th>Model Name</th>\n",
       "      <th>Model F1 score</th>\n",
       "      <th>Model Accuracy score</th>\n",
       "      <th>Model F1 score variance error</th>\n",
       "      <th>Model Accuracy score variance error</th>\n",
       "    </tr>\n",
       "  </thead>\n",
       "  <tbody>\n",
       "    <tr>\n",
       "      <th>0</th>\n",
       "      <td>logreg</td>\n",
       "      <td>0.807336</td>\n",
       "      <td>0.813080</td>\n",
       "      <td>0.002957</td>\n",
       "      <td>0.002714</td>\n",
       "    </tr>\n",
       "    <tr>\n",
       "      <th>1</th>\n",
       "      <td>Decision tree</td>\n",
       "      <td>0.943228</td>\n",
       "      <td>0.942708</td>\n",
       "      <td>0.001169</td>\n",
       "      <td>0.001105</td>\n",
       "    </tr>\n",
       "    <tr>\n",
       "      <th>2</th>\n",
       "      <td>Random Forest</td>\n",
       "      <td>0.955891</td>\n",
       "      <td>0.956255</td>\n",
       "      <td>0.001002</td>\n",
       "      <td>0.000975</td>\n",
       "    </tr>\n",
       "    <tr>\n",
       "      <th>3</th>\n",
       "      <td>Ada Boost</td>\n",
       "      <td>0.838918</td>\n",
       "      <td>0.841730</td>\n",
       "      <td>0.001791</td>\n",
       "      <td>0.001651</td>\n",
       "    </tr>\n",
       "    <tr>\n",
       "      <th>4</th>\n",
       "      <td>KNN</td>\n",
       "      <td>0.875292</td>\n",
       "      <td>0.876342</td>\n",
       "      <td>0.001335</td>\n",
       "      <td>0.001293</td>\n",
       "    </tr>\n",
       "    <tr>\n",
       "      <th>5</th>\n",
       "      <td>Boosted RF</td>\n",
       "      <td>0.957690</td>\n",
       "      <td>0.956443</td>\n",
       "      <td>0.001858</td>\n",
       "      <td>0.001572</td>\n",
       "    </tr>\n",
       "    <tr>\n",
       "      <th>6</th>\n",
       "      <td>XGBoost Classifier</td>\n",
       "      <td>0.975270</td>\n",
       "      <td>0.975429</td>\n",
       "      <td>0.001611</td>\n",
       "      <td>0.001586</td>\n",
       "    </tr>\n",
       "  </tbody>\n",
       "</table>\n",
       "</div>"
      ],
      "text/plain": [
       "           Model Name  Model F1 score  Model Accuracy score  \\\n",
       "0              logreg        0.807336              0.813080   \n",
       "1       Decision tree        0.943228              0.942708   \n",
       "2       Random Forest        0.955891              0.956255   \n",
       "3           Ada Boost        0.838918              0.841730   \n",
       "4                 KNN        0.875292              0.876342   \n",
       "5          Boosted RF        0.957690              0.956443   \n",
       "6  XGBoost Classifier        0.975270              0.975429   \n",
       "\n",
       "   Model F1 score variance error  Model Accuracy score variance error  \n",
       "0                       0.002957                             0.002714  \n",
       "1                       0.001169                             0.001105  \n",
       "2                       0.001002                             0.000975  \n",
       "3                       0.001791                             0.001651  \n",
       "4                       0.001335                             0.001293  \n",
       "5                       0.001858                             0.001572  \n",
       "6                       0.001611                             0.001586  "
      ]
     },
     "execution_count": 161,
     "metadata": {},
     "output_type": "execute_result"
    }
   ],
   "source": [
    "model_stats"
   ]
  },
  {
   "cell_type": "code",
   "execution_count": 162,
   "id": "e6fe0fd5",
   "metadata": {},
   "outputs": [],
   "source": [
    "import matplotlib.pyplot as plt"
   ]
  },
  {
   "cell_type": "code",
   "execution_count": 163,
   "id": "4b84d495",
   "metadata": {},
   "outputs": [
    {
     "data": {
      "image/png": "[encoded data removed]",
      "text/plain": [
       "<Figure size 640x480 with 1 Axes>"
      ]
     },
     "metadata": {},
     "output_type": "display_data"
    },
    {
     "data": {
      "text/plain": [
       "(array([0, 1, 2, 3, 4, 5, 6]),\n",
       " [Text(0, 0, 'logreg'),\n",
       "  Text(1, 0, 'Decision tree'),\n",
       "  Text(2, 0, 'Random Forest'),\n",
       "  Text(3, 0, 'Ada Boost'),\n",
       "  Text(4, 0, 'KNN'),\n",
       "  Text(5, 0, 'Boosted RF'),\n",
       "  Text(6, 0, 'XGBoost Classifier')])"
      ]
     },
     "execution_count": 163,
     "metadata": {},
     "output_type": "execute_result"
    },
    {
     "data": {
      "image/png": "[encoded data removed]",
      "text/plain": [
       "<Figure size 640x480 with 1 Axes>"
      ]
     },
     "metadata": {},
     "output_type": "display_data"
    }
   ],
   "source": [
    "sns.barplot(y=model_stats['Model F1 score'],x=model_stats['Model Name'])\n",
    "plt.xticks(rotation=45)\n",
    "plt.show()\n",
    "sns.barplot(y=model_stats['Model Accuracy score'],x=model_stats['Model Name'])\n",
    "plt.xticks(rotation=45)"
   ]
  },
  {
   "cell_type": "markdown",
   "id": "4beb6a0d",
   "metadata": {},
   "source": [
    "### AUTOMATED CODE END"
   ]
  },
  {
   "cell_type": "markdown",
   "id": "5df770c7",
   "metadata": {},
   "source": [
    "### Hyper parameter tuning"
   ]
  },
  {
   "cell_type": "markdown",
   "id": "d2de94ab",
   "metadata": {},
   "source": [
    "#### Random Forest tuning"
   ]
  },
  {
   "cell_type": "code",
   "execution_count": 164,
   "id": "e7b8f940",
   "metadata": {},
   "outputs": [],
   "source": [
    "from sklearn.model_selection import RandomizedSearchCV"
   ]
  },
  {
   "cell_type": "code",
   "execution_count": 165,
   "id": "88cea46d",
   "metadata": {},
   "outputs": [
    {
     "data": {
      "text/plain": [
       "array([ 2,  6, 10, 14, 18, 22, 26, 30, 34, 38])"
      ]
     },
     "execution_count": 165,
     "metadata": {},
     "output_type": "execute_result"
    }
   ],
   "source": [
    "np.arange(2,40,4)"
   ]
  },
  {
   "cell_type": "code",
   "execution_count": 166,
   "id": "d8fec0e5",
   "metadata": {},
   "outputs": [],
   "source": [
    "params = {\"n_estimators\":[100,110,120,130],\n",
    "    \"criterion\":['gini','entropy'],\n",
    "    \"max_depth\":np.arange(10,40,4),\n",
    "    \"min_samples_split\":np.arange(1,10,2),\n",
    "    \"min_samples_leaf\":np.arange(1,10,2),\n",
    "   \"max_features\":['auto','sqrt','log2']\n",
    "         }"
   ]
  },
  {
   "cell_type": "code",
   "execution_count": 167,
   "id": "bf59c2e5",
   "metadata": {},
   "outputs": [],
   "source": [
    "rscv_rf = RandomizedSearchCV(estimator=RandomForestClassifier(random_state=42),\n",
    "    param_distributions=params,\n",
    "    scoring='accuracy',\n",
    "    n_jobs=-1,\n",
    "    cv=kf)"
   ]
  },
  {
   "cell_type": "code",
   "execution_count": 168,
   "id": "1733a842",
   "metadata": {},
   "outputs": [
    {
     "name": "stderr",
     "output_type": "stream",
     "text": [
      "C:\\Users\\Lokavishruth\\Anaconda3\\lib\\site-packages\\sklearn\\model_selection\\_validation.py:372: FitFailedWarning: \n",
      "10 fits failed out of a total of 50.\n",
      "The score on these train-test partitions for these parameters will be set to nan.\n",
      "If these failures are not expected, you can try to debug them by setting error_score='raise'.\n",
      "\n",
      "Below are more details about the failures:\n",
      "--------------------------------------------------------------------------------\n",
      "10 fits failed with the following error:\n",
      "Traceback (most recent call last):\n",
      "  File \"C:\\Users\\Lokavishruth\\Anaconda3\\lib\\site-packages\\sklearn\\model_selection\\_validation.py\", line 680, in _fit_and_score\n",
      "    estimator.fit(X_train, y_train, **fit_params)\n",
      "  File \"C:\\Users\\Lokavishruth\\Anaconda3\\lib\\site-packages\\sklearn\\ensemble\\_forest.py\", line 450, in fit\n",
      "    trees = Parallel(\n",
      "  File \"C:\\Users\\Lokavishruth\\Anaconda3\\lib\\site-packages\\joblib\\parallel.py\", line 1043, in __call__\n",
      "    if self.dispatch_one_batch(iterator):\n",
      "  File \"C:\\Users\\Lokavishruth\\Anaconda3\\lib\\site-packages\\joblib\\parallel.py\", line 861, in dispatch_one_batch\n",
      "    self._dispatch(tasks)\n",
      "  File \"C:\\Users\\Lokavishruth\\Anaconda3\\lib\\site-packages\\joblib\\parallel.py\", line 779, in _dispatch\n",
      "    job = self._backend.apply_async(batch, callback=cb)\n",
      "  File \"C:\\Users\\Lokavishruth\\Anaconda3\\lib\\site-packages\\joblib\\_parallel_backends.py\", line 208, in apply_async\n",
      "    result = ImmediateResult(func)\n",
      "  File \"C:\\Users\\Lokavishruth\\Anaconda3\\lib\\site-packages\\joblib\\_parallel_backends.py\", line 572, in __init__\n",
      "    self.results = batch()\n",
      "  File \"C:\\Users\\Lokavishruth\\Anaconda3\\lib\\site-packages\\joblib\\parallel.py\", line 262, in __call__\n",
      "    return [func(*args, **kwargs)\n",
      "  File \"C:\\Users\\Lokavishruth\\Anaconda3\\lib\\site-packages\\joblib\\parallel.py\", line 262, in <listcomp>\n",
      "    return [func(*args, **kwargs)\n",
      "  File \"C:\\Users\\Lokavishruth\\Anaconda3\\lib\\site-packages\\sklearn\\utils\\fixes.py\", line 216, in __call__\n",
      "    return self.function(*args, **kwargs)\n",
      "  File \"C:\\Users\\Lokavishruth\\Anaconda3\\lib\\site-packages\\sklearn\\ensemble\\_forest.py\", line 185, in _parallel_build_trees\n",
      "    tree.fit(X, y, sample_weight=curr_sample_weight, check_input=False)\n",
      "  File \"C:\\Users\\Lokavishruth\\Anaconda3\\lib\\site-packages\\sklearn\\tree\\_classes.py\", line 937, in fit\n",
      "    super().fit(\n",
      "  File \"C:\\Users\\Lokavishruth\\Anaconda3\\lib\\site-packages\\sklearn\\tree\\_classes.py\", line 250, in fit\n",
      "    raise ValueError(\n",
      "ValueError: min_samples_split must be an integer greater than 1 or a float in (0.0, 1.0]; got the integer 1\n",
      "\n",
      "  warnings.warn(some_fits_failed_message, FitFailedWarning)\n",
      "C:\\Users\\Lokavishruth\\Anaconda3\\lib\\site-packages\\sklearn\\model_selection\\_search.py:969: UserWarning: One or more of the test scores are non-finite: [0.94540181        nan 0.89640543 0.94842934 0.93632778 0.94550444\n",
      " 0.93596004        nan 0.87206546 0.86494135]\n",
      "  warnings.warn(\n"
     ]
    },
    {
     "data": {
      "text/plain": [
       "RandomizedSearchCV(cv=KFold(n_splits=5, random_state=42, shuffle=True),\n",
       "                   estimator=RandomForestClassifier(random_state=42), n_jobs=-1,\n",
       "                   param_distributions={'criterion': ['gini', 'entropy'],\n",
       "                                        'max_depth': array([10, 14, 18, 22, 26, 30, 34, 38]),\n",
       "                                        'max_features': ['auto', 'sqrt',\n",
       "                                                         'log2'],\n",
       "                                        'min_samples_leaf': array([1, 3, 5, 7, 9]),\n",
       "                                        'min_samples_split': array([1, 3, 5, 7, 9]),\n",
       "                                        'n_estimators': [100, 110, 120, 130]},\n",
       "                   scoring='accuracy')"
      ]
     },
     "execution_count": 168,
     "metadata": {},
     "output_type": "execute_result"
    }
   ],
   "source": [
    "rscv_rf.fit(X,y)"
   ]
  },
  {
   "cell_type": "code",
   "execution_count": 169,
   "id": "3678aef8",
   "metadata": {},
   "outputs": [],
   "source": [
    "tuned_rf=rscv_rf.best_estimator_"
   ]
  },
  {
   "cell_type": "code",
   "execution_count": 179,
   "id": "6165efbf",
   "metadata": {},
   "outputs": [
    {
     "data": {
      "text/plain": [
       "RandomForestClassifier(criterion='entropy', max_depth=34, max_features='sqrt',\n",
       "                       min_samples_leaf=3, min_samples_split=3,\n",
       "                       n_estimators=110, random_state=42)"
      ]
     },
     "execution_count": 179,
     "metadata": {},
     "output_type": "execute_result"
    }
   ],
   "source": [
    "tuned_rf"
   ]
  },
  {
   "cell_type": "code",
   "execution_count": 197,
   "id": "917c0a78",
   "metadata": {},
   "outputs": [
    {
     "data": {
      "text/plain": [
       "0.9484293366529549"
      ]
     },
     "execution_count": 197,
     "metadata": {},
     "output_type": "execute_result"
    }
   ],
   "source": [
    "np.mean(cross_val_score(estimator=tuned_rf,X=X,y=y,scoring='accuracy',cv=kf))"
   ]
  },
  {
   "cell_type": "code",
   "execution_count": 171,
   "id": "899393c6",
   "metadata": {},
   "outputs": [
    {
     "data": {
      "image/png": "[encoded data removed]",
      "text/plain": [
       "<Figure size 640x480 with 1 Axes>"
      ]
     },
     "metadata": {},
     "output_type": "display_data"
    }
   ],
   "source": [
    "sns.barplot(y=tuned_rf.feature_importances_,x=X.columns)\n",
    "plt.xticks(rotation=90)\n",
    "plt.show()"
   ]
  },
  {
   "cell_type": "markdown",
   "id": "c8ea1559",
   "metadata": {},
   "source": [
    "#### XGBoost Tuning"
   ]
  },
  {
   "cell_type": "code",
   "execution_count": 172,
   "id": "efdd8978",
   "metadata": {},
   "outputs": [],
   "source": [
    "from xgboost import XGBClassifier"
   ]
  },
  {
   "cell_type": "code",
   "execution_count": 191,
   "id": "c3f52ef5",
   "metadata": {},
   "outputs": [],
   "source": [
    "xgb = XGBClassifier(random_state=20)"
   ]
  },
  {
   "cell_type": "code",
   "execution_count": 192,
   "id": "0d8a366d",
   "metadata": {},
   "outputs": [
    {
     "data": {
      "text/plain": [
       "0.9754290991792539"
      ]
     },
     "execution_count": 192,
     "metadata": {},
     "output_type": "execute_result"
    }
   ],
   "source": [
    "np.mean(cross_val_score(estimator=xgb,X=X,y=y,scoring='accuracy',cv=kf))"
   ]
  },
  {
   "cell_type": "code",
   "execution_count": 195,
   "id": "1fc1ed3f",
   "metadata": {},
   "outputs": [
    {
     "data": {
      "text/plain": [
       "XGBClassifier(base_score=0.5, booster='gbtree', callbacks=None,\n",
       "              colsample_bylevel=1, colsample_bynode=1, colsample_bytree=1,\n",
       "              early_stopping_rounds=None, enable_categorical=False,\n",
       "              eval_metric=None, feature_types=None, gamma=0, gpu_id=-1,\n",
       "              grow_policy='depthwise', importance_type=None,\n",
       "              interaction_constraints='', learning_rate=0.300000012,\n",
       "              max_bin=256, max_cat_threshold=64, max_cat_to_onehot=4,\n",
       "              max_delta_step=0, max_depth=6, max_leaves=0, min_child_weight=1,\n",
       "              missing=nan, monotone_constraints='()', n_estimators=100,\n",
       "              n_jobs=0, num_parallel_tree=1, predictor='auto', random_state=20, ...)"
      ]
     },
     "execution_count": 195,
     "metadata": {},
     "output_type": "execute_result"
    }
   ],
   "source": [
    "xgb.fit(X,y)"
   ]
  },
  {
   "cell_type": "code",
   "execution_count": 196,
   "id": "de0dd426",
   "metadata": {
    "scrolled": true
   },
   "outputs": [
    {
     "data": {
      "image/png": "[encoded data removed]",
      "text/plain": [
       "<Figure size 640x480 with 1 Axes>"
      ]
     },
     "metadata": {},
     "output_type": "display_data"
    }
   ],
   "source": [
    "sns.barplot(y=xgb.feature_importances_,x=X.columns)\n",
    "plt.xticks(rotation=90)\n",
    "plt.show()"
   ]
  },
  {
   "cell_type": "markdown",
   "id": "a460b5e1",
   "metadata": {},
   "source": [
    "# ROC_AUC score for the models"
   ]
  },
  {
   "cell_type": "code",
   "execution_count": 286,
   "id": "b80fa0ec",
   "metadata": {},
   "outputs": [],
   "source": [
    "from sklearn.model_selection import train_test_split as tts\n",
    "\n"
   ]
  },
  {
   "cell_type": "code",
   "execution_count": 287,
   "id": "e71491a3",
   "metadata": {},
   "outputs": [],
   "source": [
    "X_train, X_test, Y_train, Y_test = tts(X, y, test_size = 0.33, random_state = 42, stratify = y)"
   ]
  },
  {
   "cell_type": "code",
   "execution_count": 288,
   "id": "78604843",
   "metadata": {},
   "outputs": [],
   "source": [
    "from sklearn.metrics import roc_auc_score,roc_curve"
   ]
  },
  {
   "cell_type": "code",
   "execution_count": 289,
   "id": "0b0f46a4",
   "metadata": {},
   "outputs": [],
   "source": [
    "import sklearn.metrics as metrics"
   ]
  },
  {
   "cell_type": "code",
   "execution_count": 296,
   "id": "7fa187fe",
   "metadata": {},
   "outputs": [],
   "source": [
    "model_dict_roc={'logreg':LogisticRegression(),\n",
    "            'Decision tree':DecisionTreeClassifier(),\n",
    "            'Random Forest':RandomForestClassifier(random_state=42),\n",
    "            'Ada Boost':AdaBoostClassifier(),\n",
    "           'Boosted RF' :AdaBoostClassifier(base_estimator=RandomForestClassifier(random_state=42)),\n",
    "           'XGBoost Classifier':XGBClassifier(random_state=20)}"
   ]
  },
  {
   "cell_type": "code",
   "execution_count": 311,
   "id": "151a4bc4",
   "metadata": {},
   "outputs": [
    {
     "name": "stderr",
     "output_type": "stream",
     "text": [
      "C:\\Users\\Lokavishruth\\Anaconda3\\lib\\site-packages\\sklearn\\linear_model\\_logistic.py:814: ConvergenceWarning: lbfgs failed to converge (status=1):\n",
      "STOP: TOTAL NO. of ITERATIONS REACHED LIMIT.\n",
      "\n",
      "Increase the number of iterations (max_iter) or scale the data as shown in:\n",
      "    https://scikit-learn.org/stable/modules/preprocessing.html\n",
      "Please also refer to the documentation for alternative solver options:\n",
      "    https://scikit-learn.org/stable/modules/linear_model.html#logistic-regression\n",
      "  n_iter_i = _check_optimize_result(\n"
     ]
    }
   ],
   "source": [
    "model_roc_auc=[]\n",
    "for i in model_dict_roc.values():\n",
    "    i.fit(X_train,Y_train)\n",
    "    y_pred_proba = i.predict_proba(X_test)\n",
    "    fpr, tpr, thresholds = metrics.roc_curve(Y_test, y_pred_proba[:,1])\n",
    "    roc_auc = metrics.auc(fpr, tpr)\n",
    "    model_roc_auc.append(roc_auc)"
   ]
  },
  {
   "cell_type": "code",
   "execution_count": 313,
   "id": "ede08d92",
   "metadata": {},
   "outputs": [
    {
     "data": {
      "text/html": [
       "<div>\n",
       "<style scoped>\n",
       "    .dataframe tbody tr th:only-of-type {\n",
       "        vertical-align: middle;\n",
       "    }\n",
       "\n",
       "    .dataframe tbody tr th {\n",
       "        vertical-align: top;\n",
       "    }\n",
       "\n",
       "    .dataframe thead th {\n",
       "        text-align: right;\n",
       "    }\n",
       "</style>\n",
       "<table border=\"1\" class=\"dataframe\">\n",
       "  <thead>\n",
       "    <tr style=\"text-align: right;\">\n",
       "      <th></th>\n",
       "      <th>Model Name</th>\n",
       "      <th>Roc Auc Score</th>\n",
       "    </tr>\n",
       "  </thead>\n",
       "  <tbody>\n",
       "    <tr>\n",
       "      <th>0</th>\n",
       "      <td>logreg</td>\n",
       "      <td>0.820637</td>\n",
       "    </tr>\n",
       "    <tr>\n",
       "      <th>1</th>\n",
       "      <td>Decision tree</td>\n",
       "      <td>0.933400</td>\n",
       "    </tr>\n",
       "    <tr>\n",
       "      <th>2</th>\n",
       "      <td>Random Forest</td>\n",
       "      <td>0.986486</td>\n",
       "    </tr>\n",
       "    <tr>\n",
       "      <th>3</th>\n",
       "      <td>Ada Boost</td>\n",
       "      <td>0.917491</td>\n",
       "    </tr>\n",
       "    <tr>\n",
       "      <th>4</th>\n",
       "      <td>Boosted RF</td>\n",
       "      <td>0.986284</td>\n",
       "    </tr>\n",
       "    <tr>\n",
       "      <th>5</th>\n",
       "      <td>XGBoost Classifier</td>\n",
       "      <td>0.994098</td>\n",
       "    </tr>\n",
       "  </tbody>\n",
       "</table>\n",
       "</div>"
      ],
      "text/plain": [
       "           Model Name  Roc Auc Score\n",
       "0              logreg       0.820637\n",
       "1       Decision tree       0.933400\n",
       "2       Random Forest       0.986486\n",
       "3           Ada Boost       0.917491\n",
       "4          Boosted RF       0.986284\n",
       "5  XGBoost Classifier       0.994098"
      ]
     },
     "execution_count": 313,
     "metadata": {},
     "output_type": "execute_result"
    }
   ],
   "source": [
    "best_roc_auc = pd.DataFrame()\n",
    "best_roc_auc['Model Name']=model_dict_roc.keys()\n",
    "best_roc_auc['Roc Auc Score'] = model_roc_auc\n",
    "best_roc_auc "
   ]
  },
  {
   "cell_type": "markdown",
   "id": "b80fed24",
   "metadata": {},
   "source": [
    "# Best Threshold value for Random Forest"
   ]
  },
  {
   "cell_type": "code",
   "execution_count": 324,
   "id": "8e4b4595",
   "metadata": {},
   "outputs": [
    {
     "data": {
      "text/plain": [
       "<sklearn.metrics._plot.roc_curve.RocCurveDisplay at 0x1f13355b1f0>"
      ]
     },
     "execution_count": 324,
     "metadata": {},
     "output_type": "execute_result"
    },
    {
     "data": {
      "image/png": "[encoded data removed]",
      "text/plain": [
       "<Figure size 640x480 with 1 Axes>"
      ]
     },
     "metadata": {},
     "output_type": "display_data"
    }
   ],
   "source": [
    "rf=RandomForestClassifier(random_state=42)\n",
    "rf.fit(X_train,Y_train)\n",
    "y_pred_proba = rf.predict_proba(X_test)\n",
    "fpr, tpr, thresholds = metrics.roc_curve(Y_test, y_pred_proba[:,1])\n",
    "roc_auc = metrics.auc(fpr, tpr)\n",
    "model_roc_auc.append(roc_auc)\n",
    "\n",
    "metrics.RocCurveDisplay(fpr=fpr, tpr=tpr, roc_auc=roc_auc,estimator_name='Random Forest Classifier').plot()"
   ]
  },
  {
   "cell_type": "code",
   "execution_count": 325,
   "id": "5ac83f66",
   "metadata": {
    "scrolled": false
   },
   "outputs": [
    {
     "data": {
      "text/html": [
       "<div>\n",
       "<style scoped>\n",
       "    .dataframe tbody tr th:only-of-type {\n",
       "        vertical-align: middle;\n",
       "    }\n",
       "\n",
       "    .dataframe tbody tr th {\n",
       "        vertical-align: top;\n",
       "    }\n",
       "\n",
       "    .dataframe thead th {\n",
       "        text-align: right;\n",
       "    }\n",
       "</style>\n",
       "<table border=\"1\" class=\"dataframe\">\n",
       "  <thead>\n",
       "    <tr style=\"text-align: right;\">\n",
       "      <th></th>\n",
       "      <th>TPR</th>\n",
       "      <th>FPR</th>\n",
       "      <th>Threshold</th>\n",
       "      <th>TPR-FPR</th>\n",
       "    </tr>\n",
       "  </thead>\n",
       "  <tbody>\n",
       "    <tr>\n",
       "      <th>61</th>\n",
       "      <td>0.927330</td>\n",
       "      <td>0.033884</td>\n",
       "      <td>0.40</td>\n",
       "      <td>0.893446</td>\n",
       "    </tr>\n",
       "    <tr>\n",
       "      <th>60</th>\n",
       "      <td>0.924848</td>\n",
       "      <td>0.031434</td>\n",
       "      <td>0.41</td>\n",
       "      <td>0.893414</td>\n",
       "    </tr>\n",
       "    <tr>\n",
       "      <th>59</th>\n",
       "      <td>0.922780</td>\n",
       "      <td>0.029483</td>\n",
       "      <td>0.42</td>\n",
       "      <td>0.893297</td>\n",
       "    </tr>\n",
       "    <tr>\n",
       "      <th>57</th>\n",
       "      <td>0.918436</td>\n",
       "      <td>0.025247</td>\n",
       "      <td>0.44</td>\n",
       "      <td>0.893189</td>\n",
       "    </tr>\n",
       "    <tr>\n",
       "      <th>56</th>\n",
       "      <td>0.916092</td>\n",
       "      <td>0.023295</td>\n",
       "      <td>0.45</td>\n",
       "      <td>0.892797</td>\n",
       "    </tr>\n",
       "  </tbody>\n",
       "</table>\n",
       "</div>"
      ],
      "text/plain": [
       "         TPR       FPR  Threshold   TPR-FPR\n",
       "61  0.927330  0.033884       0.40  0.893446\n",
       "60  0.924848  0.031434       0.41  0.893414\n",
       "59  0.922780  0.029483       0.42  0.893297\n",
       "57  0.918436  0.025247       0.44  0.893189\n",
       "56  0.916092  0.023295       0.45  0.892797"
      ]
     },
     "execution_count": 325,
     "metadata": {},
     "output_type": "execute_result"
    }
   ],
   "source": [
    "random_forest_threshold = pd.DataFrame()\n",
    "random_forest_threshold['TPR']=tpr\n",
    "random_forest_threshold['FPR']=fpr\n",
    "random_forest_threshold['Threshold']=thresholds\n",
    "random_forest_threshold['TPR-FPR']=random_forest_threshold['TPR']-random_forest_threshold['FPR']\n",
    "random_forest_threshold.sort_values('TPR-FPR',ascending=False).head(5)"
   ]
  },
  {
   "cell_type": "code",
   "execution_count": 326,
   "id": "87acc1fa",
   "metadata": {},
   "outputs": [],
   "source": [
    "y_pred = [1 if x>0.40 else 0 for x in y_pred_proba[:,1]]"
   ]
  },
  {
   "cell_type": "code",
   "execution_count": 327,
   "id": "61619d45",
   "metadata": {},
   "outputs": [
    {
     "data": {
      "text/plain": [
       "<AxesSubplot:>"
      ]
     },
     "execution_count": 327,
     "metadata": {},
     "output_type": "execute_result"
    },
    {
     "data": {
      "image/png": "[encoded data removed]",
      "text/plain": [
       "<Figure size 640x480 with 2 Axes>"
      ]
     },
     "metadata": {},
     "output_type": "display_data"
    }
   ],
   "source": [
    "sns.heatmap(sklearn.metrics.confusion_matrix(Y_test,y_pred),annot=True,cmap='hot_r')"
   ]
  },
  {
   "cell_type": "code",
   "execution_count": 328,
   "id": "edc8f49a",
   "metadata": {},
   "outputs": [
    {
     "name": "stdout",
     "output_type": "stream",
     "text": [
      "              precision    recall  f1-score   support\n",
      "\n",
      "           0       0.96      0.97      0.96     24082\n",
      "           1       0.95      0.92      0.94     14504\n",
      "\n",
      "    accuracy                           0.95     38586\n",
      "   macro avg       0.95      0.95      0.95     38586\n",
      "weighted avg       0.95      0.95      0.95     38586\n",
      "\n"
     ]
    }
   ],
   "source": [
    "print(sklearn.metrics.classification_report(Y_test,y_pred))"
   ]
  },
  {
   "cell_type": "markdown",
   "id": "727a1f93",
   "metadata": {},
   "source": [
    "# Best Threshold Value for XGBoost Classifier"
   ]
  },
  {
   "cell_type": "code",
   "execution_count": 329,
   "id": "1f8db542",
   "metadata": {},
   "outputs": [
    {
     "data": {
      "text/plain": [
       "<sklearn.metrics._plot.roc_curve.RocCurveDisplay at 0x1f125ce0cd0>"
      ]
     },
     "execution_count": 329,
     "metadata": {},
     "output_type": "execute_result"
    },
    {
     "data": {
      "image/png": "[encoded data removed]",
      "text/plain": [
       "<Figure size 640x480 with 1 Axes>"
      ]
     },
     "metadata": {},
     "output_type": "display_data"
    }
   ],
   "source": [
    "xgb=XGBClassifier(random_state=42)\n",
    "xgb.fit(X_train,Y_train)\n",
    "y_pred_proba = xgb.predict_proba(X_test)\n",
    "fpr, tpr, thresholds = metrics.roc_curve(Y_test, y_pred_proba[:,1])\n",
    "roc_auc = metrics.auc(fpr, tpr)\n",
    "model_roc_auc.append(roc_auc)\n",
    "\n",
    "metrics.RocCurveDisplay(fpr=fpr, tpr=tpr, roc_auc=roc_auc,estimator_name='XGBoost Classifier').plot()"
   ]
  },
  {
   "cell_type": "code",
   "execution_count": 330,
   "id": "c523780d",
   "metadata": {},
   "outputs": [
    {
     "data": {
      "text/html": [
       "<div>\n",
       "<style scoped>\n",
       "    .dataframe tbody tr th:only-of-type {\n",
       "        vertical-align: middle;\n",
       "    }\n",
       "\n",
       "    .dataframe tbody tr th {\n",
       "        vertical-align: top;\n",
       "    }\n",
       "\n",
       "    .dataframe thead th {\n",
       "        text-align: right;\n",
       "    }\n",
       "</style>\n",
       "<table border=\"1\" class=\"dataframe\">\n",
       "  <thead>\n",
       "    <tr style=\"text-align: right;\">\n",
       "      <th></th>\n",
       "      <th>TPR</th>\n",
       "      <th>FPR</th>\n",
       "      <th>Threshold</th>\n",
       "      <th>TPR-FPR</th>\n",
       "    </tr>\n",
       "  </thead>\n",
       "  <tbody>\n",
       "    <tr>\n",
       "      <th>2201</th>\n",
       "      <td>0.954771</td>\n",
       "      <td>0.010506</td>\n",
       "      <td>0.331945</td>\n",
       "      <td>0.944265</td>\n",
       "    </tr>\n",
       "    <tr>\n",
       "      <th>2202</th>\n",
       "      <td>0.954771</td>\n",
       "      <td>0.010547</td>\n",
       "      <td>0.331411</td>\n",
       "      <td>0.944224</td>\n",
       "    </tr>\n",
       "    <tr>\n",
       "      <th>2207</th>\n",
       "      <td>0.954978</td>\n",
       "      <td>0.010838</td>\n",
       "      <td>0.329285</td>\n",
       "      <td>0.944140</td>\n",
       "    </tr>\n",
       "    <tr>\n",
       "      <th>2203</th>\n",
       "      <td>0.954771</td>\n",
       "      <td>0.010672</td>\n",
       "      <td>0.331287</td>\n",
       "      <td>0.944099</td>\n",
       "    </tr>\n",
       "    <tr>\n",
       "      <th>2208</th>\n",
       "      <td>0.954978</td>\n",
       "      <td>0.010879</td>\n",
       "      <td>0.329091</td>\n",
       "      <td>0.944098</td>\n",
       "    </tr>\n",
       "  </tbody>\n",
       "</table>\n",
       "</div>"
      ],
      "text/plain": [
       "           TPR       FPR  Threshold   TPR-FPR\n",
       "2201  0.954771  0.010506   0.331945  0.944265\n",
       "2202  0.954771  0.010547   0.331411  0.944224\n",
       "2207  0.954978  0.010838   0.329285  0.944140\n",
       "2203  0.954771  0.010672   0.331287  0.944099\n",
       "2208  0.954978  0.010879   0.329091  0.944098"
      ]
     },
     "execution_count": 330,
     "metadata": {},
     "output_type": "execute_result"
    }
   ],
   "source": [
    "xg_threshold = pd.DataFrame()\n",
    "xg_threshold['TPR']=tpr\n",
    "xg_threshold['FPR']=fpr\n",
    "xg_threshold['Threshold']=thresholds\n",
    "xg_threshold['TPR-FPR']=xg_threshold['TPR']-xg_threshold['FPR']\n",
    "xg_threshold.sort_values('TPR-FPR',ascending=False).head(5)"
   ]
  },
  {
   "cell_type": "code",
   "execution_count": 331,
   "id": "d86a21d7",
   "metadata": {},
   "outputs": [],
   "source": [
    "y_pred = [1 if x>0.33 else 0 for x in y_pred_proba[:,1]]"
   ]
  },
  {
   "cell_type": "code",
   "execution_count": 332,
   "id": "50ac84f4",
   "metadata": {},
   "outputs": [
    {
     "data": {
      "text/plain": [
       "<AxesSubplot:>"
      ]
     },
     "execution_count": 332,
     "metadata": {},
     "output_type": "execute_result"
    },
    {
     "data": {
      "image/png": "[encoded data removed]",
      "text/plain": [
       "<Figure size 640x480 with 2 Axes>"
      ]
     },
     "metadata": {},
     "output_type": "display_data"
    }
   ],
   "source": [
    "sns.heatmap(sklearn.metrics.confusion_matrix(Y_test,y_pred),annot=True,cmap='hot_r')"
   ]
  },
  {
   "cell_type": "code",
   "execution_count": 2,
   "id": "21a9183e",
   "metadata": {},
   "outputs": [
    {
     "name": "stdout",
     "output_type": "stream",
     "text": [
      "Correctly classified: 98.0%\n",
      "Canceled bookings correctly classified: 95.0%\n",
      "Not canceled bookings correctly classified: 99.0%\n",
      "Bookings predicted canceled that are actually canceled: 98.0%\n",
      "Bookings predicted not canceled that are actually not canceled: 97.0%\n"
     ]
    }
   ],
   "source": [
    "TP = 14000\n",
    "# True Negatives:\n",
    "TN = 24000\n",
    "# False Posititives: \n",
    "FP = 260\n",
    "# False Negatives: \n",
    "FN = 660\n",
    "total = 14000+24000+260+660\n",
    "\n",
    "print(f'Correctly classified: {np.round((TP+TN)/total*100)}%')\n",
    "print(f'Canceled bookings correctly classified: {np.round(TP/(TP+FN)*100)}%')\n",
    "print(f'Not canceled bookings correctly classified: {np.round(TN/(TN+FP)*100)}%')\n",
    "print(f'Bookings predicted canceled that are actually canceled: {np.round(TP/(TP+FP)*100)}%')\n",
    "print(f'Bookings predicted not canceled that are actually not canceled: {np.round(TN/(TN+FN)*100)}%')"
   ]
  },
  {
   "cell_type": "code",
   "execution_count": 333,
   "id": "332b41f1",
   "metadata": {},
   "outputs": [
    {
     "name": "stdout",
     "output_type": "stream",
     "text": [
      "              precision    recall  f1-score   support\n",
      "\n",
      "           0       0.97      0.99      0.98     24082\n",
      "           1       0.98      0.95      0.97     14504\n",
      "\n",
      "    accuracy                           0.98     38586\n",
      "   macro avg       0.98      0.97      0.97     38586\n",
      "weighted avg       0.98      0.98      0.98     38586\n",
      "\n"
     ]
    }
   ],
   "source": [
    "print(sklearn.metrics.classification_report(Y_test,y_pred))"
   ]
  }
 ],
 "metadata": {
  "kernelspec": {
   "display_name": "Python 3 (ipykernel)",
   "language": "python",
   "name": "python3"
  },
  "language_info": {
   "codemirror_mode": {
    "name": "ipython",
    "version": 3
   },
   "file_extension": ".py",
   "mimetype": "text/x-python",
   "name": "python",
   "nbconvert_exporter": "python",
   "pygments_lexer": "ipython3",
   "version": "3.9.12"
  }
 },
 "nbformat": 4,
 "nbformat_minor": 5
}
